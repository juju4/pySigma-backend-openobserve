{
  "cells": [
    {
      "cell_type": "markdown",
      "metadata": {},
      "source": [
        "# OpenObserve Kunai - Msticpy - sigma rules conversion"
      ]
    },
    {
      "cell_type": "markdown",
      "metadata": {},
      "source": [
        "## Description\n",
        "This notebook helps to convert, review and transform sigma rules to openobserve queries and alerts.\n",
        "\n",
        "It leverages python_openobserve, msticpy and sigma.\n",
        "\n",
        "Known issue(s)\n",
        "* Alert import currently not working because of backend issue\n",
        "\n",
        "Last updated: 2025/06/01"
      ]
    },
    {
      "cell_type": "markdown",
      "metadata": {},
      "source": [
        "### Installation"
      ]
    },
    {
      "cell_type": "code",
      "execution_count": null,
      "metadata": {},
      "outputs": [],
      "source": [
        "# Only run first time to install/upgrade msticpy to latest version\n",
        "# %pip install --upgrade msticpy"
      ]
    },
    {
      "cell_type": "markdown",
      "metadata": {},
      "source": [
        "### Setup"
      ]
    },
    {
      "cell_type": "code",
      "execution_count": 1,
      "metadata": {},
      "outputs": [
        {
          "name": "stdout",
          "output_type": "stream",
          "text": [
            "Imports Complete\n"
          ]
        }
      ],
      "source": [
        "# Check we are running Python 3.6\n",
        "import sys\n",
        "\n",
        "MIN_REQ_PYTHON = (3, 6)\n",
        "if sys.version_info < MIN_REQ_PYTHON:\n",
        "    print(\"Check the Kernel->Change Kernel menu and ensure that Python 3.6\")\n",
        "    print(\"or later is selected as the active kernel.\")\n",
        "    sys.exit(\"Python %s.%s or later is required.\\n\" % MIN_REQ_PYTHON)\n",
        "\n",
        "# imports\n",
        "import pandas as pd\n",
        "from datetime import datetime, timedelta\n",
        "\n",
        "# data library imports\n",
        "from msticpy.data.data_providers import QueryProvider\n",
        "\n",
        "print(\"Imports Complete\")"
      ]
    },
    {
      "cell_type": "code",
      "execution_count": 2,
      "metadata": {},
      "outputs": [],
      "source": [
        "# to create alerts\n",
        "import json\n",
        "from python_openobserve.openobserve import OpenObserve"
      ]
    },
    {
      "cell_type": "code",
      "execution_count": 3,
      "metadata": {},
      "outputs": [],
      "source": [
        "import os\n",
        "\n",
        "# Custom Certificate Authority?\n",
        "os.environ[\"REQUESTS_CA_BUNDLE\"] = os.environ[\"HOME\"] + \"/tmp/ca-bundle-internal.pem\""
      ]
    },
    {
      "cell_type": "code",
      "execution_count": 4,
      "metadata": {},
      "outputs": [],
      "source": [
        "# use custom config file?\n",
        "# os.environ['MSTICPYCONFIG'] = '/path/to/msticpyconfig.yaml'"
      ]
    },
    {
      "cell_type": "code",
      "metadata": {},
      "outputs": [
        {
          "data": {
            "application/vnd.jupyter.widget-view+json": {
              "model_id": "89266304a18f44adab640ea3b64b25ff",
              "version_major": 2,
              "version_minor": 0
            },
            "text/plain": [
              "VBox(children=(Textarea(value='{}', layout=Layout(height='300px', width='99%')), Button(description='Close vie\u2026"
            ]
          },
          "metadata": {},
          "output_type": "display_data"
        }
      ],
      "source": [
        "# FIXME! does not get MSTICPYCONFIG...\n",
        "from msticpy.config import MpConfigFile, MpConfigEdit\n",
        "\n",
        "mpconfig = MpConfigFile()\n",
        "mpconfig.load_default()\n",
        "mpconfig.view_settings()\n",
        "# mpedit = MpConfigEdit()\n",
        "# mpedit"
      ]
    },
    {
      "cell_type": "markdown",
      "metadata": {},
      "source": [
        "\n",
        "## Instantiating a query provider\n",
        "\n",
        "You can instantiate a data provider for OpenObserve by specifying the credentials in connect or in msticpy config file. \n",
        "<br> If the details are correct and authentication is successful, it will show connected."
      ]
    },
    {
      "cell_type": "code",
      "metadata": {},
      "outputs": [
        {
          "name": "stdout",
          "output_type": "stream",
          "text": [
            "connected with user root@example.com\n"
          ]
        }
      ],
      "source": [
        "openobserve_prov = QueryProvider(\"OpenObserve\")\n",
        "# openobserve_prov.connect(connection_str=<url>, user=<user>, password=<password>)\n",
        "# openobserve_prov.connect()\n",
        "openobserve_prov.connect(\n",
        "    connection_str=\"https://openobserve.example.com\",\n",
        "    user=\"root@example.com\",\n",
        "    password=\"root@example.com\",\n",
        ")"
      ]
    },
    {
      "cell_type": "markdown",
      "metadata": {},
      "source": [
        "## Running test OpenObserve query"
      ]
    },
    {
      "cell_type": "code",
      "execution_count": 7,
      "metadata": {},
      "outputs": [
        {
          "name": "stdout",
          "output_type": "stream",
          "text": [
            "INFO: from 2025-05-31 17:21:55.960345 to 2025-06-01 17:21:55.960345, TZ UTC\n",
            "'Query Time start 1748712115960345 end 1748798515960345'\n",
            "{'query': {'end_time': 1748798515960345,\n",
            "           'sql': '\\n'\n",
            "                  'SELECT log_file_name,count(*) FROM \"default\" GROUP BY '\n",
            "                  'log_file_name\\n',\n",
            "           'start_time': 1748712115960345}}\n",
            "DEBUG: results shape (1, 2)\n"
          ]
        },
        {
          "data": {
            "text/html": [
              "<div>\n",
              "<style scoped>\n",
              "    .dataframe tbody tr th:only-of-type {\n",
              "        vertical-align: middle;\n",
              "    }\n",
              "\n",
              "    .dataframe tbody tr th {\n",
              "        vertical-align: top;\n",
              "    }\n",
              "\n",
              "    .dataframe thead th {\n",
              "        text-align: right;\n",
              "    }\n",
              "</style>\n",
              "<table border=\"1\" class=\"dataframe\">\n",
              "  <thead>\n",
              "    <tr style=\"text-align: right;\">\n",
              "      <th></th>\n",
              "      <th>count(*)</th>\n",
              "      <th>log_file_name</th>\n",
              "    </tr>\n",
              "  </thead>\n",
              "  <tbody>\n",
              "    <tr>\n",
              "      <th>0</th>\n",
              "      <td>5</td>\n",
              "      <td>history.log</td>\n",
              "    </tr>\n",
              "  </tbody>\n",
              "</table>\n",
              "</div>"
            ],
            "text/plain": [
              "   count(*) log_file_name\n",
              "0         5   history.log"
            ]
          },
          "execution_count": 7,
          "metadata": {},
          "output_type": "execute_result"
        }
      ],
      "source": [
        "openobserve_query = \"\"\"\n",
        "SELECT log_file_name,count(*) FROM \"default\" GROUP BY log_file_name\n",
        "\"\"\"\n",
        "df = openobserve_prov.exec_query(openobserve_query, days=1, verbosity=1)\n",
        "df.head()"
      ]
    },
    {
      "cell_type": "code",
      "execution_count": 8,
      "metadata": {},
      "outputs": [
        {
          "data": {
            "text/html": [
              "<div>\n",
              "<style scoped>\n",
              "    .dataframe tbody tr th:only-of-type {\n",
              "        vertical-align: middle;\n",
              "    }\n",
              "\n",
              "    .dataframe tbody tr th {\n",
              "        vertical-align: top;\n",
              "    }\n",
              "\n",
              "    .dataframe thead th {\n",
              "        text-align: right;\n",
              "    }\n",
              "</style>\n",
              "<table border=\"1\" class=\"dataframe\">\n",
              "  <thead>\n",
              "    <tr style=\"text-align: right;\">\n",
              "      <th></th>\n",
              "      <th>body__systemd_unit</th>\n",
              "      <th>count(*)</th>\n",
              "    </tr>\n",
              "  </thead>\n",
              "  <tbody>\n",
              "    <tr>\n",
              "      <th>0</th>\n",
              "      <td>ssh.service</td>\n",
              "      <td>30301</td>\n",
              "    </tr>\n",
              "    <tr>\n",
              "      <th>1</th>\n",
              "      <td>wpa_supplicant.service</td>\n",
              "      <td>7959</td>\n",
              "    </tr>\n",
              "    <tr>\n",
              "      <th>2</th>\n",
              "      <td>cron.service</td>\n",
              "      <td>5103</td>\n",
              "    </tr>\n",
              "    <tr>\n",
              "      <th>3</th>\n",
              "      <td>init.scope</td>\n",
              "      <td>3820</td>\n",
              "    </tr>\n",
              "    <tr>\n",
              "      <th>4</th>\n",
              "      <td>NaN</td>\n",
              "      <td>1350</td>\n",
              "    </tr>\n",
              "  </tbody>\n",
              "</table>\n",
              "</div>"
            ],
            "text/plain": [
              "       body__systemd_unit  count(*)\n",
              "0             ssh.service     30301\n",
              "1  wpa_supplicant.service      7959\n",
              "2            cron.service      5103\n",
              "3              init.scope      3820\n",
              "4                     NaN      1350"
            ]
          },
          "execution_count": 8,
          "metadata": {},
          "output_type": "execute_result"
        }
      ],
      "source": [
        "openobserve_query = \"\"\"SELECT body__systemd_unit, count(*) FROM \"journald\" group by body__systemd_unit order by count(*) desc\"\"\"\n",
        "df = openobserve_prov.exec_query(\n",
        "    openobserve_query,\n",
        "    start_time=datetime.now() - timedelta(days=1),\n",
        "    end_time=datetime.now() - timedelta(days=0),\n",
        ")\n",
        "df.head()"
      ]
    },
    {
      "cell_type": "markdown",
      "metadata": {},
      "source": [
        "##\u00a0Sigma settings"
      ]
    },
    {
      "cell_type": "code",
      "execution_count": 9,
      "metadata": {},
      "outputs": [],
      "source": [
        "rulesdir = os.environ[\"HOME\"] + \"/tmp/sigma/rules/linux/network_connection\"\n",
        "pipeline_f = (\n",
        "    os.environ[\"HOME\"]\n",
        "    + \"/tmp/pySigma-backend-openobserve/sigma/pipelines/openobserve/kunai.yml\"\n",
        ")\n",
        "table_name = \"kunai\""
      ]
    },
    {
      "cell_type": "markdown",
      "metadata": {},
      "source": [
        "## Sigma functions"
      ]
    },
    {
      "cell_type": "code",
      "execution_count": 10,
      "metadata": {},
      "outputs": [],
      "source": [
        "import pathlib\n",
        "\n",
        "from sigma.collection import SigmaCollection\n",
        "from sigma.backends.openobserve import openobserve\n",
        "from sigma.pipelines.sysmon import sysmon_pipeline\n",
        "from sigma.pipelines.common import logsource_linux_process_creation\n",
        "from sigma.pipelines.common import logsource_linux_file_create\n",
        "from sigma.pipelines.common import logsource_linux_network_connection\n",
        "\n",
        "from sigma.processing.resolver import ProcessingPipelineResolver\n",
        "\n",
        "# Create the pipeline resolver\n",
        "piperesolver = ProcessingPipelineResolver()\n",
        "# Add pipelines\n",
        "piperesolver.add_pipeline_class(sysmon_pipeline())  # Sysmon\n",
        "# FIXME! AttributeError: 'LogsourceCondition' object has no attribute 'name'\n",
        "# piperesolver.add_pipeline_class(logsource_linux_process_creation()) # Linux\n",
        "# piperesolver.add_pipeline_class(logsource_linux_file_create()) # Linux\n",
        "# piperesolver.add_pipeline_class(logsource_linux_network_connection()) # Linux\n",
        "# Create a combined pipeline\n",
        "combined_pipeline = piperesolver.resolve(piperesolver.pipelines)\n",
        "# Instantiate backend using the combined pipeline\n",
        "openobserve_backend = openobserve.openobserveBackend(combined_pipeline)"
      ]
    },
    {
      "cell_type": "code",
      "execution_count": 11,
      "metadata": {},
      "outputs": [],
      "source": [
        "from subprocess import check_output\n",
        "import sqlglot"
      ]
    },
    {
      "cell_type": "code",
      "execution_count": 12,
      "metadata": {},
      "outputs": [],
      "source": [
        "# `sigma convert -t openobserve -p ../pySigma-backend-openobserve/sigma/pipelines/openobserve/kunai.yml ../sigma/rules/linux/process_creation/proc_creation_lnx_doas_execution.yml`\n",
        "# https://github.com/SigmaHQ/sigma-cli/blob/main/sigma/cli/convert.py#L8\n",
        "from sigma.exceptions import (\n",
        "    SigmaError,\n",
        "    SigmaPipelineNotAllowedForBackendError,\n",
        "    SigmaPipelineNotFoundError,\n",
        ")\n",
        "from sigma.plugins import InstalledSigmaPlugins\n",
        "\n",
        "plugins = InstalledSigmaPlugins.autodiscover()\n",
        "backends = plugins.backends\n",
        "pipelines = plugins.pipelines\n",
        "pipeline_resolver = plugins.get_pipeline_resolver()"
      ]
    },
    {
      "cell_type": "code",
      "execution_count": 13,
      "metadata": {},
      "outputs": [
        {
          "data": {
            "text/plain": [
              "{'sysmon': <sigma.pipelines.base.Pipeline at 0x79bd4c050980>,\n",
              " 'windows-logsources': <function sigma.pipelines.windows.windows.windows_logsource_pipeline() -> sigma.processing.pipeline.ProcessingPipeline>,\n",
              " 'windows-audit': <function sigma.pipelines.windows.windows.windows_audit_pipeline() -> sigma.processing.pipeline.ProcessingPipeline>}"
            ]
          },
          "execution_count": 13,
          "metadata": {},
          "output_type": "execute_result"
        }
      ],
      "source": [
        "pipelines"
      ]
    },
    {
      "cell_type": "code",
      "execution_count": 14,
      "metadata": {},
      "outputs": [
        {
          "data": {
            "text/plain": [
              "ProcessingPipelineResolver(pipelines={'sysmon': <sigma.pipelines.base.Pipeline object at 0x79bd4c050980>, 'windows-logsources': <function windows_logsource_pipeline at 0x79bd4c0934c0>, 'windows-audit': <function windows_audit_pipeline at 0x79bd4c093560>})"
            ]
          },
          "execution_count": 14,
          "metadata": {},
          "output_type": "execute_result"
        }
      ],
      "source": [
        "pipeline_resolver"
      ]
    },
    {
      "cell_type": "code",
      "execution_count": null,
      "metadata": {},
      "outputs": [],
      "source": [
        "# https://github.com/SigmaHQ/sigma-cli/blob/main/sigma/cli/convert.py#L225\n",
        "try:\n",
        "    processing_pipeline = pipeline_resolver.resolve(pipeline_f, None)\n",
        "except SigmaPipelineNotFoundError as e:\n",
        "    raise (f\"The pipeline '{e}' was not found.\\n\")"
      ]
    },
    {
      "cell_type": "code",
      "execution_count": 15,
      "metadata": {},
      "outputs": [
        {
          "name": "stdout",
          "output_type": "stream",
          "text": [
            "Processing rule file /home/user/tmp/sigma/rules/linux/network_connection/net_connection_lnx_crypto_mining_indicators.yml\n",
            "```SELECT * FROM \"kunai\" WHERE DestinationHostname='pool.minexmr.com' OR DestinationHostname='fr.minexmr.com' OR DestinationHostname='de.minexmr.com' OR DestinationHostname='sg.minexmr.com' OR DestinationHostname='ca.minexmr.com' OR DestinationHostname='us-west.minexmr.com' OR DestinationHostname='pool.supportxmr.com' OR DestinationHostname='mine.c3pool.com' OR DestinationHostname='xmr-eu1.nanopool.org' OR DestinationHostname='xmr-eu2.nanopool.org' OR DestinationHostname='xmr-us-east1.nanopool.org' OR DestinationHostname='xmr-us-west1.nanopool.org' OR DestinationHostname='xmr-asia1.nanopool.org' OR DestinationHostname='xmr-jp1.nanopool.org' OR DestinationHostname='xmr-au1.nanopool.org' OR DestinationHostname='xmr.2miners.com' OR DestinationHostname='xmr.hashcity.org' OR DestinationHostname='xmr.f2pool.com' OR DestinationHostname='xmrpool.eu' OR DestinationHostname='pool.hashvault.pro' OR DestinationHostname='moneroocean.stream' OR DestinationHostname='monerocean.stream'```\n",
            "Processing rule file /home/user/tmp/sigma/rules/linux/network_connection/net_connection_lnx_back_connect_shell_dev.yml\n",
            "```SELECT * FROM \"kunai\" WHERE Image LIKE '%/bin/bash' AND (NOT (DestinationIp='127.0.0.1' OR DestinationIp='0.0.0.0'))```\n",
            "Processing rule file /home/user/tmp/sigma/rules/linux/network_connection/net_connection_lnx_domain_localtonet_tunnel.yml\n",
            "```SELECT * FROM \"kunai\" WHERE (DestinationHostname LIKE '%.localto.net' OR DestinationHostname LIKE '%.localtonet.com') AND Initiated='true'```\n",
            "Processing rule file /home/user/tmp/sigma/rules/linux/network_connection/net_connection_lnx_susp_malware_callback_port.yml\n",
            "```SELECT * FROM \"kunai\" WHERE (Initiated='true' AND (DestinationPort=888 OR DestinationPort=999 OR DestinationPort=2200 OR DestinationPort=2222 OR DestinationPort=4000 OR DestinationPort=4444 OR DestinationPort=6789 OR DestinationPort=8531 OR DestinationPort=50501 OR DestinationPort=51820)) AND (NOT (DestinationIp LIKE '127.%' OR DestinationIp LIKE '10.%' OR DestinationIp LIKE '172.16.%' OR DestinationIp LIKE '172.17.%' OR DestinationIp LIKE '172.18.%' OR DestinationIp LIKE '172.19.%' OR DestinationIp LIKE '172.20.%' OR DestinationIp LIKE '172.21.%' OR DestinationIp LIKE '172.22.%' OR DestinationIp LIKE '172.23.%' OR DestinationIp LIKE '172.24.%' OR DestinationIp LIKE '172.25.%' OR DestinationIp LIKE '172.26.%' OR DestinationIp LIKE '172.27.%' OR DestinationIp LIKE '172.28.%' OR DestinationIp LIKE '172.29.%' OR DestinationIp LIKE '172.30.%' OR DestinationIp LIKE '172.31.%' OR DestinationIp LIKE '192.168.%' OR DestinationIp LIKE '169.254.%' OR DestinationIp='::1/128' OR DestinationIp LIKE 'fe8%' OR DestinationIp LIKE 'fe9%' OR DestinationIp LIKE 'fea%' OR DestinationIp LIKE 'feb%' OR DestinationIp LIKE 'fc%' OR DestinationIp LIKE 'fd%'))```\n",
            "Processing rule file /home/user/tmp/sigma/rules/linux/network_connection/net_connection_lnx_ngrok_tunnel.yml\n",
            "```SELECT * FROM \"kunai\" WHERE DestinationHostname LIKE '%tunnel.us.ngrok.com%' OR DestinationHostname LIKE '%tunnel.eu.ngrok.com%' OR DestinationHostname LIKE '%tunnel.ap.ngrok.com%' OR DestinationHostname LIKE '%tunnel.au.ngrok.com%' OR DestinationHostname LIKE '%tunnel.sa.ngrok.com%' OR DestinationHostname LIKE '%tunnel.jp.ngrok.com%' OR DestinationHostname LIKE '%tunnel.in.ngrok.com%'```\n"
          ]
        }
      ],
      "source": [
        "# FIXME! field names not converted\n",
        "for rule_f in pathlib.Path(rulesdir).iterdir():\n",
        "    # print(f\"Listed rule file {rule_f}\")\n",
        "    if not rule_f.is_file():  # or str(rule_f).endswith('.yml'):\n",
        "        print(f\"Skipping rule file {rule_f}\")\n",
        "        continue\n",
        "    with open(rule_f, \"r\", encoding=\"utf-8\") as f:\n",
        "        # print(f\"Reading rule file {rule_f}\")\n",
        "        rule_y = f.read()\n",
        "    print(f\"Processing rule file {rule_f}\")\n",
        "    rule = SigmaCollection.from_yaml(rule_y)\n",
        "    rule_sql = openobserve_backend.convert(rule)[0]\n",
        "    rule_sql = rule_sql.replace(\"<TABLE_NAME>\", f'\"{table_name}\"')\n",
        "    # verify sql\n",
        "    try:\n",
        "        sqlglot.transpile(rule_sql)\n",
        "    except sqlglot.errors.ParseError as e:\n",
        "        raise e\n",
        "    print(f\"```{rule_sql}```\")"
      ]
    },
    {
      "cell_type": "code",
      "execution_count": null,
      "metadata": {},
      "outputs": [],
      "source": []
    },
    {
      "cell_type": "code",
      "execution_count": 16,
      "metadata": {},
      "outputs": [],
      "source": [
        "# `sigma convert -t openobserve -p ../pySigma-backend-openobserve/sigma/pipelines/openobserve/kunai.yml ../sigma/rules/linux/process_creation/proc_creation_lnx_doas_execution.yml`\n",
        "def convert_rulesdir(\n",
        "    openobserve_prov,\n",
        "    rulesdir,\n",
        "    pipeline_f,\n",
        "    table_name,\n",
        "    stats=False,\n",
        "    limit=5,\n",
        "    verbosity=0,\n",
        "):\n",
        "    \"\"\"\n",
        "    Convert sigma rules from rulesdir with given pipeline and openobserve table, Run them\n",
        "    Return results shape rules list, empty results rules lists, errors rules list\n",
        "    \"\"\"\n",
        "    # rule_f => empty bool, errors true, lines returned\n",
        "    df_results = pd.DataFrame(columns=[\"rule\", \"empty\", \"errors\", \"hits\"])\n",
        "    df_stats = pd.DataFrame()\n",
        "    for rule_f in pathlib.Path(rulesdir).iterdir():\n",
        "        rule_s = rule_f.name\n",
        "        if not rule_f.is_file():\n",
        "            print(f\"Skipping rule file {rule_s}\")\n",
        "            continue\n",
        "\n",
        "        cmd = f\"sigma convert -t openobserve -p {pipeline_f} {rule_f}\"\n",
        "        print(f\"=> Processing rule file {rule_s}:\")\n",
        "        rule_sql = check_output(\n",
        "            [\"sigma\", \"convert\", \"-t\", \"openobserve\", \"-p\", pipeline_f, rule_f],\n",
        "            encoding=\"UTF-8\",\n",
        "        )\n",
        "        rule_sql = str(rule_sql).replace(\"<TABLE_NAME>\", f'\"{table_name}\"')\n",
        "        print(f\"```{rule_sql}```\")\n",
        "        try:\n",
        "            df = openobserve_prov.exec_query(\n",
        "                rule_sql,\n",
        "                days=1,\n",
        "            )\n",
        "        except:\n",
        "            df_results.loc[len(df_results)] = [rule_s, False, True, 0]\n",
        "            continue\n",
        "\n",
        "        if df.empty:\n",
        "            df_results.loc[len(df_results)] = [rule_s, True, False, 0]\n",
        "        else:\n",
        "            df_results.loc[len(df_results)] = [rule_s, False, False, df.shape[0]]\n",
        "            if stats:\n",
        "                try:\n",
        "                    # print(f\"Calculating stats for {rule_s}\")\n",
        "                    df_stats_tmp = rulestats_agg(\n",
        "                        rule_s,\n",
        "                        rule_sql,\n",
        "                        openobserve_prov,\n",
        "                        1,\n",
        "                        limit=limit,\n",
        "                        verbosity=verbosity,\n",
        "                    )\n",
        "                    df_stats = pd.concat([df_stats, df_stats_tmp])\n",
        "                    # print(f\"  -> {df_stats_tmp.shape}, {df_stats.shape}\")\n",
        "                except Exception as err:\n",
        "                    print(f\"stats exception: {err}\")\n",
        "\n",
        "    return (df_results, df_stats)"
      ]
    },
    {
      "cell_type": "code",
      "execution_count": 17,
      "metadata": {},
      "outputs": [],
      "source": [
        "def rulestats_agg(rulename, rule_sql, openobserve_prov, days, limit=5, verbosity=0):\n",
        "    \"\"\"\n",
        "    Make an aggregate count to identify Top results that are possibly noise\n",
        "    https://sqlglot.com/sqlglot.html#examples\n",
        "    \"\"\"\n",
        "    import sqlglot\n",
        "\n",
        "    column_names = []\n",
        "\n",
        "    for column in sqlglot.parse_one(rule_sql).find_all(sqlglot.exp.Column):\n",
        "        # print(column.alias_or_name)\n",
        "        column_names.append(column.alias_or_name)\n",
        "    column_names.append(\"info_task_name\")\n",
        "    column_names.append(\"info_parent_task_name\")\n",
        "    column_names = list(set(column_names))\n",
        "    # print(column_names)\n",
        "    # Make aggregated query\n",
        "    agg_sql = (\n",
        "        rule_sql.replace(\n",
        "            \"SELECT * \", f\"SELECT {\",\".join(column_names)},count(*) as count_ \"\n",
        "        )\n",
        "        + f\" GROUP BY {\",\".join(column_names)} ORDER BY count_ DESC LIMIT {limit}\"\n",
        "    )\n",
        "    # only works if len(column_names)=1\n",
        "    # agg_sql = f\"SELECT string_agg({\",\".join(column_names)}, ', ') as topN FROM (\" + test_sql.replace(\"SELECT * \", f\"SELECT {\",\".join(column_names)},count(*) as count_ \") + f\" GROUP BY {\",\".join(column_names)} ORDER BY count_ DESC LIMIT {topN}\" + ')'\n",
        "    # agg_sql = f\"SELECT string_agg(data_exe_path, ', ') as topN FROM (\" + test_sql.replace(\"SELECT * \", f\"SELECT {\",\".join(column_names)},count(*) as count_ \") + f\" GROUP BY {\",\".join(column_names)} ORDER BY count_ DESC LIMIT {topN}\" + ')'\n",
        "    # print(agg_sql)\n",
        "\n",
        "    df_agg = openobserve_prov.exec_query(agg_sql, days=days, verbosity=verbosity)\n",
        "    df_agg[\"rule\"] = rulename\n",
        "    return df_agg"
      ]
    },
    {
      "cell_type": "code",
      "execution_count": 18,
      "metadata": {},
      "outputs": [],
      "source": [
        "def convert_rule2alert(\n",
        "    openobserve, rule_f, pipeline_f, table_name, alertowner, alertdestination\n",
        "):\n",
        "    \"\"\"\n",
        "    Convert given sigma rule to openobserve alert and set it in live instance\n",
        "    Return results shape rules list, empty results rules lists, errors rules list\n",
        "    \"\"\"\n",
        "    cmd = f\"sigma convert -t openobserve -f o2alert -p {pipeline_f} {rule_f}\"\n",
        "    print(f\"=> Processing rule file {rule_f}:\")\n",
        "    rule_alert = check_output(\n",
        "        [\n",
        "            \"sigma\",\n",
        "            \"convert\",\n",
        "            \"-t\",\n",
        "            \"openobserve\",\n",
        "            \"-f\",\n",
        "            \"o2alert\",\n",
        "            \"-p\",\n",
        "            pipeline_f,\n",
        "            rule_f,\n",
        "        ],\n",
        "        encoding=\"UTF-8\",\n",
        "    )\n",
        "    rule_alert = str(rule_alert).replace(\"<TABLE_NAME>\", table_name)\n",
        "    rule_alert = str(rule_alert).replace(\"<alert-owner-TBD>\", alertowner)\n",
        "    rule_alert = str(rule_alert).replace(\"<alert-destination-TBD>\", alertdestination)\n",
        "    print(f\"```{rule_alert}```\")\n",
        "\n",
        "    openobserve.import_objects_split(\n",
        "        \"alerts\",\n",
        "        json.loads(rule_alert)[0],\n",
        "        \"\",\n",
        "        verbosity=5,\n",
        "    )"
      ]
    },
    {
      "cell_type": "code",
      "execution_count": null,
      "metadata": {},
      "outputs": [],
      "source": []
    },
    {
      "cell_type": "markdown",
      "metadata": {},
      "source": [
        "## Functions tests"
      ]
    },
    {
      "cell_type": "code",
      "execution_count": 19,
      "metadata": {},
      "outputs": [],
      "source": [
        "# test_sql = \"\"\"SELECT * FROM \"kunai\" WHERE (data_path LIKE '/etc/cron.d/%' OR data_path LIKE '/etc/cron.daily/%' OR data_path LIKE '/etc/cron.hourly/%' OR data_path LIKE '/etc/cron.monthly/%' OR data_path LIKE '/etc/cron.weekly/%' OR data_path LIKE '/var/spool/cron/crontabs/%') OR (data_path LIKE '%/etc/cron.allow%' OR data_path LIKE '%/etc/cron.deny%' OR data_path LIKE '%/etc/crontab%')\"\"\"\n",
        "# test_sql = \"\"\"SELECT * FROM \"kunai\" WHERE data_exe_path LIKE '%/bin/bash' AND (NOT (data_dst_ip='127.0.0.1' OR data_dst_ip='0.0.0.0'))\"\"\"\n",
        "test_sql = \"\"\"SELECT * FROM \"kunai\" WHERE (data_exe_path LIKE '%/file' AND regexp_like(data_command_line, '(.){200,}', 'i')) OR (data_exe_path LIKE '%/ls' AND data_command_line LIKE '%-R%') OR data_exe_path LIKE '%/find' OR data_exe_path LIKE '%/tree' OR data_exe_path LIKE '%/findmnt' OR data_exe_path LIKE '%/mlocate'\"\"\""
      ]
    },
    {
      "cell_type": "code",
      "execution_count": 20,
      "metadata": {},
      "outputs": [
        {
          "data": {
            "text/html": [
              "<div>\n",
              "<style scoped>\n",
              "    .dataframe tbody tr th:only-of-type {\n",
              "        vertical-align: middle;\n",
              "    }\n",
              "\n",
              "    .dataframe tbody tr th {\n",
              "        vertical-align: top;\n",
              "    }\n",
              "\n",
              "    .dataframe thead th {\n",
              "        text-align: right;\n",
              "    }\n",
              "</style>\n",
              "<table border=\"1\" class=\"dataframe\">\n",
              "  <thead>\n",
              "    <tr style=\"text-align: right;\">\n",
              "      <th></th>\n",
              "      <th>count_</th>\n",
              "      <th>data_command_line</th>\n",
              "      <th>data_exe_path</th>\n",
              "      <th>info_parent_task_name</th>\n",
              "      <th>info_task_name</th>\n",
              "      <th>rule</th>\n",
              "    </tr>\n",
              "  </thead>\n",
              "  <tbody>\n",
              "    <tr>\n",
              "      <th>0</th>\n",
              "      <td>624</td>\n",
              "      <td>find /usr/lib/php -mindepth 1 -maxdepth 1 -reg...</td>\n",
              "      <td>/usr/bin/find</td>\n",
              "      <td>phpquery</td>\n",
              "      <td>find</td>\n",
              "      <td>rulename</td>\n",
              "    </tr>\n",
              "    <tr>\n",
              "      <th>1</th>\n",
              "      <td>576</td>\n",
              "      <td>find /var/log/zeek -type d -regex .*/[0-9][0-9...</td>\n",
              "      <td>/usr/bin/find</td>\n",
              "      <td>bash</td>\n",
              "      <td>find</td>\n",
              "      <td>rulename</td>\n",
              "    </tr>\n",
              "    <tr>\n",
              "      <th>2</th>\n",
              "      <td>575</td>\n",
              "      <td>find /var/log/zeek -type f -regex .*/[0-9][0-9...</td>\n",
              "      <td>/usr/bin/find</td>\n",
              "      <td>bash</td>\n",
              "      <td>find</td>\n",
              "      <td>rulename</td>\n",
              "    </tr>\n",
              "    <tr>\n",
              "      <th>3</th>\n",
              "      <td>528</td>\n",
              "      <td>find -O3 /var/lib/php/sessions/ -ignore_readdi...</td>\n",
              "      <td>/usr/bin/find</td>\n",
              "      <td>sessionclean</td>\n",
              "      <td>find</td>\n",
              "      <td>rulename</td>\n",
              "    </tr>\n",
              "    <tr>\n",
              "      <th>4</th>\n",
              "      <td>192</td>\n",
              "      <td>find /proc/231/fd -ignore_readdir_race -lname ...</td>\n",
              "      <td>/usr/bin/find</td>\n",
              "      <td>sessionclean</td>\n",
              "      <td>find</td>\n",
              "      <td>rulename</td>\n",
              "    </tr>\n",
              "  </tbody>\n",
              "</table>\n",
              "</div>"
            ],
            "text/plain": [
              "   count_                                  data_command_line  data_exe_path  \\\n",
              "0     624  find /usr/lib/php -mindepth 1 -maxdepth 1 -reg...  /usr/bin/find   \n",
              "1     576  find /var/log/zeek -type d -regex .*/[0-9][0-9...  /usr/bin/find   \n",
              "2     575  find /var/log/zeek -type f -regex .*/[0-9][0-9...  /usr/bin/find   \n",
              "3     528  find -O3 /var/lib/php/sessions/ -ignore_readdi...  /usr/bin/find   \n",
              "4     192  find /proc/231/fd -ignore_readdir_race -lname ...  /usr/bin/find   \n",
              "\n",
              "  info_parent_task_name info_task_name      rule  \n",
              "0              phpquery           find  rulename  \n",
              "1                  bash           find  rulename  \n",
              "2                  bash           find  rulename  \n",
              "3          sessionclean           find  rulename  \n",
              "4          sessionclean           find  rulename  "
            ]
          },
          "execution_count": 20,
          "metadata": {},
          "output_type": "execute_result"
        }
      ],
      "source": [
        "rulestats_agg(\"rulename\", test_sql, openobserve_prov, 1)"
      ]
    },
    {
      "cell_type": "code",
      "execution_count": null,
      "metadata": {},
      "outputs": [],
      "source": []
    },
    {
      "cell_type": "markdown",
      "metadata": {},
      "source": [
        "## Rules Conversion\n",
        "Convert rules, check against live instance if returns results, errors or not.\n",
        "Include or not statistics of TopN aggregated result for matching rule."
      ]
    },
    {
      "cell_type": "code",
      "execution_count": 21,
      "metadata": {},
      "outputs": [],
      "source": [
        "rulesdir = os.environ[\"HOME\"] + \"/tmp/sigma/rules/linux/network_connection\""
      ]
    },
    {
      "cell_type": "code",
      "execution_count": 22,
      "metadata": {},
      "outputs": [
        {
          "name": "stdout",
          "output_type": "stream",
          "text": [
            "=> Processing rule file net_connection_lnx_crypto_mining_indicators.yml:\n"
          ]
        },
        {
          "name": "stderr",
          "output_type": "stream",
          "text": [
            "Parsing Sigma rules\n"
          ]
        },
        {
          "name": "stdout",
          "output_type": "stream",
          "text": [
            "```SELECT * FROM \"kunai\" WHERE data_dst_hostname='pool.minexmr.com' OR data_dst_hostname='fr.minexmr.com' OR data_dst_hostname='de.minexmr.com' OR data_dst_hostname='sg.minexmr.com' OR data_dst_hostname='ca.minexmr.com' OR data_dst_hostname='us-west.minexmr.com' OR data_dst_hostname='pool.supportxmr.com' OR data_dst_hostname='mine.c3pool.com' OR data_dst_hostname='xmr-eu1.nanopool.org' OR data_dst_hostname='xmr-eu2.nanopool.org' OR data_dst_hostname='xmr-us-east1.nanopool.org' OR data_dst_hostname='xmr-us-west1.nanopool.org' OR data_dst_hostname='xmr-asia1.nanopool.org' OR data_dst_hostname='xmr-jp1.nanopool.org' OR data_dst_hostname='xmr-au1.nanopool.org' OR data_dst_hostname='xmr.2miners.com' OR data_dst_hostname='xmr.hashcity.org' OR data_dst_hostname='xmr.f2pool.com' OR data_dst_hostname='xmrpool.eu' OR data_dst_hostname='pool.hashvault.pro' OR data_dst_hostname='moneroocean.stream' OR data_dst_hostname='monerocean.stream'\n",
            "```\n",
            "=> Processing rule file net_connection_lnx_back_connect_shell_dev.yml:\n"
          ]
        },
        {
          "name": "stderr",
          "output_type": "stream",
          "text": [
            "Parsing Sigma rules\n"
          ]
        },
        {
          "name": "stdout",
          "output_type": "stream",
          "text": [
            "```SELECT * FROM \"kunai\" WHERE data_exe_path LIKE '%/bin/bash' AND (NOT (data_dst_ip='127.0.0.1' OR data_dst_ip='0.0.0.0'))\n",
            "```\n",
            "=> Processing rule file net_connection_lnx_domain_localtonet_tunnel.yml:\n"
          ]
        },
        {
          "name": "stderr",
          "output_type": "stream",
          "text": [
            "Parsing Sigma rules\n"
          ]
        },
        {
          "name": "stdout",
          "output_type": "stream",
          "text": [
            "```SELECT * FROM \"kunai\" WHERE (data_dst_hostname LIKE '%.localto.net' OR data_dst_hostname LIKE '%.localtonet.com') AND Initiated='true'\n",
            "```\n",
            "=> Processing rule file net_connection_lnx_susp_malware_callback_port.yml:\n"
          ]
        },
        {
          "name": "stderr",
          "output_type": "stream",
          "text": [
            "Parsing Sigma rules\n"
          ]
        },
        {
          "name": "stdout",
          "output_type": "stream",
          "text": [
            "```SELECT * FROM \"kunai\" WHERE (Initiated='true' AND (data_dst_port=888 OR data_dst_port=999 OR data_dst_port=2200 OR data_dst_port=2222 OR data_dst_port=4000 OR data_dst_port=4444 OR data_dst_port=6789 OR data_dst_port=8531 OR data_dst_port=50501 OR data_dst_port=51820)) AND (NOT (data_dst_ip LIKE '127.%' OR data_dst_ip LIKE '10.%' OR data_dst_ip LIKE '172.16.%' OR data_dst_ip LIKE '172.17.%' OR data_dst_ip LIKE '172.18.%' OR data_dst_ip LIKE '172.19.%' OR data_dst_ip LIKE '172.20.%' OR data_dst_ip LIKE '172.21.%' OR data_dst_ip LIKE '172.22.%' OR data_dst_ip LIKE '172.23.%' OR data_dst_ip LIKE '172.24.%' OR data_dst_ip LIKE '172.25.%' OR data_dst_ip LIKE '172.26.%' OR data_dst_ip LIKE '172.27.%' OR data_dst_ip LIKE '172.28.%' OR data_dst_ip LIKE '172.29.%' OR data_dst_ip LIKE '172.30.%' OR data_dst_ip LIKE '172.31.%' OR data_dst_ip LIKE '192.168.%' OR data_dst_ip LIKE '169.254.%' OR data_dst_ip='::1/128' OR data_dst_ip LIKE 'fe8%' OR data_dst_ip LIKE 'fe9%' OR data_dst_ip LIKE 'fea%' OR data_dst_ip LIKE 'feb%' OR data_dst_ip LIKE 'fc%' OR data_dst_ip LIKE 'fd%'))\n",
            "```\n",
            "=> Processing rule file net_connection_lnx_ngrok_tunnel.yml:\n"
          ]
        },
        {
          "name": "stderr",
          "output_type": "stream",
          "text": [
            "Parsing Sigma rules\n"
          ]
        },
        {
          "name": "stdout",
          "output_type": "stream",
          "text": [
            "```SELECT * FROM \"kunai\" WHERE data_dst_hostname LIKE '%tunnel.us.ngrok.com%' OR data_dst_hostname LIKE '%tunnel.eu.ngrok.com%' OR data_dst_hostname LIKE '%tunnel.ap.ngrok.com%' OR data_dst_hostname LIKE '%tunnel.au.ngrok.com%' OR data_dst_hostname LIKE '%tunnel.sa.ngrok.com%' OR data_dst_hostname LIKE '%tunnel.jp.ngrok.com%' OR data_dst_hostname LIKE '%tunnel.in.ngrok.com%'\n",
            "```\n"
          ]
        }
      ],
      "source": [
        "(df_res, df_stats) = convert_rulesdir(\n",
        "    openobserve_prov, rulesdir, pipeline_f, table_name, stats=True\n",
        ")"
      ]
    },
    {
      "cell_type": "code",
      "execution_count": 23,
      "metadata": {},
      "outputs": [
        {
          "data": {
            "text/html": [
              "<div>\n",
              "<style scoped>\n",
              "    .dataframe tbody tr th:only-of-type {\n",
              "        vertical-align: middle;\n",
              "    }\n",
              "\n",
              "    .dataframe tbody tr th {\n",
              "        vertical-align: top;\n",
              "    }\n",
              "\n",
              "    .dataframe thead th {\n",
              "        text-align: right;\n",
              "    }\n",
              "</style>\n",
              "<table border=\"1\" class=\"dataframe\">\n",
              "  <thead>\n",
              "    <tr style=\"text-align: right;\">\n",
              "      <th></th>\n",
              "      <th>rule</th>\n",
              "      <th>empty</th>\n",
              "      <th>errors</th>\n",
              "      <th>hits</th>\n",
              "    </tr>\n",
              "  </thead>\n",
              "  <tbody>\n",
              "    <tr>\n",
              "      <th>0</th>\n",
              "      <td>net_connection_lnx_crypto_mining_indicators.yml</td>\n",
              "      <td>True</td>\n",
              "      <td>False</td>\n",
              "      <td>0</td>\n",
              "    </tr>\n",
              "    <tr>\n",
              "      <th>1</th>\n",
              "      <td>net_connection_lnx_back_connect_shell_dev.yml</td>\n",
              "      <td>True</td>\n",
              "      <td>False</td>\n",
              "      <td>0</td>\n",
              "    </tr>\n",
              "    <tr>\n",
              "      <th>2</th>\n",
              "      <td>net_connection_lnx_domain_localtonet_tunnel.yml</td>\n",
              "      <td>False</td>\n",
              "      <td>True</td>\n",
              "      <td>0</td>\n",
              "    </tr>\n",
              "    <tr>\n",
              "      <th>3</th>\n",
              "      <td>net_connection_lnx_susp_malware_callback_port.yml</td>\n",
              "      <td>False</td>\n",
              "      <td>True</td>\n",
              "      <td>0</td>\n",
              "    </tr>\n",
              "    <tr>\n",
              "      <th>4</th>\n",
              "      <td>net_connection_lnx_ngrok_tunnel.yml</td>\n",
              "      <td>True</td>\n",
              "      <td>False</td>\n",
              "      <td>0</td>\n",
              "    </tr>\n",
              "  </tbody>\n",
              "</table>\n",
              "</div>"
            ],
            "text/plain": [
              "                                                rule  empty  errors  hits\n",
              "0    net_connection_lnx_crypto_mining_indicators.yml   True   False     0\n",
              "1      net_connection_lnx_back_connect_shell_dev.yml   True   False     0\n",
              "2    net_connection_lnx_domain_localtonet_tunnel.yml  False    True     0\n",
              "3  net_connection_lnx_susp_malware_callback_port.yml  False    True     0\n",
              "4                net_connection_lnx_ngrok_tunnel.yml   True   False     0"
            ]
          },
          "execution_count": 23,
          "metadata": {},
          "output_type": "execute_result"
        }
      ],
      "source": [
        "df_res"
      ]
    },
    {
      "cell_type": "code",
      "execution_count": 24,
      "metadata": {},
      "outputs": [
        {
          "data": {
            "text/html": [
              "<div>\n",
              "<style scoped>\n",
              "    .dataframe tbody tr th:only-of-type {\n",
              "        vertical-align: middle;\n",
              "    }\n",
              "\n",
              "    .dataframe tbody tr th {\n",
              "        vertical-align: top;\n",
              "    }\n",
              "\n",
              "    .dataframe thead th {\n",
              "        text-align: right;\n",
              "    }\n",
              "</style>\n",
              "<table border=\"1\" class=\"dataframe\">\n",
              "  <thead>\n",
              "    <tr style=\"text-align: right;\">\n",
              "      <th></th>\n",
              "    </tr>\n",
              "  </thead>\n",
              "  <tbody>\n",
              "  </tbody>\n",
              "</table>\n",
              "</div>"
            ],
            "text/plain": [
              "Empty DataFrame\n",
              "Columns: []\n",
              "Index: []"
            ]
          },
          "execution_count": 24,
          "metadata": {},
          "output_type": "execute_result"
        }
      ],
      "source": [
        "df_stats"
      ]
    },
    {
      "cell_type": "code",
      "execution_count": null,
      "metadata": {},
      "outputs": [],
      "source": []
    },
    {
      "cell_type": "code",
      "execution_count": 25,
      "metadata": {},
      "outputs": [
        {
          "name": "stdout",
          "output_type": "stream",
          "text": [
            "=> Processing rule file file_event_lnx_susp_shell_script_under_profile_directory.yml:\n"
          ]
        },
        {
          "name": "stderr",
          "output_type": "stream",
          "text": [
            "Parsing Sigma rules\n"
          ]
        },
        {
          "name": "stdout",
          "output_type": "stream",
          "text": [
            "```SELECT * FROM \"kunai\" WHERE data_path LIKE '%/etc/profile.d/%' AND (data_path LIKE '%.csh' OR data_path LIKE '%.sh')\n",
            "```\n",
            "=> Processing rule file file_event_lnx_wget_download_file_in_tmp_dir.yml:\n"
          ]
        },
        {
          "name": "stderr",
          "output_type": "stream",
          "text": [
            "Parsing Sigma rules\n"
          ]
        },
        {
          "name": "stdout",
          "output_type": "stream",
          "text": [
            "```SELECT * FROM \"kunai\" WHERE data_exe_path LIKE '%/wget' AND (data_path LIKE '/tmp/%' OR data_path LIKE '/var/tmp/%')\n",
            "```\n",
            "=> Processing rule file file_event_lnx_triple_cross_rootkit_persistence.yml:\n"
          ]
        },
        {
          "name": "stderr",
          "output_type": "stream",
          "text": [
            "Parsing Sigma rules\n"
          ]
        },
        {
          "name": "stdout",
          "output_type": "stream",
          "text": [
            "```SELECT * FROM \"kunai\" WHERE data_path LIKE '%ebpfbackdoor'\n",
            "```\n",
            "=> Processing rule file file_event_lnx_persistence_sudoers_files.yml:\n"
          ]
        },
        {
          "name": "stderr",
          "output_type": "stream",
          "text": [
            "Parsing Sigma rules\n"
          ]
        },
        {
          "name": "stdout",
          "output_type": "stream",
          "text": [
            "```SELECT * FROM \"kunai\" WHERE data_path LIKE '/etc/sudoers.d/%'\n",
            "```\n",
            "=> Processing rule file file_event_lnx_doas_conf_creation.yml:\n"
          ]
        },
        {
          "name": "stderr",
          "output_type": "stream",
          "text": [
            "Parsing Sigma rules\n"
          ]
        },
        {
          "name": "stdout",
          "output_type": "stream",
          "text": [
            "```SELECT * FROM \"kunai\" WHERE data_path LIKE '%/etc/doas.conf'\n",
            "```\n",
            "=> Processing rule file file_event_lnx_triple_cross_rootkit_lock_file.yml:\n"
          ]
        },
        {
          "name": "stderr",
          "output_type": "stream",
          "text": [
            "Parsing Sigma rules\n"
          ]
        },
        {
          "name": "stdout",
          "output_type": "stream",
          "text": [
            "```SELECT * FROM \"kunai\" WHERE data_path='/tmp/rootlog'\n",
            "```\n",
            "=> Processing rule file file_event_lnx_persistence_cron_files.yml:\n"
          ]
        },
        {
          "name": "stderr",
          "output_type": "stream",
          "text": [
            "Parsing Sigma rules\n"
          ]
        },
        {
          "name": "stdout",
          "output_type": "stream",
          "text": [
            "```SELECT * FROM \"kunai\" WHERE (data_path LIKE '/etc/cron.d/%' OR data_path LIKE '/etc/cron.daily/%' OR data_path LIKE '/etc/cron.hourly/%' OR data_path LIKE '/etc/cron.monthly/%' OR data_path LIKE '/etc/cron.weekly/%' OR data_path LIKE '/var/spool/cron/crontabs/%') OR (data_path LIKE '%/etc/cron.allow%' OR data_path LIKE '%/etc/cron.deny%' OR data_path LIKE '%/etc/crontab%')\n",
            "```\n"
          ]
        }
      ],
      "source": [
        "rulesdir = os.environ[\"HOME\"] + \"/tmp/sigma/rules/linux/file_event\"\n",
        "(df_res3, df_stats3) = convert_rulesdir(\n",
        "    openobserve_prov, rulesdir, pipeline_f, table_name, stats=True\n",
        ")"
      ]
    },
    {
      "cell_type": "code",
      "execution_count": 26,
      "metadata": {},
      "outputs": [
        {
          "data": {
            "text/html": [
              "<div>\n",
              "<style scoped>\n",
              "    .dataframe tbody tr th:only-of-type {\n",
              "        vertical-align: middle;\n",
              "    }\n",
              "\n",
              "    .dataframe tbody tr th {\n",
              "        vertical-align: top;\n",
              "    }\n",
              "\n",
              "    .dataframe thead th {\n",
              "        text-align: right;\n",
              "    }\n",
              "</style>\n",
              "<table border=\"1\" class=\"dataframe\">\n",
              "  <thead>\n",
              "    <tr style=\"text-align: right;\">\n",
              "      <th></th>\n",
              "      <th>rule</th>\n",
              "      <th>empty</th>\n",
              "      <th>errors</th>\n",
              "      <th>hits</th>\n",
              "    </tr>\n",
              "  </thead>\n",
              "  <tbody>\n",
              "    <tr>\n",
              "      <th>0</th>\n",
              "      <td>file_event_lnx_susp_shell_script_under_profile...</td>\n",
              "      <td>False</td>\n",
              "      <td>False</td>\n",
              "      <td>271</td>\n",
              "    </tr>\n",
              "    <tr>\n",
              "      <th>1</th>\n",
              "      <td>file_event_lnx_wget_download_file_in_tmp_dir.yml</td>\n",
              "      <td>True</td>\n",
              "      <td>False</td>\n",
              "      <td>0</td>\n",
              "    </tr>\n",
              "    <tr>\n",
              "      <th>2</th>\n",
              "      <td>file_event_lnx_triple_cross_rootkit_persistenc...</td>\n",
              "      <td>True</td>\n",
              "      <td>False</td>\n",
              "      <td>0</td>\n",
              "    </tr>\n",
              "    <tr>\n",
              "      <th>3</th>\n",
              "      <td>file_event_lnx_persistence_sudoers_files.yml</td>\n",
              "      <td>False</td>\n",
              "      <td>False</td>\n",
              "      <td>1000</td>\n",
              "    </tr>\n",
              "    <tr>\n",
              "      <th>4</th>\n",
              "      <td>file_event_lnx_doas_conf_creation.yml</td>\n",
              "      <td>True</td>\n",
              "      <td>False</td>\n",
              "      <td>0</td>\n",
              "    </tr>\n",
              "    <tr>\n",
              "      <th>5</th>\n",
              "      <td>file_event_lnx_triple_cross_rootkit_lock_file.yml</td>\n",
              "      <td>True</td>\n",
              "      <td>False</td>\n",
              "      <td>0</td>\n",
              "    </tr>\n",
              "    <tr>\n",
              "      <th>6</th>\n",
              "      <td>file_event_lnx_persistence_cron_files.yml</td>\n",
              "      <td>False</td>\n",
              "      <td>False</td>\n",
              "      <td>800</td>\n",
              "    </tr>\n",
              "  </tbody>\n",
              "</table>\n",
              "</div>"
            ],
            "text/plain": [
              "                                                rule  empty  errors  hits\n",
              "0  file_event_lnx_susp_shell_script_under_profile...  False   False   271\n",
              "1   file_event_lnx_wget_download_file_in_tmp_dir.yml   True   False     0\n",
              "2  file_event_lnx_triple_cross_rootkit_persistenc...   True   False     0\n",
              "3       file_event_lnx_persistence_sudoers_files.yml  False   False  1000\n",
              "4              file_event_lnx_doas_conf_creation.yml   True   False     0\n",
              "5  file_event_lnx_triple_cross_rootkit_lock_file.yml   True   False     0\n",
              "6          file_event_lnx_persistence_cron_files.yml  False   False   800"
            ]
          },
          "execution_count": 26,
          "metadata": {},
          "output_type": "execute_result"
        }
      ],
      "source": [
        "df_res3"
      ]
    },
    {
      "cell_type": "code",
      "execution_count": 27,
      "metadata": {},
      "outputs": [
        {
          "data": {
            "text/html": [
              "<div>\n",
              "<style scoped>\n",
              "    .dataframe tbody tr th:only-of-type {\n",
              "        vertical-align: middle;\n",
              "    }\n",
              "\n",
              "    .dataframe tbody tr th {\n",
              "        vertical-align: top;\n",
              "    }\n",
              "\n",
              "    .dataframe thead th {\n",
              "        text-align: right;\n",
              "    }\n",
              "</style>\n",
              "<table border=\"1\" class=\"dataframe\">\n",
              "  <thead>\n",
              "    <tr style=\"text-align: right;\">\n",
              "      <th></th>\n",
              "      <th>count_</th>\n",
              "      <th>data_path</th>\n",
              "      <th>info_parent_task_name</th>\n",
              "      <th>info_task_name</th>\n",
              "      <th>rule</th>\n",
              "    </tr>\n",
              "  </thead>\n",
              "  <tbody>\n",
              "    <tr>\n",
              "      <th>0</th>\n",
              "      <td>20</td>\n",
              "      <td>/etc/profile.d/bash_completion.sh</td>\n",
              "      <td>sshd</td>\n",
              "      <td>bash</td>\n",
              "      <td>file_event_lnx_susp_shell_script_under_profile...</td>\n",
              "    </tr>\n",
              "    <tr>\n",
              "      <th>1</th>\n",
              "      <td>19</td>\n",
              "      <td>/etc/profile.d/01-locale-fix.sh</td>\n",
              "      <td>sshd</td>\n",
              "      <td>bash</td>\n",
              "      <td>file_event_lnx_susp_shell_script_under_profile...</td>\n",
              "    </tr>\n",
              "    <tr>\n",
              "      <th>2</th>\n",
              "      <td>18</td>\n",
              "      <td>/etc/profile.d/gawk.sh</td>\n",
              "      <td>sshd</td>\n",
              "      <td>bash</td>\n",
              "      <td>file_event_lnx_susp_shell_script_under_profile...</td>\n",
              "    </tr>\n",
              "    <tr>\n",
              "      <th>3</th>\n",
              "      <td>17</td>\n",
              "      <td>/etc/profile.d/npm.sh</td>\n",
              "      <td>sshd</td>\n",
              "      <td>bash</td>\n",
              "      <td>file_event_lnx_susp_shell_script_under_profile...</td>\n",
              "    </tr>\n",
              "    <tr>\n",
              "      <th>4</th>\n",
              "      <td>17</td>\n",
              "      <td>/etc/profile.d/Z99-cloud-locale-test.sh</td>\n",
              "      <td>sshd</td>\n",
              "      <td>bash</td>\n",
              "      <td>file_event_lnx_susp_shell_script_under_profile...</td>\n",
              "    </tr>\n",
              "    <tr>\n",
              "      <th>0</th>\n",
              "      <td>2070</td>\n",
              "      <td>/etc/sudoers.d/README</td>\n",
              "      <td>sh</td>\n",
              "      <td>sudo</td>\n",
              "      <td>file_event_lnx_persistence_sudoers_files.yml</td>\n",
              "    </tr>\n",
              "    <tr>\n",
              "      <th>1</th>\n",
              "      <td>1620</td>\n",
              "      <td>/etc/sudoers.d/aide-unprivileged</td>\n",
              "      <td>sh</td>\n",
              "      <td>sudo</td>\n",
              "      <td>file_event_lnx_persistence_sudoers_files.yml</td>\n",
              "    </tr>\n",
              "    <tr>\n",
              "      <th>2</th>\n",
              "      <td>1620</td>\n",
              "      <td>/etc/sudoers.d/zfs</td>\n",
              "      <td>sh</td>\n",
              "      <td>sudo</td>\n",
              "      <td>file_event_lnx_persistence_sudoers_files.yml</td>\n",
              "    </tr>\n",
              "    <tr>\n",
              "      <th>3</th>\n",
              "      <td>1619</td>\n",
              "      <td>/etc/sudoers.d/backup_lab</td>\n",
              "      <td>sh</td>\n",
              "      <td>sudo</td>\n",
              "      <td>file_event_lnx_persistence_sudoers_files.yml</td>\n",
              "    </tr>\n",
              "    <tr>\n",
              "      <th>4</th>\n",
              "      <td>1619</td>\n",
              "      <td>/etc/sudoers.d/90-cloud-init-users</td>\n",
              "      <td>sh</td>\n",
              "      <td>sudo</td>\n",
              "      <td>file_event_lnx_persistence_sudoers_files.yml</td>\n",
              "    </tr>\n",
              "    <tr>\n",
              "      <th>0</th>\n",
              "      <td>41</td>\n",
              "      <td>/etc/cron.d/e2scrub_all</td>\n",
              "      <td>systemd</td>\n",
              "      <td>SchedulerRunner</td>\n",
              "      <td>file_event_lnx_persistence_cron_files.yml</td>\n",
              "    </tr>\n",
              "    <tr>\n",
              "      <th>1</th>\n",
              "      <td>41</td>\n",
              "      <td>/etc/crontab</td>\n",
              "      <td>systemd</td>\n",
              "      <td>SchedulerRunner</td>\n",
              "      <td>file_event_lnx_persistence_cron_files.yml</td>\n",
              "    </tr>\n",
              "    <tr>\n",
              "      <th>2</th>\n",
              "      <td>41</td>\n",
              "      <td>/etc/cron.d/ansible_system-backup</td>\n",
              "      <td>systemd</td>\n",
              "      <td>SchedulerRunner</td>\n",
              "      <td>file_event_lnx_persistence_cron_files.yml</td>\n",
              "    </tr>\n",
              "    <tr>\n",
              "      <th>3</th>\n",
              "      <td>41</td>\n",
              "      <td>/etc/cron.d/sysstat</td>\n",
              "      <td>systemd</td>\n",
              "      <td>SchedulerRunner</td>\n",
              "      <td>file_event_lnx_persistence_cron_files.yml</td>\n",
              "    </tr>\n",
              "    <tr>\n",
              "      <th>4</th>\n",
              "      <td>41</td>\n",
              "      <td>/etc/cron.d/ansible_cron_daily_aide</td>\n",
              "      <td>systemd</td>\n",
              "      <td>SchedulerRunner</td>\n",
              "      <td>file_event_lnx_persistence_cron_files.yml</td>\n",
              "    </tr>\n",
              "  </tbody>\n",
              "</table>\n",
              "</div>"
            ],
            "text/plain": [
              "   count_                                data_path info_parent_task_name  \\\n",
              "0      20        /etc/profile.d/bash_completion.sh                  sshd   \n",
              "1      19          /etc/profile.d/01-locale-fix.sh                  sshd   \n",
              "2      18                   /etc/profile.d/gawk.sh                  sshd   \n",
              "3      17                    /etc/profile.d/npm.sh                  sshd   \n",
              "4      17  /etc/profile.d/Z99-cloud-locale-test.sh                  sshd   \n",
              "0    2070                    /etc/sudoers.d/README                    sh   \n",
              "1    1620         /etc/sudoers.d/aide-unprivileged                    sh   \n",
              "2    1620                       /etc/sudoers.d/zfs                    sh   \n",
              "3    1619                /etc/sudoers.d/backup_lab                    sh   \n",
              "4    1619       /etc/sudoers.d/90-cloud-init-users                    sh   \n",
              "0      41                  /etc/cron.d/e2scrub_all               systemd   \n",
              "1      41                             /etc/crontab               systemd   \n",
              "2      41        /etc/cron.d/ansible_system-backup               systemd   \n",
              "3      41                      /etc/cron.d/sysstat               systemd   \n",
              "4      41      /etc/cron.d/ansible_cron_daily_aide               systemd   \n",
              "\n",
              "    info_task_name                                               rule  \n",
              "0             bash  file_event_lnx_susp_shell_script_under_profile...  \n",
              "1             bash  file_event_lnx_susp_shell_script_under_profile...  \n",
              "2             bash  file_event_lnx_susp_shell_script_under_profile...  \n",
              "3             bash  file_event_lnx_susp_shell_script_under_profile...  \n",
              "4             bash  file_event_lnx_susp_shell_script_under_profile...  \n",
              "0             sudo       file_event_lnx_persistence_sudoers_files.yml  \n",
              "1             sudo       file_event_lnx_persistence_sudoers_files.yml  \n",
              "2             sudo       file_event_lnx_persistence_sudoers_files.yml  \n",
              "3             sudo       file_event_lnx_persistence_sudoers_files.yml  \n",
              "4             sudo       file_event_lnx_persistence_sudoers_files.yml  \n",
              "0  SchedulerRunner          file_event_lnx_persistence_cron_files.yml  \n",
              "1  SchedulerRunner          file_event_lnx_persistence_cron_files.yml  \n",
              "2  SchedulerRunner          file_event_lnx_persistence_cron_files.yml  \n",
              "3  SchedulerRunner          file_event_lnx_persistence_cron_files.yml  \n",
              "4  SchedulerRunner          file_event_lnx_persistence_cron_files.yml  "
            ]
          },
          "execution_count": 27,
          "metadata": {},
          "output_type": "execute_result"
        }
      ],
      "source": [
        "df_stats3"
      ]
    },
    {
      "cell_type": "code",
      "execution_count": null,
      "metadata": {},
      "outputs": [],
      "source": []
    },
    {
      "cell_type": "code",
      "execution_count": 28,
      "metadata": {},
      "outputs": [
        {
          "name": "stdout",
          "output_type": "stream",
          "text": [
            "=> Processing rule file proc_creation_lnx_malware_gobrat_grep_payload_discovery.yml:\n"
          ]
        },
        {
          "name": "stderr",
          "output_type": "stream",
          "text": [
            "Parsing Sigma rules\n"
          ]
        },
        {
          "name": "stdout",
          "output_type": "stream",
          "text": [
            "```SELECT * FROM \"kunai\" WHERE data_exe_path LIKE '%/grep' AND (data_command_line LIKE '%apached%' OR data_command_line LIKE '%frpc%' OR data_command_line LIKE '%sshd.sh%' OR data_command_line LIKE '%zone.arm%')\n",
            "```\n",
            "=> Processing rule file proc_creation_lnx_touch_susp.yml:\n"
          ]
        },
        {
          "name": "stderr",
          "output_type": "stream",
          "text": [
            "Parsing Sigma rules\n"
          ]
        },
        {
          "name": "stdout",
          "output_type": "stream",
          "text": [
            "```SELECT * FROM \"kunai\" WHERE data_exe_path LIKE '%/touch' AND data_command_line LIKE '% -t %' AND data_command_line LIKE '%.service'\n",
            "```\n",
            "=> Processing rule file proc_creation_lnx_file_and_directory_discovery.yml:\n"
          ]
        },
        {
          "name": "stderr",
          "output_type": "stream",
          "text": [
            "Parsing Sigma rules\n"
          ]
        },
        {
          "name": "stdout",
          "output_type": "stream",
          "text": [
            "```SELECT * FROM \"kunai\" WHERE (data_exe_path LIKE '%/file' AND regexp_like(data_command_line, '(.){200,}', 'i')) OR (data_exe_path LIKE '%/ls' AND data_command_line LIKE '%-R%') OR data_exe_path LIKE '%/find' OR data_exe_path LIKE '%/tree' OR data_exe_path LIKE '%/findmnt' OR data_exe_path LIKE '%/mlocate'\n",
            "```\n",
            "=> Processing rule file proc_creation_lnx_ssm_agent_abuse.yml:\n"
          ]
        },
        {
          "name": "stderr",
          "output_type": "stream",
          "text": [
            "Parsing Sigma rules\n"
          ]
        },
        {
          "name": "stdout",
          "output_type": "stream",
          "text": [
            "```SELECT * FROM \"kunai\" WHERE data_exe_path LIKE '%/amazon-ssm-agent' AND (data_command_line LIKE '%-register %' AND data_command_line LIKE '%-code %' AND data_command_line LIKE '%-id %' AND data_command_line LIKE '%-region %')\n",
            "```\n",
            "=> Processing rule file proc_creation_lnx_base64_shebang_cli.yml:\n"
          ]
        },
        {
          "name": "stderr",
          "output_type": "stream",
          "text": [
            "Parsing Sigma rules\n"
          ]
        },
        {
          "name": "stdout",
          "output_type": "stream",
          "text": [
            "```SELECT * FROM \"kunai\" WHERE data_command_line LIKE '%IyEvYmluL2Jhc2%' OR data_command_line LIKE '%IyEvYmluL2Rhc2%' OR data_command_line LIKE '%IyEvYmluL3pza%' OR data_command_line LIKE '%IyEvYmluL2Zpc2%' OR data_command_line LIKE '%IyEvYmluL3No%'\n",
            "```\n",
            "=> Processing rule file proc_creation_lnx_sudo_cve_2019_14287.yml:\n"
          ]
        },
        {
          "name": "stderr",
          "output_type": "stream",
          "text": [
            "Parsing Sigma rules\n"
          ]
        },
        {
          "name": "stdout",
          "output_type": "stream",
          "text": [
            "```SELECT * FROM \"kunai\" WHERE data_command_line LIKE '% -u#%'\n",
            "```\n",
            "=> Processing rule file proc_creation_lnx_services_stop_and_disable.yml:\n"
          ]
        },
        {
          "name": "stderr",
          "output_type": "stream",
          "text": [
            "Parsing Sigma rules\n"
          ]
        },
        {
          "name": "stdout",
          "output_type": "stream",
          "text": [
            "```SELECT * FROM \"kunai\" WHERE (data_exe_path LIKE '%/service' OR data_exe_path LIKE '%/systemctl' OR data_exe_path LIKE '%/chkconfig') AND (data_command_line LIKE '%stop%' OR data_command_line LIKE '%disable%')\n",
            "```\n",
            "=> Processing rule file proc_creation_lnx_disable_ufw.yml:\n"
          ]
        },
        {
          "name": "stderr",
          "output_type": "stream",
          "text": [
            "Parsing Sigma rules\n"
          ]
        },
        {
          "name": "stdout",
          "output_type": "stream",
          "text": [
            "```SELECT * FROM \"kunai\" WHERE (data_command_line LIKE '%-ufw-init%' AND data_command_line LIKE '%force-stop%') OR (data_command_line LIKE '%ufw%' AND data_command_line LIKE '%disable%')\n",
            "```\n",
            "=> Processing rule file proc_creation_lnx_nice_shell_execution.yml:\n"
          ]
        },
        {
          "name": "stderr",
          "output_type": "stream",
          "text": [
            "Parsing Sigma rules\n"
          ]
        },
        {
          "name": "stdout",
          "output_type": "stream",
          "text": [
            "```SELECT * FROM \"kunai\" WHERE data_exe_path LIKE '%/nice' AND (data_command_line LIKE '%/bin/bash' OR data_command_line LIKE '%/bin/dash' OR data_command_line LIKE '%/bin/fish' OR data_command_line LIKE '%/bin/sh' OR data_command_line LIKE '%/bin/zsh')\n",
            "```\n",
            "=> Processing rule file proc_creation_lnx_susp_chmod_directories.yml:\n"
          ]
        },
        {
          "name": "stderr",
          "output_type": "stream",
          "text": [
            "Parsing Sigma rules\n"
          ]
        },
        {
          "name": "stdout",
          "output_type": "stream",
          "text": [
            "```SELECT * FROM \"kunai\" WHERE data_exe_path LIKE '%/chmod' AND (data_command_line LIKE '%/tmp/%' OR data_command_line LIKE '%/.Library/%' OR data_command_line LIKE '%/etc/%' OR data_command_line LIKE '%/opt/%')\n",
            "```\n",
            "=> Processing rule file proc_creation_lnx_capa_discovery.yml:\n"
          ]
        },
        {
          "name": "stderr",
          "output_type": "stream",
          "text": [
            "Parsing Sigma rules\n"
          ]
        },
        {
          "name": "stdout",
          "output_type": "stream",
          "text": [
            "```SELECT * FROM \"kunai\" WHERE data_exe_path LIKE '%/getcap' AND (data_command_line LIKE '% -r %' OR data_command_line LIKE '% /r %' OR data_command_line LIKE '% \u2013r %' OR data_command_line LIKE '% \u2014r %' OR data_command_line LIKE '% \u2015r %')\n",
            "```\n",
            "=> Processing rule file proc_creation_lnx_install_root_certificate.yml:\n"
          ]
        },
        {
          "name": "stderr",
          "output_type": "stream",
          "text": [
            "Parsing Sigma rules\n"
          ]
        },
        {
          "name": "stdout",
          "output_type": "stream",
          "text": [
            "```SELECT * FROM \"kunai\" WHERE data_exe_path LIKE '%/update-ca-certificates' OR data_exe_path LIKE '%/update-ca-trust'\n",
            "```\n",
            "=> Processing rule file proc_creation_lnx_susp_execution_tmp_folder.yml:\n"
          ]
        },
        {
          "name": "stderr",
          "output_type": "stream",
          "text": [
            "Parsing Sigma rules\n"
          ]
        },
        {
          "name": "stdout",
          "output_type": "stream",
          "text": [
            "```SELECT * FROM \"kunai\" WHERE data_exe_path LIKE '/tmp/%'\n",
            "```\n",
            "=> Processing rule file proc_creation_lnx_schedule_task_job_cron.yml:\n"
          ]
        },
        {
          "name": "stderr",
          "output_type": "stream",
          "text": [
            "Parsing Sigma rules\n"
          ]
        },
        {
          "name": "stdout",
          "output_type": "stream",
          "text": [
            "```SELECT * FROM \"kunai\" WHERE data_exe_path LIKE '%crontab' AND data_command_line LIKE '%/tmp/%'\n",
            "```\n",
            "=> Processing rule file proc_creation_lnx_susp_history_recon.yml:\n"
          ]
        },
        {
          "name": "stderr",
          "output_type": "stream",
          "text": [
            "Parsing Sigma rules\n"
          ]
        },
        {
          "name": "stdout",
          "output_type": "stream",
          "text": [
            "```SELECT * FROM \"kunai\" WHERE (data_exe_path LIKE '%/cat' OR data_exe_path LIKE '%/head' OR data_exe_path LIKE '%/tail' OR data_exe_path LIKE '%/more') AND ((data_command_line LIKE '%/.bash_history%' OR data_command_line LIKE '%/.zsh_history%') OR (data_command_line LIKE '%_history' OR data_command_line LIKE '%.history' OR data_command_line LIKE '%zhistory'))\n",
            "```\n",
            "=> Processing rule file proc_creation_lnx_remote_access_tools_teamviewer_incoming_connection.yml:\n"
          ]
        },
        {
          "name": "stderr",
          "output_type": "stream",
          "text": [
            "Parsing Sigma rules\n"
          ]
        },
        {
          "name": "stdout",
          "output_type": "stream",
          "text": [
            "```SELECT * FROM \"kunai\" WHERE data_ancestors LIKE '%/TeamViewer_Service' AND data_exe_path LIKE '%/TeamViewer_Desktop' AND data_command_line LIKE '%/TeamViewer_Desktop --IPCport 5939 --Module 1'\n",
            "```\n",
            "=> Processing rule file proc_creation_lnx_cat_sudoers.yml:\n"
          ]
        },
        {
          "name": "stderr",
          "output_type": "stream",
          "text": [
            "Parsing Sigma rules\n"
          ]
        },
        {
          "name": "stdout",
          "output_type": "stream",
          "text": [
            "```SELECT * FROM \"kunai\" WHERE (data_exe_path LIKE '%/cat' OR data_exe_path LIKE '%grep' OR data_exe_path LIKE '%/head' OR data_exe_path LIKE '%/tail' OR data_exe_path LIKE '%/more') AND data_command_line LIKE '% /etc/sudoers%'\n",
            "```\n",
            "=> Processing rule file proc_creation_lnx_susp_history_delete.yml:\n"
          ]
        },
        {
          "name": "stderr",
          "output_type": "stream",
          "text": [
            "Parsing Sigma rules\n"
          ]
        },
        {
          "name": "stdout",
          "output_type": "stream",
          "text": [
            "```SELECT * FROM \"kunai\" WHERE (data_exe_path LIKE '%/rm' OR data_exe_path LIKE '%/unlink' OR data_exe_path LIKE '%/shred') AND ((data_command_line LIKE '%/.bash_history%' OR data_command_line LIKE '%/.zsh_history%') OR (data_command_line LIKE '%_history' OR data_command_line LIKE '%.history' OR data_command_line LIKE '%zhistory'))\n",
            "```\n",
            "=> Processing rule file proc_creation_lnx_curl_usage.yml:\n"
          ]
        },
        {
          "name": "stderr",
          "output_type": "stream",
          "text": [
            "Parsing Sigma rules\n"
          ]
        },
        {
          "name": "stdout",
          "output_type": "stream",
          "text": [
            "```SELECT * FROM \"kunai\" WHERE data_exe_path LIKE '%/curl'\n",
            "```\n",
            "=> Processing rule file proc_creation_lnx_susp_hktl_execution.yml:\n"
          ]
        },
        {
          "name": "stderr",
          "output_type": "stream",
          "text": [
            "Parsing Sigma rules\n"
          ]
        },
        {
          "name": "stdout",
          "output_type": "stream",
          "text": [
            "```SELECT * FROM \"kunai\" WHERE (data_exe_path LIKE '%/crackmapexec' OR data_exe_path LIKE '%/havoc' OR data_exe_path LIKE '%/merlin-agent' OR data_exe_path LIKE '%/merlinServer-Linux-x64' OR data_exe_path LIKE '%/msfconsole' OR data_exe_path LIKE '%/msfvenom' OR data_exe_path LIKE '%/ps-empire server' OR data_exe_path LIKE '%/ps-empire' OR data_exe_path LIKE '%/sliver-client' OR data_exe_path LIKE '%/sliver-server' OR data_exe_path LIKE '%/Villain.py') OR (data_exe_path LIKE '%/cobaltstrike%' OR data_exe_path LIKE '%/teamserver%') OR (data_exe_path LIKE '%/autorecon' OR data_exe_path LIKE '%/httpx' OR data_exe_path LIKE '%/legion' OR data_exe_path LIKE '%/naabu' OR data_exe_path LIKE '%/netdiscover' OR data_exe_path LIKE '%/nuclei' OR data_exe_path LIKE '%/recon-ng') OR data_exe_path LIKE '%/sniper%' OR (data_exe_path LIKE '%/dirb' OR data_exe_path LIKE '%/dirbuster' OR data_exe_path LIKE '%/eyewitness' OR data_exe_path LIKE '%/feroxbuster' OR data_exe_path LIKE '%/ffuf' OR data_exe_path LIKE '%/gobuster' OR data_exe_path LIKE '%/wfuzz' OR data_exe_path LIKE '%/whatweb') OR (data_exe_path LIKE '%/joomscan' OR data_exe_path LIKE '%/nikto' OR data_exe_path LIKE '%/wpscan') OR (data_exe_path LIKE '%/aircrack-ng' OR data_exe_path LIKE '%/bloodhound-python' OR data_exe_path LIKE '%/bpfdos' OR data_exe_path LIKE '%/ebpfki' OR data_exe_path LIKE '%/evil-winrm' OR data_exe_path LIKE '%/hashcat' OR data_exe_path LIKE '%/hoaxshell.py' OR data_exe_path LIKE '%/hydra' OR data_exe_path LIKE '%/john' OR data_exe_path LIKE '%/ncrack' OR data_exe_path LIKE '%/nxc-ubuntu-latest' OR data_exe_path LIKE '%/pidhide' OR data_exe_path LIKE '%/pspy32' OR data_exe_path LIKE '%/pspy32s' OR data_exe_path LIKE '%/pspy64' OR data_exe_path LIKE '%/pspy64s' OR data_exe_path LIKE '%/setoolkit' OR data_exe_path LIKE '%/sqlmap' OR data_exe_path LIKE '%/writeblocker') OR data_exe_path LIKE '%/linpeas%'\n",
            "```\n",
            "=> Processing rule file proc_creation_lnx_wget_download_suspicious_directory.yml:\n"
          ]
        },
        {
          "name": "stderr",
          "output_type": "stream",
          "text": [
            "Parsing Sigma rules\n"
          ]
        },
        {
          "name": "stdout",
          "output_type": "stream",
          "text": [
            "```SELECT * FROM \"kunai\" WHERE data_exe_path LIKE '%/wget' AND (regexp_like(data_command_line, '\\s-O\\s', 'i') OR data_command_line LIKE '%--output-document%') AND data_command_line LIKE '%/tmp/%'\n",
            "```\n",
            "=> Processing rule file proc_creation_lnx_usermod_susp_group.yml:\n"
          ]
        },
        {
          "name": "stderr",
          "output_type": "stream",
          "text": [
            "Parsing Sigma rules\n"
          ]
        },
        {
          "name": "stdout",
          "output_type": "stream",
          "text": [
            "```SELECT * FROM \"kunai\" WHERE data_exe_path LIKE '%/usermod' AND (data_command_line LIKE '%-aG root%' OR data_command_line LIKE '%-aG sudoers%')\n",
            "```\n",
            "=> Processing rule file proc_creation_lnx_netcat_reverse_shell.yml:\n"
          ]
        },
        {
          "name": "stderr",
          "output_type": "stream",
          "text": [
            "Parsing Sigma rules\n"
          ]
        },
        {
          "name": "stdout",
          "output_type": "stream",
          "text": [
            "```SELECT * FROM \"kunai\" WHERE (data_exe_path LIKE '%/nc' OR data_exe_path LIKE '%/ncat') AND (data_command_line LIKE '% -c %' OR data_command_line LIKE '% -e %') AND (data_command_line LIKE '% ash%' OR data_command_line LIKE '% bash%' OR data_command_line LIKE '% bsh%' OR data_command_line LIKE '% csh%' OR data_command_line LIKE '% ksh%' OR data_command_line LIKE '% pdksh%' OR data_command_line LIKE '% sh%' OR data_command_line LIKE '% tcsh%' OR data_command_line LIKE '%/bin/ash%' OR data_command_line LIKE '%/bin/bash%' OR data_command_line LIKE '%/bin/bsh%' OR data_command_line LIKE '%/bin/csh%' OR data_command_line LIKE '%/bin/ksh%' OR data_command_line LIKE '%/bin/pdksh%' OR data_command_line LIKE '%/bin/sh%' OR data_command_line LIKE '%/bin/tcsh%' OR data_command_line LIKE '%/bin/zsh%' OR data_command_line LIKE '%$IFSash%' OR data_command_line LIKE '%$IFSbash%' OR data_command_line LIKE '%$IFSbsh%' OR data_command_line LIKE '%$IFScsh%' OR data_command_line LIKE '%$IFSksh%' OR data_command_line LIKE '%$IFSpdksh%' OR data_command_line LIKE '%$IFSsh%' OR data_command_line LIKE '%$IFStcsh%' OR data_command_line LIKE '%$IFSzsh%')\n",
            "```\n",
            "=> Processing rule file proc_creation_lnx_dd_process_injection.yml:\n"
          ]
        },
        {
          "name": "stderr",
          "output_type": "stream",
          "text": [
            "Parsing Sigma rules\n"
          ]
        },
        {
          "name": "stdout",
          "output_type": "stream",
          "text": [
            "```SELECT * FROM \"kunai\" WHERE data_exe_path LIKE '%/dd' AND (data_command_line LIKE '%of=%' AND data_command_line LIKE '%/proc/%' AND data_command_line LIKE '%/mem%')\n",
            "```\n",
            "=> Processing rule file proc_creation_lnx_proxy_connection.yml:\n"
          ]
        },
        {
          "name": "stderr",
          "output_type": "stream",
          "text": [
            "Parsing Sigma rules\n"
          ]
        },
        {
          "name": "stdout",
          "output_type": "stream",
          "text": [
            "```SELECT * FROM \"kunai\" WHERE data_command_line LIKE '%http_proxy=%' OR data_command_line LIKE '%https_proxy=%'\n",
            "```\n",
            "=> Processing rule file proc_creation_lnx_webshell_detection.yml:\n"
          ]
        },
        {
          "name": "stderr",
          "output_type": "stream",
          "text": [
            "Parsing Sigma rules\n"
          ]
        },
        {
          "name": "stdout",
          "output_type": "stream",
          "text": [
            "```SELECT * FROM \"kunai\" WHERE ((data_ancestors LIKE '%/httpd' OR data_ancestors LIKE '%/lighttpd' OR data_ancestors LIKE '%/nginx' OR data_ancestors LIKE '%/apache2' OR data_ancestors LIKE '%/node' OR data_ancestors LIKE '%/caddy') OR (ParentCommandLine LIKE '%/bin/java%' AND ParentCommandLine LIKE '%tomcat%') OR (ParentCommandLine LIKE '%/bin/java%' AND ParentCommandLine LIKE '%websphere%')) AND (data_exe_path LIKE '%/whoami' OR data_exe_path LIKE '%/ifconfig' OR data_exe_path LIKE '%/ip' OR data_exe_path LIKE '%/bin/uname' OR data_exe_path LIKE '%/bin/cat' OR data_exe_path LIKE '%/bin/crontab' OR data_exe_path LIKE '%/hostname' OR data_exe_path LIKE '%/iptables' OR data_exe_path LIKE '%/netstat' OR data_exe_path LIKE '%/pwd' OR data_exe_path LIKE '%/route')\n",
            "```\n",
            "=> Processing rule file proc_creation_lnx_capsh_shell_invocation.yml:\n"
          ]
        },
        {
          "name": "stderr",
          "output_type": "stream",
          "text": [
            "Parsing Sigma rules\n"
          ]
        },
        {
          "name": "stdout",
          "output_type": "stream",
          "text": [
            "```SELECT * FROM \"kunai\" WHERE data_exe_path LIKE '%/capsh' AND data_command_line LIKE '% --'\n",
            "```\n",
            "=> Processing rule file proc_creation_lnx_xterm_reverse_shell.yml:\n"
          ]
        },
        {
          "name": "stderr",
          "output_type": "stream",
          "text": [
            "Parsing Sigma rules\n"
          ]
        },
        {
          "name": "stdout",
          "output_type": "stream",
          "text": [
            "```SELECT * FROM \"kunai\" WHERE data_exe_path LIKE '%xterm%' AND data_command_line LIKE '%-display%' AND data_command_line LIKE '%:1'\n",
            "```\n",
            "=> Processing rule file proc_creation_lnx_esxcli_syslog_config_change.yml:\n"
          ]
        },
        {
          "name": "stderr",
          "output_type": "stream",
          "text": [
            "Parsing Sigma rules\n"
          ]
        },
        {
          "name": "stdout",
          "output_type": "stream",
          "text": [
            "```SELECT * FROM \"kunai\" WHERE data_exe_path LIKE '%/esxcli' AND (data_command_line LIKE '%system%' AND data_command_line LIKE '%syslog%' AND data_command_line LIKE '%config%') AND data_command_line LIKE '% set%'\n",
            "```\n",
            "=> Processing rule file proc_creation_lnx_gcc_shell_execution.yml:\n"
          ]
        },
        {
          "name": "stderr",
          "output_type": "stream",
          "text": [
            "Parsing Sigma rules\n"
          ]
        },
        {
          "name": "stdout",
          "output_type": "stream",
          "text": [
            "```SELECT * FROM \"kunai\" WHERE ((data_exe_path LIKE '%/c89' OR data_exe_path LIKE '%/c99' OR data_exe_path LIKE '%/gcc') AND data_command_line LIKE '%-wrapper%') AND (data_command_line LIKE '%/bin/bash,-s%' OR data_command_line LIKE '%/bin/dash,-s%' OR data_command_line LIKE '%/bin/fish,-s%' OR data_command_line LIKE '%/bin/sh,-s%' OR data_command_line LIKE '%/bin/zsh,-s%')\n",
            "```\n",
            "=> Processing rule file proc_creation_lnx_ruby_reverse_shell.yml:\n"
          ]
        },
        {
          "name": "stderr",
          "output_type": "stream",
          "text": [
            "Parsing Sigma rules\n"
          ]
        },
        {
          "name": "stdout",
          "output_type": "stream",
          "text": [
            "```SELECT * FROM \"kunai\" WHERE data_exe_path LIKE '%ruby%' AND (data_command_line LIKE '% -e%' AND data_command_line LIKE '%rsocket%' AND data_command_line LIKE '%TCPSocket%') AND (data_command_line LIKE '% ash%' OR data_command_line LIKE '% bash%' OR data_command_line LIKE '% bsh%' OR data_command_line LIKE '% csh%' OR data_command_line LIKE '% ksh%' OR data_command_line LIKE '% pdksh%' OR data_command_line LIKE '% sh%' OR data_command_line LIKE '% tcsh%')\n",
            "```\n",
            "=> Processing rule file proc_creation_lnx_clear_logs.yml:\n"
          ]
        },
        {
          "name": "stderr",
          "output_type": "stream",
          "text": [
            "Parsing Sigma rules\n"
          ]
        },
        {
          "name": "stdout",
          "output_type": "stream",
          "text": [
            "```SELECT * FROM \"kunai\" WHERE (data_exe_path LIKE '%/rm' OR data_exe_path LIKE '%/shred' OR data_exe_path LIKE '%/unlink') AND (data_command_line LIKE '%/var/log%' OR data_command_line LIKE '%/var/spool/mail%')\n",
            "```\n",
            "=> Processing rule file proc_creation_lnx_python_pty_spawn.yml:\n"
          ]
        },
        {
          "name": "stderr",
          "output_type": "stream",
          "text": [
            "Parsing Sigma rules\n"
          ]
        },
        {
          "name": "stdout",
          "output_type": "stream",
          "text": [
            "```SELECT * FROM \"kunai\" WHERE ((data_exe_path LIKE '%/python' OR data_exe_path LIKE '%/python2' OR data_exe_path LIKE '%/python3') OR (data_exe_path LIKE '%/python2.%' OR data_exe_path LIKE '%/python3.%')) AND (data_command_line LIKE '%import pty%' OR data_command_line LIKE '%from pty %') AND data_command_line LIKE '%spawn%'\n",
            "```\n",
            "=> Processing rule file proc_creation_lnx_esxcli_storage_discovery.yml:\n"
          ]
        },
        {
          "name": "stderr",
          "output_type": "stream",
          "text": [
            "Parsing Sigma rules\n"
          ]
        },
        {
          "name": "stdout",
          "output_type": "stream",
          "text": [
            "```SELECT * FROM \"kunai\" WHERE (data_exe_path LIKE '%/esxcli' AND data_command_line LIKE '%storage%') AND (data_command_line LIKE '% get%' OR data_command_line LIKE '% list%')\n",
            "```\n",
            "=> Processing rule file proc_creation_lnx_install_suspicioua_packages.yml:\n"
          ]
        },
        {
          "name": "stderr",
          "output_type": "stream",
          "text": [
            "Parsing Sigma rules\n"
          ]
        },
        {
          "name": "stdout",
          "output_type": "stream",
          "text": [
            "```SELECT * FROM \"kunai\" WHERE (((data_exe_path LIKE '%/apt' OR data_exe_path LIKE '%/apt-get') AND data_command_line LIKE '%install%') OR (data_exe_path LIKE '%/yum' AND (data_command_line LIKE '%localinstall%' OR data_command_line LIKE '%install%')) OR (data_exe_path LIKE '%/rpm' AND data_command_line LIKE '%-i%') OR (data_exe_path LIKE '%/dpkg' AND (data_command_line LIKE '%--install%' OR data_command_line LIKE '%-i%'))) AND (data_command_line LIKE '%nmap%' OR data_command_line LIKE '% nc%' OR data_command_line LIKE '%netcat%' OR data_command_line LIKE '%wireshark%' OR data_command_line LIKE '%tshark%' OR data_command_line LIKE '%openconnect%' OR data_command_line LIKE '%proxychains%')\n",
            "```\n",
            "=> Processing rule file proc_creation_lnx_userdel.yml:\n"
          ]
        },
        {
          "name": "stderr",
          "output_type": "stream",
          "text": [
            "Parsing Sigma rules\n"
          ]
        },
        {
          "name": "stdout",
          "output_type": "stream",
          "text": [
            "```SELECT * FROM \"kunai\" WHERE data_exe_path LIKE '%/userdel'\n",
            "```\n",
            "=> Processing rule file proc_creation_lnx_rsync_shell_execution.yml:\n"
          ]
        },
        {
          "name": "stderr",
          "output_type": "stream",
          "text": [
            "Parsing Sigma rules\n"
          ]
        },
        {
          "name": "stdout",
          "output_type": "stream",
          "text": [
            "```SELECT * FROM \"kunai\" WHERE ((data_exe_path LIKE '%/rsync' OR data_exe_path LIKE '%/rsyncd') AND data_command_line LIKE '% -e %') AND (data_command_line LIKE '%/ash %' OR data_command_line LIKE '%/bash %' OR data_command_line LIKE '%/dash %' OR data_command_line LIKE '%/csh %' OR data_command_line LIKE '%/sh %' OR data_command_line LIKE '%/zsh %' OR data_command_line LIKE '%/tcsh %' OR data_command_line LIKE '%/ksh %' OR data_command_line LIKE '%''ash %' OR data_command_line LIKE '%''bash %' OR data_command_line LIKE '%''dash %' OR data_command_line LIKE '%''csh %' OR data_command_line LIKE '%''sh %' OR data_command_line LIKE '%''zsh %' OR data_command_line LIKE '%''tcsh %' OR data_command_line LIKE '%''ksh %')\n",
            "```\n",
            "=> Processing rule file proc_creation_lnx_susp_inod_listing.yml:\n"
          ]
        },
        {
          "name": "stderr",
          "output_type": "stream",
          "text": [
            "Parsing Sigma rules\n"
          ]
        },
        {
          "name": "stdout",
          "output_type": "stream",
          "text": [
            "```SELECT * FROM \"kunai\" WHERE data_exe_path LIKE '%/ls' AND (data_command_line LIKE '% -%i%' AND data_command_line LIKE '% -%d%') AND data_command_line LIKE '% /'\n",
            "```\n",
            "=> Processing rule file proc_creation_lnx_python_shell_os_system.yml:\n"
          ]
        },
        {
          "name": "stderr",
          "output_type": "stream",
          "text": [
            "Parsing Sigma rules\n"
          ]
        },
        {
          "name": "stdout",
          "output_type": "stream",
          "text": [
            "```SELECT * FROM \"kunai\" WHERE ((data_exe_path LIKE '%/python' OR data_exe_path LIKE '%/python2' OR data_exe_path LIKE '%/python3') OR (data_exe_path LIKE '%/python2.%' OR data_exe_path LIKE '%/python3.%')) AND ((data_command_line LIKE '% -c %' AND data_command_line LIKE '%os.system(%') AND (data_command_line LIKE '%/bin/bash%' OR data_command_line LIKE '%/bin/dash%' OR data_command_line LIKE '%/bin/fish%' OR data_command_line LIKE '%/bin/sh%' OR data_command_line LIKE '%/bin/zsh%'))\n",
            "```\n",
            "=> Processing rule file proc_creation_lnx_find_shell_execution.yml:\n"
          ]
        },
        {
          "name": "stderr",
          "output_type": "stream",
          "text": [
            "Parsing Sigma rules\n"
          ]
        },
        {
          "name": "stdout",
          "output_type": "stream",
          "text": [
            "```SELECT * FROM \"kunai\" WHERE (data_exe_path LIKE '%/find' AND (data_command_line LIKE '% . %' AND data_command_line LIKE '%-exec%')) AND (data_command_line LIKE '%/bin/bash%' OR data_command_line LIKE '%/bin/dash%' OR data_command_line LIKE '%/bin/fish%' OR data_command_line LIKE '%/bin/sh%' OR data_command_line LIKE '%/bin/zsh%')\n",
            "```\n",
            "=> Processing rule file proc_creation_lnx_pnscan_binary_cli_pattern.yml:\n"
          ]
        },
        {
          "name": "stderr",
          "output_type": "stream",
          "text": [
            "Parsing Sigma rules\n"
          ]
        },
        {
          "name": "stdout",
          "output_type": "stream",
          "text": [
            "```SELECT * FROM \"kunai\" WHERE regexp_like(data_command_line, '-(W|R)\\s?(\\s|\"|')([0-9a-fA-F]{2}\\s?){2,20}(\\s|\"|')', 'i')\n",
            "```\n",
            "=> Processing rule file proc_creation_lnx_dd_file_overwrite.yml:\n"
          ]
        },
        {
          "name": "stderr",
          "output_type": "stream",
          "text": [
            "Parsing Sigma rules\n"
          ]
        },
        {
          "name": "stdout",
          "output_type": "stream",
          "text": [
            "```SELECT * FROM \"kunai\" WHERE (data_exe_path='/bin/dd' OR data_exe_path='/usr/bin/dd') AND data_command_line LIKE '%of=%' AND (data_command_line LIKE '%if=/dev/zero%' OR data_command_line LIKE '%if=/dev/null%')\n",
            "```\n",
            "=> Processing rule file proc_creation_lnx_crypto_mining.yml:\n"
          ]
        },
        {
          "name": "stderr",
          "output_type": "stream",
          "text": [
            "Parsing Sigma rules\n"
          ]
        },
        {
          "name": "stdout",
          "output_type": "stream",
          "text": [
            "```SELECT * FROM \"kunai\" WHERE data_command_line LIKE '% --cpu-priority=%' OR data_command_line LIKE '%--donate-level=0%' OR data_command_line LIKE '% -o pool.%' OR data_command_line LIKE '% --nicehash%' OR data_command_line LIKE '% --algo=rx/0 %' OR data_command_line LIKE '%stratum+tcp://%' OR data_command_line LIKE '%stratum+udp://%' OR data_command_line LIKE '%sh -c /sbin/modprobe msr allow_writes=on%' OR data_command_line LIKE '%LS1kb25hdGUtbGV2ZWw9%' OR data_command_line LIKE '%0tZG9uYXRlLWxldmVsP%' OR data_command_line LIKE '%tLWRvbmF0ZS1sZXZlbD%' OR data_command_line LIKE '%c3RyYXR1bSt0Y3A6Ly%' OR data_command_line LIKE '%N0cmF0dW0rdGNwOi8v%' OR data_command_line LIKE '%zdHJhdHVtK3RjcDovL%' OR data_command_line LIKE '%c3RyYXR1bSt1ZHA6Ly%' OR data_command_line LIKE '%N0cmF0dW0rdWRwOi8v%' OR data_command_line LIKE '%zdHJhdHVtK3VkcDovL%'\n",
            "```\n",
            "=> Processing rule file proc_creation_lnx_esxcli_user_account_creation.yml:\n"
          ]
        },
        {
          "name": "stderr",
          "output_type": "stream",
          "text": [
            "Parsing Sigma rules\n"
          ]
        },
        {
          "name": "stdout",
          "output_type": "stream",
          "text": [
            "```SELECT * FROM \"kunai\" WHERE data_exe_path LIKE '%/esxcli' AND (data_command_line LIKE '%system %' AND data_command_line LIKE '%account %' AND data_command_line LIKE '%add %')\n",
            "```\n",
            "=> Processing rule file proc_creation_lnx_clear_syslog.yml:\n"
          ]
        },
        {
          "name": "stderr",
          "output_type": "stream",
          "text": [
            "Parsing Sigma rules\n"
          ]
        },
        {
          "name": "stdout",
          "output_type": "stream",
          "text": [
            "```SELECT * FROM \"kunai\" WHERE data_command_line LIKE '%rm /var/log/syslog%' OR data_command_line LIKE '%rm -r /var/log/syslog%' OR data_command_line LIKE '%rm -f /var/log/syslog%' OR data_command_line LIKE '%rm -rf /var/log/syslog%' OR data_command_line LIKE '%unlink /var/log/syslog%' OR data_command_line LIKE '%unlink -r /var/log/syslog%' OR data_command_line LIKE '%unlink -f /var/log/syslog%' OR data_command_line LIKE '%unlink -rf /var/log/syslog%' OR data_command_line LIKE '%mv /var/log/syslog%' OR data_command_line LIKE '% >/var/log/syslog%' OR data_command_line LIKE '% > /var/log/syslog%'\n",
            "```\n",
            "=> Processing rule file proc_creation_lnx_bash_interactive_shell.yml:\n"
          ]
        },
        {
          "name": "stderr",
          "output_type": "stream",
          "text": [
            "Parsing Sigma rules\n"
          ]
        },
        {
          "name": "stdout",
          "output_type": "stream",
          "text": [
            "```SELECT * FROM \"kunai\" WHERE data_exe_path LIKE '%/bash' AND data_command_line LIKE '% -i %'\n",
            "```\n",
            "=> Processing rule file proc_creation_lnx_vim_shell_execution.yml:\n"
          ]
        },
        {
          "name": "stderr",
          "output_type": "stream",
          "text": [
            "Parsing Sigma rules\n"
          ]
        },
        {
          "name": "stdout",
          "output_type": "stream",
          "text": [
            "```SELECT * FROM \"kunai\" WHERE ((data_exe_path LIKE '%/rvim' OR data_exe_path LIKE '%/vim' OR data_exe_path LIKE '%/vimdiff') AND (data_command_line LIKE '% --cmd%' OR data_command_line LIKE '% -c %')) AND (data_command_line LIKE '%:!/%' OR data_command_line LIKE '%:lua %' OR data_command_line LIKE '%:py %' OR data_command_line LIKE '%/bin/bash%' OR data_command_line LIKE '%/bin/dash%' OR data_command_line LIKE '%/bin/fish%' OR data_command_line LIKE '%/bin/sh%' OR data_command_line LIKE '%/bin/zsh%')\n",
            "```\n",
            "=> Processing rule file proc_creation_lnx_file_deletion.yml:\n"
          ]
        },
        {
          "name": "stderr",
          "output_type": "stream",
          "text": [
            "Parsing Sigma rules\n"
          ]
        },
        {
          "name": "stdout",
          "output_type": "stream",
          "text": [
            "```SELECT * FROM \"kunai\" WHERE data_exe_path LIKE '%/rm' OR data_exe_path LIKE '%/shred' OR data_exe_path LIKE '%/unlink'\n",
            "```\n",
            "=> Processing rule file proc_creation_lnx_at_command.yml:\n"
          ]
        },
        {
          "name": "stderr",
          "output_type": "stream",
          "text": [
            "Parsing Sigma rules\n"
          ]
        },
        {
          "name": "stdout",
          "output_type": "stream",
          "text": [
            "```SELECT * FROM \"kunai\" WHERE data_exe_path LIKE '%/at' OR data_exe_path LIKE '%/atd'\n",
            "```\n",
            "=> Processing rule file proc_creation_lnx_groupdel.yml:\n"
          ]
        },
        {
          "name": "stderr",
          "output_type": "stream",
          "text": [
            "Parsing Sigma rules\n"
          ]
        },
        {
          "name": "stdout",
          "output_type": "stream",
          "text": [
            "```SELECT * FROM \"kunai\" WHERE data_exe_path LIKE '%/groupdel'\n",
            "```\n",
            "=> Processing rule file proc_creation_lnx_nohup.yml:\n"
          ]
        },
        {
          "name": "stderr",
          "output_type": "stream",
          "text": [
            "Parsing Sigma rules\n"
          ]
        },
        {
          "name": "stdout",
          "output_type": "stream",
          "text": [
            "```SELECT * FROM \"kunai\" WHERE data_exe_path LIKE '%/nohup'\n",
            "```\n",
            "=> Processing rule file proc_creation_lnx_grep_os_arch_discovery.yml:\n"
          ]
        },
        {
          "name": "stderr",
          "output_type": "stream",
          "text": [
            "Parsing Sigma rules\n"
          ]
        },
        {
          "name": "stdout",
          "output_type": "stream",
          "text": [
            "```SELECT * FROM \"kunai\" WHERE data_exe_path LIKE '%/grep' AND (data_command_line LIKE '%aarch64' OR data_command_line LIKE '%arm' OR data_command_line LIKE '%i386' OR data_command_line LIKE '%i686' OR data_command_line LIKE '%mips' OR data_command_line LIKE '%x86_64')\n",
            "```\n",
            "=> Processing rule file proc_creation_lnx_flock_shell_execution.yml:\n"
          ]
        },
        {
          "name": "stderr",
          "output_type": "stream",
          "text": [
            "Parsing Sigma rules\n"
          ]
        },
        {
          "name": "stdout",
          "output_type": "stream",
          "text": [
            "```SELECT * FROM \"kunai\" WHERE (data_exe_path LIKE '%/flock' AND data_command_line LIKE '% -u %') AND (data_command_line LIKE '%/bin/bash%' OR data_command_line LIKE '%/bin/dash%' OR data_command_line LIKE '%/bin/fish%' OR data_command_line LIKE '%/bin/sh%' OR data_command_line LIKE '%/bin/zsh%')\n",
            "```\n",
            "=> Processing rule file proc_creation_lnx_esxcli_network_discovery.yml:\n"
          ]
        },
        {
          "name": "stderr",
          "output_type": "stream",
          "text": [
            "Parsing Sigma rules\n"
          ]
        },
        {
          "name": "stdout",
          "output_type": "stream",
          "text": [
            "```SELECT * FROM \"kunai\" WHERE (data_exe_path LIKE '%/esxcli' AND data_command_line LIKE '%network%') AND (data_command_line LIKE '% get%' OR data_command_line LIKE '% list%')\n",
            "```\n",
            "=> Processing rule file proc_creation_lnx_susp_curl_fileupload.yml:\n"
          ]
        },
        {
          "name": "stderr",
          "output_type": "stream",
          "text": [
            "Parsing Sigma rules\n"
          ]
        },
        {
          "name": "stdout",
          "output_type": "stream",
          "text": [
            "```SELECT * FROM \"kunai\" WHERE (data_exe_path LIKE '%/curl' AND ((data_command_line LIKE '% --form%' OR data_command_line LIKE '% --upload-file %' OR data_command_line LIKE '% --data %' OR data_command_line LIKE '% --data-%') OR regexp_like(data_command_line, '\\s-[FTd]\\s', 'i'))) AND (NOT (data_command_line LIKE '%://localhost%' OR data_command_line LIKE '%://127.0.0.1%'))\n",
            "```\n",
            "=> Processing rule file proc_creation_lnx_bpftrace_unsafe_option_usage.yml:\n"
          ]
        },
        {
          "name": "stderr",
          "output_type": "stream",
          "text": [
            "Parsing Sigma rules\n"
          ]
        },
        {
          "name": "stdout",
          "output_type": "stream",
          "text": [
            "```SELECT * FROM \"kunai\" WHERE data_exe_path LIKE '%bpftrace' AND data_command_line LIKE '%--unsafe%'\n",
            "```\n",
            "=> Processing rule file proc_creation_lnx_susp_dockerenv_recon.yml:\n"
          ]
        },
        {
          "name": "stderr",
          "output_type": "stream",
          "text": [
            "Parsing Sigma rules\n"
          ]
        },
        {
          "name": "stdout",
          "output_type": "stream",
          "text": [
            "```SELECT * FROM \"kunai\" WHERE (data_exe_path LIKE '%/cat' OR data_exe_path LIKE '%/dir' OR data_exe_path LIKE '%/find' OR data_exe_path LIKE '%/ls' OR data_exe_path LIKE '%/stat' OR data_exe_path LIKE '%/test' OR data_exe_path LIKE '%grep') AND data_command_line LIKE '%.dockerenv'\n",
            "```\n",
            "=> Processing rule file proc_creation_lnx_system_info_discovery.yml:\n"
          ]
        },
        {
          "name": "stderr",
          "output_type": "stream",
          "text": [
            "Parsing Sigma rules\n"
          ]
        },
        {
          "name": "stdout",
          "output_type": "stream",
          "text": [
            "```SELECT * FROM \"kunai\" WHERE data_exe_path LIKE '%/uname' OR data_exe_path LIKE '%/hostname' OR data_exe_path LIKE '%/uptime' OR data_exe_path LIKE '%/lspci' OR data_exe_path LIKE '%/dmidecode' OR data_exe_path LIKE '%/lscpu' OR data_exe_path LIKE '%/lsmod'\n",
            "```\n",
            "=> Processing rule file proc_creation_lnx_security_software_discovery.yml:\n"
          ]
        },
        {
          "name": "stderr",
          "output_type": "stream",
          "text": [
            "Parsing Sigma rules\n"
          ]
        },
        {
          "name": "stdout",
          "output_type": "stream",
          "text": [
            "```SELECT * FROM \"kunai\" WHERE (data_exe_path LIKE '%/grep' OR data_exe_path LIKE '%/egrep') AND (data_command_line LIKE '%nessusd%' OR data_command_line LIKE '%td-agent%' OR data_command_line LIKE '%packetbeat%' OR data_command_line LIKE '%filebeat%' OR data_command_line LIKE '%auditbeat%' OR data_command_line LIKE '%osqueryd%' OR data_command_line LIKE '%cbagentd%' OR data_command_line LIKE '%falcond%')\n",
            "```\n",
            "=> Processing rule file proc_creation_lnx_mkfifo_named_pipe_creation.yml:\n"
          ]
        },
        {
          "name": "stderr",
          "output_type": "stream",
          "text": [
            "Parsing Sigma rules\n"
          ]
        },
        {
          "name": "stdout",
          "output_type": "stream",
          "text": [
            "```SELECT * FROM \"kunai\" WHERE data_exe_path LIKE '%/mkfifo'\n",
            "```\n",
            "=> Processing rule file proc_creation_lnx_python_reverse_shell.yml:\n"
          ]
        },
        {
          "name": "stderr",
          "output_type": "stream",
          "text": [
            "Parsing Sigma rules\n"
          ]
        },
        {
          "name": "stdout",
          "output_type": "stream",
          "text": [
            "```SELECT * FROM \"kunai\" WHERE data_exe_path LIKE '%python%' AND (data_command_line LIKE '% -c %' AND data_command_line LIKE '%import%' AND data_command_line LIKE '%pty%' AND data_command_line LIKE '%socket%' AND data_command_line LIKE '%spawn%' AND data_command_line LIKE '%.connect%')\n",
            "```\n",
            "=> Processing rule file proc_creation_lnx_susp_container_residence_discovery.yml:\n"
          ]
        },
        {
          "name": "stderr",
          "output_type": "stream",
          "text": [
            "Parsing Sigma rules\n"
          ]
        },
        {
          "name": "stdout",
          "output_type": "stream",
          "text": [
            "```SELECT * FROM \"kunai\" WHERE (data_exe_path LIKE '%awk' OR data_exe_path LIKE '%/cat' OR data_exe_path LIKE '%grep' OR data_exe_path LIKE '%/head' OR data_exe_path LIKE '%/less' OR data_exe_path LIKE '%/more' OR data_exe_path LIKE '%/nl' OR data_exe_path LIKE '%/tail') AND (data_command_line LIKE '%/proc/2/%' OR (data_command_line LIKE '%/proc/%' AND (data_command_line LIKE '%/cgroup' OR data_command_line LIKE '%/sched')))\n",
            "```\n",
            "=> Processing rule file proc_creation_lnx_base64_execution.yml:\n"
          ]
        },
        {
          "name": "stderr",
          "output_type": "stream",
          "text": [
            "Parsing Sigma rules\n"
          ]
        },
        {
          "name": "stdout",
          "output_type": "stream",
          "text": [
            "```SELECT * FROM \"kunai\" WHERE data_command_line LIKE '%base64 %' AND ((data_command_line LIKE '%| bash %' OR data_command_line LIKE '%| sh %' OR data_command_line LIKE '%|bash %' OR data_command_line LIKE '%|sh %') OR (data_command_line LIKE '% |sh' OR data_command_line LIKE '%| bash' OR data_command_line LIKE '%| sh' OR data_command_line LIKE '%|bash'))\n",
            "```\n",
            "=> Processing rule file proc_creation_lnx_susp_shell_script_exec_from_susp_location.yml:\n"
          ]
        },
        {
          "name": "stderr",
          "output_type": "stream",
          "text": [
            "Parsing Sigma rules\n"
          ]
        },
        {
          "name": "stdout",
          "output_type": "stream",
          "text": [
            "```SELECT * FROM \"kunai\" WHERE (data_exe_path LIKE '%/bash' OR data_exe_path LIKE '%/csh' OR data_exe_path LIKE '%/dash' OR data_exe_path LIKE '%/fish' OR data_exe_path LIKE '%/ksh' OR data_exe_path LIKE '%/sh' OR data_exe_path LIKE '%/zsh') AND data_command_line LIKE '% -c %' AND data_command_line LIKE '%/tmp/%'\n",
            "```\n",
            "=> Processing rule file proc_creation_lnx_bpf_kprob_tracing_enabled.yml:\n"
          ]
        },
        {
          "name": "stderr",
          "output_type": "stream",
          "text": [
            "Parsing Sigma rules\n"
          ]
        },
        {
          "name": "stdout",
          "output_type": "stream",
          "text": [
            "```SELECT * FROM \"kunai\" WHERE (data_command_line LIKE '%echo 1 >%' AND data_command_line LIKE '%/sys/kernel/debug/tracing/events/kprobes/%') AND (data_command_line LIKE '%/myprobe/enable%' OR data_command_line LIKE '%/myretprobe/enable%')\n",
            "```\n",
            "=> Processing rule file proc_creation_lnx_esxcli_system_discovery.yml:\n"
          ]
        },
        {
          "name": "stderr",
          "output_type": "stream",
          "text": [
            "Parsing Sigma rules\n"
          ]
        },
        {
          "name": "stdout",
          "output_type": "stream",
          "text": [
            "```SELECT * FROM \"kunai\" WHERE (data_exe_path LIKE '%/esxcli' AND data_command_line LIKE '%system%') AND (data_command_line LIKE '% get%' OR data_command_line LIKE '% list%')\n",
            "```\n",
            "=> Processing rule file proc_creation_lnx_nohup_susp_execution.yml:\n"
          ]
        },
        {
          "name": "stderr",
          "output_type": "stream",
          "text": [
            "Parsing Sigma rules\n"
          ]
        },
        {
          "name": "stdout",
          "output_type": "stream",
          "text": [
            "```SELECT * FROM \"kunai\" WHERE data_exe_path LIKE '%/nohup' AND data_command_line LIKE '%/tmp/%'\n",
            "```\n",
            "=> Processing rule file proc_creation_lnx_system_network_discovery.yml:\n"
          ]
        },
        {
          "name": "stderr",
          "output_type": "stream",
          "text": [
            "Parsing Sigma rules\n"
          ]
        },
        {
          "name": "stdout",
          "output_type": "stream",
          "text": [
            "```SELECT * FROM \"kunai\" WHERE (data_exe_path LIKE '%/firewall-cmd' OR data_exe_path LIKE '%/ufw' OR data_exe_path LIKE '%/iptables' OR data_exe_path LIKE '%/netstat' OR data_exe_path LIKE '%/ss' OR data_exe_path LIKE '%/ip' OR data_exe_path LIKE '%/ifconfig' OR data_exe_path LIKE '%/systemd-resolve' OR data_exe_path LIKE '%/route') OR data_command_line LIKE '%/etc/resolv.conf%'\n",
            "```\n",
            "=> Processing rule file proc_creation_lnx_base64_decode.yml:\n"
          ]
        },
        {
          "name": "stderr",
          "output_type": "stream",
          "text": [
            "Parsing Sigma rules\n"
          ]
        },
        {
          "name": "stdout",
          "output_type": "stream",
          "text": [
            "```SELECT * FROM \"kunai\" WHERE data_exe_path LIKE '%/base64' AND data_command_line LIKE '%-d%'\n",
            "```\n",
            "=> Processing rule file proc_creation_lnx_esxcli_vm_kill.yml:\n"
          ]
        },
        {
          "name": "stderr",
          "output_type": "stream",
          "text": [
            "Parsing Sigma rules\n"
          ]
        },
        {
          "name": "stdout",
          "output_type": "stream",
          "text": [
            "```SELECT * FROM \"kunai\" WHERE data_exe_path LIKE '%/esxcli' AND (data_command_line LIKE '%vm process%' AND data_command_line LIKE '%kill%')\n",
            "```\n",
            "=> Processing rule file proc_creation_lnx_env_shell_invocation.yml:\n"
          ]
        },
        {
          "name": "stderr",
          "output_type": "stream",
          "text": [
            "Parsing Sigma rules\n"
          ]
        },
        {
          "name": "stdout",
          "output_type": "stream",
          "text": [
            "```SELECT * FROM \"kunai\" WHERE data_exe_path LIKE '%/env' AND (data_command_line LIKE '%/bin/bash' OR data_command_line LIKE '%/bin/dash' OR data_command_line LIKE '%/bin/fish' OR data_command_line LIKE '%/bin/sh' OR data_command_line LIKE '%/bin/zsh')\n",
            "```\n",
            "=> Processing rule file proc_creation_lnx_perl_reverse_shell.yml:\n"
          ]
        },
        {
          "name": "stderr",
          "output_type": "stream",
          "text": [
            "Parsing Sigma rules\n"
          ]
        },
        {
          "name": "stdout",
          "output_type": "stream",
          "text": [
            "```SELECT * FROM \"kunai\" WHERE (data_exe_path LIKE '%/perl' AND data_command_line LIKE '% -e %') AND ((data_command_line LIKE '%fdopen(%' AND data_command_line LIKE '%::Socket::INET%') OR (data_command_line LIKE '%Socket%' AND data_command_line LIKE '%connect%' AND data_command_line LIKE '%open%' AND data_command_line LIKE '%exec%'))\n",
            "```\n",
            "=> Processing rule file proc_creation_lnx_triple_cross_rootkit_execve_hijack.yml:\n"
          ]
        },
        {
          "name": "stderr",
          "output_type": "stream",
          "text": [
            "Parsing Sigma rules\n"
          ]
        },
        {
          "name": "stdout",
          "output_type": "stream",
          "text": [
            "```SELECT * FROM \"kunai\" WHERE data_exe_path LIKE '%/sudo' AND data_command_line LIKE '%execve_hijack%'\n",
            "```\n",
            "=> Processing rule file proc_creation_lnx_apt_shell_execution.yml:\n"
          ]
        },
        {
          "name": "stderr",
          "output_type": "stream",
          "text": [
            "Parsing Sigma rules\n"
          ]
        },
        {
          "name": "stdout",
          "output_type": "stream",
          "text": [
            "```SELECT * FROM \"kunai\" WHERE (data_exe_path LIKE '%/apt' OR data_exe_path LIKE '%/apt-get') AND data_command_line LIKE '%APT::Update::Pre-Invoke::=%'\n",
            "```\n",
            "=> Processing rule file proc_creation_lnx_esxcli_permission_change_admin.yml:\n"
          ]
        },
        {
          "name": "stderr",
          "output_type": "stream",
          "text": [
            "Parsing Sigma rules\n"
          ]
        },
        {
          "name": "stdout",
          "output_type": "stream",
          "text": [
            "```SELECT * FROM \"kunai\" WHERE data_exe_path LIKE '%/esxcli' AND data_command_line LIKE '%system%' AND (data_command_line LIKE '% permission %' AND data_command_line LIKE '% set%' AND data_command_line LIKE '%Admin%')\n",
            "```\n",
            "=> Processing rule file proc_creation_lnx_crontab_enumeration.yml:\n"
          ]
        },
        {
          "name": "stderr",
          "output_type": "stream",
          "text": [
            "Parsing Sigma rules\n"
          ]
        },
        {
          "name": "stdout",
          "output_type": "stream",
          "text": [
            "```SELECT * FROM \"kunai\" WHERE data_exe_path LIKE '%/crontab' AND data_command_line LIKE '% -l%'\n",
            "```\n",
            "=> Processing rule file proc_creation_lnx_setgid_setuid.yml:\n"
          ]
        },
        {
          "name": "stderr",
          "output_type": "stream",
          "text": [
            "Parsing Sigma rules\n"
          ]
        },
        {
          "name": "stdout",
          "output_type": "stream",
          "text": [
            "```SELECT * FROM \"kunai\" WHERE data_command_line LIKE '%chown root%' AND (data_command_line LIKE '% chmod u+s%' OR data_command_line LIKE '% chmod g+s%')\n",
            "```\n",
            "=> Processing rule file proc_creation_lnx_susp_git_clone.yml:\n"
          ]
        },
        {
          "name": "stderr",
          "output_type": "stream",
          "text": [
            "Parsing Sigma rules\n"
          ]
        },
        {
          "name": "stdout",
          "output_type": "stream",
          "text": [
            "```SELECT * FROM \"kunai\" WHERE (data_exe_path LIKE '%/git' AND data_command_line LIKE '% clone %') AND (data_command_line LIKE '%exploit%' OR data_command_line LIKE '%Vulns%' OR data_command_line LIKE '%vulnerability%' OR data_command_line LIKE '%RCE%' OR data_command_line LIKE '%RemoteCodeExecution%' OR data_command_line LIKE '%Invoke-%' OR data_command_line LIKE '%CVE-%' OR data_command_line LIKE '%poc-%' OR data_command_line LIKE '%ProofOfConcept%' OR data_command_line LIKE '%proxyshell%' OR data_command_line LIKE '%log4shell%' OR data_command_line LIKE '%eternalblue%' OR data_command_line LIKE '%eternal-blue%' OR data_command_line LIKE '%MS17-%')\n",
            "```\n",
            "=> Processing rule file proc_creation_lnx_awk_shell_spawn.yml:\n"
          ]
        },
        {
          "name": "stderr",
          "output_type": "stream",
          "text": [
            "Parsing Sigma rules\n"
          ]
        },
        {
          "name": "stdout",
          "output_type": "stream",
          "text": [
            "```SELECT * FROM \"kunai\" WHERE ((data_exe_path LIKE '%/awk' OR data_exe_path LIKE '%/gawk' OR data_exe_path LIKE '%/mawk' OR data_exe_path LIKE '%/nawk') AND data_command_line LIKE '%BEGIN {system%') AND (data_command_line LIKE '%/bin/bash%' OR data_command_line LIKE '%/bin/dash%' OR data_command_line LIKE '%/bin/fish%' OR data_command_line LIKE '%/bin/sh%' OR data_command_line LIKE '%/bin/zsh%')\n",
            "```\n",
            "=> Processing rule file proc_creation_lnx_susp_interactive_bash.yml:\n"
          ]
        },
        {
          "name": "stderr",
          "output_type": "stream",
          "text": [
            "Parsing Sigma rules\n"
          ]
        },
        {
          "name": "stdout",
          "output_type": "stream",
          "text": [
            "```SELECT * FROM \"kunai\" WHERE ParentCommandLine='bash -i' AND ((data_command_line LIKE '%-c import %' OR data_command_line LIKE '%base64%' OR data_command_line LIKE '%pty.spawn%') OR (data_exe_path LIKE '%whoami' OR data_exe_path LIKE '%iptables' OR data_exe_path LIKE '%/ncat' OR data_exe_path LIKE '%/nc' OR data_exe_path LIKE '%/netcat'))\n",
            "```\n",
            "=> Processing rule file proc_creation_lnx_susp_pipe_shell.yml:\n"
          ]
        },
        {
          "name": "stderr",
          "output_type": "stream",
          "text": [
            "Parsing Sigma rules\n"
          ]
        },
        {
          "name": "stdout",
          "output_type": "stream",
          "text": [
            "```SELECT * FROM \"kunai\" WHERE (data_command_line LIKE 'sh -c %' OR data_command_line LIKE 'bash -c %') AND ((data_command_line LIKE '%| bash %' OR data_command_line LIKE '%| sh %' OR data_command_line LIKE '%|bash %' OR data_command_line LIKE '%|sh %') OR (data_command_line LIKE '%| bash' OR data_command_line LIKE '%| sh' OR data_command_line LIKE '%|bash' OR data_command_line LIKE '% |sh'))\n",
            "```\n",
            "=> Processing rule file proc_creation_lnx_ssh_shell_execution.yml:\n"
          ]
        },
        {
          "name": "stderr",
          "output_type": "stream",
          "text": [
            "Parsing Sigma rules\n"
          ]
        },
        {
          "name": "stdout",
          "output_type": "stream",
          "text": [
            "```SELECT * FROM \"kunai\" WHERE (data_exe_path LIKE '%/ssh' AND (data_command_line LIKE '%ProxyCommand=;%' OR data_command_line LIKE '%permitlocalcommand=yes%' OR data_command_line LIKE '%localhost%')) AND (data_command_line LIKE '%/bin/bash%' OR data_command_line LIKE '%/bin/dash%' OR data_command_line LIKE '%/bin/fish%' OR data_command_line LIKE '%/bin/sh%' OR data_command_line LIKE '%/bin/zsh%' OR data_command_line LIKE '%sh 0<&2 1>&2%' OR data_command_line LIKE '%sh 1>&2 0<&2%')\n",
            "```\n",
            "=> Processing rule file proc_creation_lnx_susp_find_execution.yml:\n"
          ]
        },
        {
          "name": "stderr",
          "output_type": "stream",
          "text": [
            "Parsing Sigma rules\n"
          ]
        },
        {
          "name": "stdout",
          "output_type": "stream",
          "text": [
            "```SELECT * FROM \"kunai\" WHERE data_exe_path LIKE '%/find' AND (data_command_line LIKE '%-perm -4000%' OR data_command_line LIKE '%-perm -2000%' OR data_command_line LIKE '%-perm 0777%' OR data_command_line LIKE '%-perm -222%' OR data_command_line LIKE '%-perm -o w%' OR data_command_line LIKE '%-perm -o x%' OR data_command_line LIKE '%-perm -u=s%' OR data_command_line LIKE '%-perm -g=s%')\n",
            "```\n",
            "=> Processing rule file proc_creation_lnx_iptables_flush_ufw.yml:\n"
          ]
        },
        {
          "name": "stderr",
          "output_type": "stream",
          "text": [
            "Parsing Sigma rules\n"
          ]
        },
        {
          "name": "stdout",
          "output_type": "stream",
          "text": [
            "```SELECT * FROM \"kunai\" WHERE (data_exe_path LIKE '%/iptables' OR data_exe_path LIKE '%/xtables-legacy-multi' OR data_exe_path LIKE '%/iptables-legacy-multi' OR data_exe_path LIKE '%/ip6tables' OR data_exe_path LIKE '%/ip6tables-legacy-multi') AND (data_command_line LIKE '%-F%' OR data_command_line LIKE '%-Z%' OR data_command_line LIKE '%-X%') AND (data_command_line LIKE '%ufw-logging-deny%' OR data_command_line LIKE '%ufw-logging-allow%' OR data_command_line LIKE '%ufw6-logging-deny%' OR data_command_line LIKE '%ufw6-logging-allow%')\n",
            "```\n",
            "=> Processing rule file proc_creation_lnx_susp_curl_useragent.yml:\n"
          ]
        },
        {
          "name": "stderr",
          "output_type": "stream",
          "text": [
            "Parsing Sigma rules\n"
          ]
        },
        {
          "name": "stdout",
          "output_type": "stream",
          "text": [
            "```SELECT * FROM \"kunai\" WHERE data_exe_path LIKE '%/curl' AND (data_command_line LIKE '% -A %' OR data_command_line LIKE '% --user-agent %')\n",
            "```\n",
            "=> Processing rule file proc_creation_lnx_mkfifo_named_pipe_creation_susp_location.yml:\n"
          ]
        },
        {
          "name": "stderr",
          "output_type": "stream",
          "text": [
            "Parsing Sigma rules\n"
          ]
        },
        {
          "name": "stdout",
          "output_type": "stream",
          "text": [
            "```SELECT * FROM \"kunai\" WHERE data_exe_path LIKE '%/mkfifo' AND data_command_line LIKE '% /tmp/%'\n",
            "```\n",
            "=> Processing rule file proc_creation_lnx_mount_hidepid.yml:\n"
          ]
        },
        {
          "name": "stderr",
          "output_type": "stream",
          "text": [
            "Parsing Sigma rules\n"
          ]
        },
        {
          "name": "stdout",
          "output_type": "stream",
          "text": [
            "```SELECT * FROM \"kunai\" WHERE data_exe_path LIKE '%/mount' AND (data_command_line LIKE '%hidepid=2%' AND data_command_line LIKE '% -o %')\n",
            "```\n",
            "=> Processing rule file proc_creation_lnx_cve_2022_26134_atlassian_confluence.yml:\n"
          ]
        },
        {
          "name": "stderr",
          "output_type": "stream",
          "text": [
            "Parsing Sigma rules\n"
          ]
        },
        {
          "name": "stdout",
          "output_type": "stream",
          "text": [
            "```SELECT * FROM \"kunai\" WHERE data_ancestors LIKE '/opt/atlassian/confluence/%' AND data_ancestors LIKE '%/java' AND (data_command_line LIKE '%/bin/sh%' OR data_command_line LIKE '%bash%' OR data_command_line LIKE '%dash%' OR data_command_line LIKE '%ksh%' OR data_command_line LIKE '%zsh%' OR data_command_line LIKE '%csh%' OR data_command_line LIKE '%fish%' OR data_command_line LIKE '%curl%' OR data_command_line LIKE '%wget%' OR data_command_line LIKE '%python%')\n",
            "```\n",
            "=> Processing rule file proc_creation_lnx_susp_sensitive_file_access.yml:\n"
          ]
        },
        {
          "name": "stderr",
          "output_type": "stream",
          "text": [
            "Parsing Sigma rules\n"
          ]
        },
        {
          "name": "stdout",
          "output_type": "stream",
          "text": [
            "```SELECT * FROM \"kunai\" WHERE (((data_exe_path LIKE '%/cat' OR data_exe_path LIKE '%/echo' OR data_exe_path LIKE '%/grep' OR data_exe_path LIKE '%/head' OR data_exe_path LIKE '%/more' OR data_exe_path LIKE '%/tail') AND data_command_line LIKE '%>%') OR (data_exe_path LIKE '%/emacs' OR data_exe_path LIKE '%/nano' OR data_exe_path LIKE '%/sed' OR data_exe_path LIKE '%/vi' OR data_exe_path LIKE '%/vim')) AND (data_command_line LIKE '%/bin/login%' OR data_command_line LIKE '%/bin/passwd%' OR data_command_line LIKE '%/boot/%' OR data_command_line LIKE '%/etc/%.conf%' OR data_command_line LIKE '%/etc/cron.%' OR data_command_line LIKE '%/etc/crontab%' OR data_command_line LIKE '%/etc/hosts%' OR data_command_line LIKE '%/etc/init.d%' OR data_command_line LIKE '%/etc/sudoers%' OR data_command_line LIKE '%/opt/bin/%' OR data_command_line LIKE '%/sbin%' OR data_command_line LIKE '%/usr/bin/%' OR data_command_line LIKE '%/usr/local/bin/%')\n",
            "```\n",
            "=> Processing rule file proc_creation_lnx_esxcli_vm_discovery.yml:\n"
          ]
        },
        {
          "name": "stderr",
          "output_type": "stream",
          "text": [
            "Parsing Sigma rules\n"
          ]
        },
        {
          "name": "stdout",
          "output_type": "stream",
          "text": [
            "```SELECT * FROM \"kunai\" WHERE data_exe_path LIKE '%/esxcli' AND data_command_line LIKE '%vm process%' AND data_command_line LIKE '% list'\n",
            "```\n",
            "=> Processing rule file proc_creation_lnx_susp_recon_indicators.yml:\n"
          ]
        },
        {
          "name": "stderr",
          "output_type": "stream",
          "text": [
            "Parsing Sigma rules\n"
          ]
        },
        {
          "name": "stdout",
          "output_type": "stream",
          "text": [
            "```SELECT * FROM \"kunai\" WHERE data_command_line LIKE '% -name .htpasswd%' OR data_command_line LIKE '% -perm -4000 %'\n",
            "```\n",
            "=> Processing rule file proc_creation_lnx_git_shell_execution.yml:\n"
          ]
        },
        {
          "name": "stderr",
          "output_type": "stream",
          "text": [
            "Parsing Sigma rules\n"
          ]
        },
        {
          "name": "stdout",
          "output_type": "stream",
          "text": [
            "```SELECT * FROM \"kunai\" WHERE data_ancestors LIKE '%/git' AND (ParentCommandLine LIKE '% -p %' AND ParentCommandLine LIKE '%help%') AND (data_command_line LIKE '%bash 0<&1%' OR data_command_line LIKE '%dash 0<&1%' OR data_command_line LIKE '%sh 0<&1%')\n",
            "```\n",
            "=> Processing rule file proc_creation_lnx_cp_passwd_or_shadow_tmp.yml:\n"
          ]
        },
        {
          "name": "stderr",
          "output_type": "stream",
          "text": [
            "Parsing Sigma rules\n"
          ]
        },
        {
          "name": "stdout",
          "output_type": "stream",
          "text": [
            "```SELECT * FROM \"kunai\" WHERE data_exe_path LIKE '%/cp' AND data_command_line LIKE '%/tmp/%' AND (data_command_line LIKE '%passwd%' OR data_command_line LIKE '%shadow%')\n",
            "```\n",
            "=> Processing rule file proc_creation_lnx_susp_shell_child_process_from_parent_tmp_folder.yml:\n"
          ]
        },
        {
          "name": "stderr",
          "output_type": "stream",
          "text": [
            "Parsing Sigma rules\n"
          ]
        },
        {
          "name": "stdout",
          "output_type": "stream",
          "text": [
            "```SELECT * FROM \"kunai\" WHERE data_ancestors LIKE '/tmp/%' AND (data_exe_path LIKE '%/bash' OR data_exe_path LIKE '%/csh' OR data_exe_path LIKE '%/dash' OR data_exe_path LIKE '%/fish' OR data_exe_path LIKE '%/ksh' OR data_exe_path LIKE '%/sh' OR data_exe_path LIKE '%/zsh')\n",
            "```\n",
            "=> Processing rule file proc_creation_lnx_susp_network_utilities_execution.yml:\n"
          ]
        },
        {
          "name": "stderr",
          "output_type": "stream",
          "text": [
            "Parsing Sigma rules\n"
          ]
        },
        {
          "name": "stdout",
          "output_type": "stream",
          "text": [
            "```SELECT * FROM \"kunai\" WHERE ((data_exe_path LIKE '%/nc' OR data_exe_path LIKE '%/ncat' OR data_exe_path LIKE '%/netcat' OR data_exe_path LIKE '%/socat') AND (NOT (data_command_line LIKE '% --listen %' OR data_command_line LIKE '% -l %'))) OR (data_exe_path LIKE '%/autorecon' OR data_exe_path LIKE '%/hping' OR data_exe_path LIKE '%/hping2' OR data_exe_path LIKE '%/hping3' OR data_exe_path LIKE '%/naabu' OR data_exe_path LIKE '%/nmap' OR data_exe_path LIKE '%/nping' OR data_exe_path LIKE '%/telnet' OR data_exe_path LIKE '%/zenmap')\n",
            "```\n",
            "=> Processing rule file proc_creation_lnx_doas_execution.yml:\n"
          ]
        },
        {
          "name": "stderr",
          "output_type": "stream",
          "text": [
            "Parsing Sigma rules\n"
          ]
        },
        {
          "name": "stdout",
          "output_type": "stream",
          "text": [
            "```SELECT * FROM \"kunai\" WHERE data_exe_path LIKE '%/doas'\n",
            "```\n",
            "=> Processing rule file proc_creation_lnx_system_network_connections_discovery.yml:\n"
          ]
        },
        {
          "name": "stderr",
          "output_type": "stream",
          "text": [
            "Parsing Sigma rules\n"
          ]
        },
        {
          "name": "stdout",
          "output_type": "stream",
          "text": [
            "```SELECT * FROM \"kunai\" WHERE (data_exe_path LIKE '%/who' OR data_exe_path LIKE '%/w' OR data_exe_path LIKE '%/last' OR data_exe_path LIKE '%/lsof' OR data_exe_path LIKE '%/netstat') AND (NOT (ParentCommandLine LIKE '%/usr/bin/landscape-sysinfo%' AND data_exe_path LIKE '%/who'))\n",
            "```\n",
            "=> Processing rule file proc_creation_lnx_omigod_scx_runasprovider_executescript.yml:\n"
          ]
        },
        {
          "name": "stderr",
          "output_type": "stream",
          "text": [
            "Parsing Sigma rules\n"
          ]
        },
        {
          "name": "stdout",
          "output_type": "stream",
          "text": [
            "```SELECT * FROM \"kunai\" WHERE info_task_user='root' AND info_task_uid=0 AND CurrentDirectory='/var/opt/microsoft/scx/tmp' AND data_command_line LIKE '%/etc/opt/microsoft/scx/conf/tmpdir/scx%'\n",
            "```\n",
            "=> Processing rule file proc_creation_lnx_triple_cross_rootkit_install.yml:\n"
          ]
        },
        {
          "name": "stderr",
          "output_type": "stream",
          "text": [
            "Parsing Sigma rules\n"
          ]
        },
        {
          "name": "stdout",
          "output_type": "stream",
          "text": [
            "```SELECT * FROM \"kunai\" WHERE data_exe_path LIKE '%/sudo' AND (data_command_line LIKE '% tc %' AND data_command_line LIKE '% enp0s3 %') AND (data_command_line LIKE '% qdisc %' OR data_command_line LIKE '% filter %')\n",
            "```\n",
            "=> Processing rule file proc_creation_lnx_local_account.yml:\n"
          ]
        },
        {
          "name": "stderr",
          "output_type": "stream",
          "text": [
            "Parsing Sigma rules\n"
          ]
        },
        {
          "name": "stdout",
          "output_type": "stream",
          "text": [
            "```SELECT * FROM \"kunai\" WHERE data_exe_path LIKE '%/lastlog' OR data_command_line LIKE '%''x:0:''%' OR ((data_exe_path LIKE '%/cat' OR data_exe_path LIKE '%/ed' OR data_exe_path LIKE '%/head' OR data_exe_path LIKE '%/more' OR data_exe_path LIKE '%/nano' OR data_exe_path LIKE '%/tail' OR data_exe_path LIKE '%/vi' OR data_exe_path LIKE '%/vim' OR data_exe_path LIKE '%/less' OR data_exe_path LIKE '%/emacs' OR data_exe_path LIKE '%/sqlite3' OR data_exe_path LIKE '%/makemap') AND (data_command_line LIKE '%/etc/passwd%' OR data_command_line LIKE '%/etc/shadow%' OR data_command_line LIKE '%/etc/sudoers%' OR data_command_line LIKE '%/etc/spwd.db%' OR data_command_line LIKE '%/etc/pwd.db%' OR data_command_line LIKE '%/etc/master.passwd%')) OR data_exe_path LIKE '%/id' OR (data_exe_path LIKE '%/lsof' AND data_command_line LIKE '%-u%')\n",
            "```\n",
            "=> Processing rule file proc_creation_lnx_susp_java_children.yml:\n"
          ]
        },
        {
          "name": "stderr",
          "output_type": "stream",
          "text": [
            "Parsing Sigma rules\n"
          ]
        },
        {
          "name": "stdout",
          "output_type": "stream",
          "text": [
            "```SELECT * FROM \"kunai\" WHERE data_ancestors LIKE '%/java' AND (data_command_line LIKE '%/bin/sh%' OR data_command_line LIKE '%bash%' OR data_command_line LIKE '%dash%' OR data_command_line LIKE '%ksh%' OR data_command_line LIKE '%zsh%' OR data_command_line LIKE '%csh%' OR data_command_line LIKE '%fish%' OR data_command_line LIKE '%curl%' OR data_command_line LIKE '%wget%' OR data_command_line LIKE '%python%')\n",
            "```\n",
            "=> Processing rule file proc_creation_lnx_cve_2022_33891_spark_shell_command_injection.yml:\n"
          ]
        },
        {
          "name": "stderr",
          "output_type": "stream",
          "text": [
            "Parsing Sigma rules\n"
          ]
        },
        {
          "name": "stdout",
          "output_type": "stream",
          "text": [
            "```SELECT * FROM \"kunai\" WHERE data_ancestors LIKE '%\\bash' AND (data_command_line LIKE '%id -Gn `%' OR data_command_line LIKE '%id -Gn ''%')\n",
            "```\n",
            "=> Processing rule file proc_creation_lnx_chattr_immutable_removal.yml:\n"
          ]
        },
        {
          "name": "stderr",
          "output_type": "stream",
          "text": [
            "Parsing Sigma rules\n"
          ]
        },
        {
          "name": "stdout",
          "output_type": "stream",
          "text": [
            "```SELECT * FROM \"kunai\" WHERE data_exe_path LIKE '%/chattr' AND data_command_line LIKE '% -i %'\n",
            "```\n",
            "=> Processing rule file proc_creation_lnx_remote_system_discovery.yml:\n"
          ]
        },
        {
          "name": "stderr",
          "output_type": "stream",
          "text": [
            "Parsing Sigma rules\n"
          ]
        },
        {
          "name": "stdout",
          "output_type": "stream",
          "text": [
            "```SELECT * FROM \"kunai\" WHERE (data_exe_path LIKE '%/arp' AND data_command_line LIKE '%-a%') OR (data_exe_path LIKE '%/ping' AND (data_command_line LIKE '% 10.%' OR data_command_line LIKE '% 192.168.%' OR data_command_line LIKE '% 172.16.%' OR data_command_line LIKE '% 172.17.%' OR data_command_line LIKE '% 172.18.%' OR data_command_line LIKE '% 172.19.%' OR data_command_line LIKE '% 172.20.%' OR data_command_line LIKE '% 172.21.%' OR data_command_line LIKE '% 172.22.%' OR data_command_line LIKE '% 172.23.%' OR data_command_line LIKE '% 172.24.%' OR data_command_line LIKE '% 172.25.%' OR data_command_line LIKE '% 172.26.%' OR data_command_line LIKE '% 172.27.%' OR data_command_line LIKE '% 172.28.%' OR data_command_line LIKE '% 172.29.%' OR data_command_line LIKE '% 172.30.%' OR data_command_line LIKE '% 172.31.%' OR data_command_line LIKE '% 127.%' OR data_command_line LIKE '% 169.254.%'))\n",
            "```\n",
            "=> Processing rule file proc_creation_lnx_rsync_shell_spawn.yml:\n"
          ]
        },
        {
          "name": "stderr",
          "output_type": "stream",
          "text": [
            "Parsing Sigma rules\n"
          ]
        },
        {
          "name": "stdout",
          "output_type": "stream",
          "text": [
            "```SELECT * FROM \"kunai\" WHERE ((data_ancestors LIKE '%/rsync' OR data_ancestors LIKE '%/rsyncd') AND (data_exe_path LIKE '%/ash' OR data_exe_path LIKE '%/bash' OR data_exe_path LIKE '%/csh' OR data_exe_path LIKE '%/dash' OR data_exe_path LIKE '%/ksh' OR data_exe_path LIKE '%/sh' OR data_exe_path LIKE '%/tcsh' OR data_exe_path LIKE '%/zsh')) AND (NOT data_command_line LIKE '% -e %')\n",
            "```\n",
            "=> Processing rule file proc_creation_lnx_php_reverse_shell.yml:\n"
          ]
        },
        {
          "name": "stderr",
          "output_type": "stream",
          "text": [
            "Parsing Sigma rules\n"
          ]
        },
        {
          "name": "stdout",
          "output_type": "stream",
          "text": [
            "```SELECT * FROM \"kunai\" WHERE data_exe_path LIKE '%/php%' AND (data_command_line LIKE '% -r %' AND data_command_line LIKE '%fsockopen%') AND (data_command_line LIKE '%ash%' OR data_command_line LIKE '%bash%' OR data_command_line LIKE '%bsh%' OR data_command_line LIKE '%csh%' OR data_command_line LIKE '%ksh%' OR data_command_line LIKE '%pdksh%' OR data_command_line LIKE '%sh%' OR data_command_line LIKE '%tcsh%' OR data_command_line LIKE '%zsh%')\n",
            "```\n",
            "=> Processing rule file proc_creation_lnx_local_groups.yml:\n"
          ]
        },
        {
          "name": "stderr",
          "output_type": "stream",
          "text": [
            "Parsing Sigma rules\n"
          ]
        },
        {
          "name": "stdout",
          "output_type": "stream",
          "text": [
            "```SELECT * FROM \"kunai\" WHERE data_exe_path LIKE '%/groups' OR ((data_exe_path LIKE '%/cat' OR data_exe_path LIKE '%/head' OR data_exe_path LIKE '%/tail' OR data_exe_path LIKE '%/more') AND data_command_line LIKE '%/etc/group%')\n",
            "```\n",
            "=> Processing rule file proc_creation_lnx_security_tools_disabling.yml:\n"
          ]
        },
        {
          "name": "stderr",
          "output_type": "stream",
          "text": [
            "Parsing Sigma rules\n"
          ]
        },
        {
          "name": "stdout",
          "output_type": "stream",
          "text": [
            "```SELECT * FROM \"kunai\" WHERE (data_exe_path LIKE '%/service' AND (data_command_line LIKE '%iptables%' AND data_command_line LIKE '%stop%')) OR (data_exe_path LIKE '%/service' AND (data_command_line LIKE '%ip6tables%' AND data_command_line LIKE '%stop%')) OR (data_exe_path LIKE '%/chkconfig' AND (data_command_line LIKE '%iptables%' AND data_command_line LIKE '%stop%')) OR (data_exe_path LIKE '%/chkconfig' AND (data_command_line LIKE '%ip6tables%' AND data_command_line LIKE '%stop%')) OR (data_exe_path LIKE '%/systemctl' AND (data_command_line LIKE '%firewalld%' AND data_command_line LIKE '%stop%')) OR (data_exe_path LIKE '%/systemctl' AND (data_command_line LIKE '%firewalld%' AND data_command_line LIKE '%disable%')) OR (data_exe_path LIKE '%/service' AND (data_command_line LIKE '%cbdaemon%' AND data_command_line LIKE '%stop%')) OR (data_exe_path LIKE '%/chkconfig' AND (data_command_line LIKE '%cbdaemon%' AND data_command_line LIKE '%off%')) OR (data_exe_path LIKE '%/systemctl' AND (data_command_line LIKE '%cbdaemon%' AND data_command_line LIKE '%stop%')) OR (data_exe_path LIKE '%/systemctl' AND (data_command_line LIKE '%cbdaemon%' AND data_command_line LIKE '%disable%')) OR (data_exe_path LIKE '%/setenforce' AND data_command_line LIKE '%0%') OR (data_exe_path LIKE '%/systemctl' AND (data_command_line LIKE '%stop%' AND data_command_line LIKE '%falcon-sensor%')) OR (data_exe_path LIKE '%/systemctl' AND (data_command_line LIKE '%disable%' AND data_command_line LIKE '%falcon-sensor%'))\n",
            "```\n",
            "=> Processing rule file proc_creation_lnx_crontab_removal.yml:\n"
          ]
        },
        {
          "name": "stderr",
          "output_type": "stream",
          "text": [
            "Parsing Sigma rules\n"
          ]
        },
        {
          "name": "stdout",
          "output_type": "stream",
          "text": [
            "```SELECT * FROM \"kunai\" WHERE data_exe_path LIKE '%crontab' AND data_command_line LIKE '% -r%'\n",
            "```\n",
            "=> Processing rule file proc_creation_lnx_omigod_scx_runasprovider_executeshellcommand.yml:\n"
          ]
        },
        {
          "name": "stderr",
          "output_type": "stream",
          "text": [
            "Parsing Sigma rules\n"
          ]
        },
        {
          "name": "stdout",
          "output_type": "stream",
          "text": [
            "```SELECT * FROM \"kunai\" WHERE info_task_user='root' AND info_task_uid=0 AND CurrentDirectory='/var/opt/microsoft/scx/tmp' AND data_command_line LIKE '%/bin/sh%'\n",
            "```\n",
            "=> Processing rule file proc_creation_lnx_esxcli_vsan_discovery.yml:\n"
          ]
        },
        {
          "name": "stderr",
          "output_type": "stream",
          "text": [
            "Parsing Sigma rules\n"
          ]
        },
        {
          "name": "stdout",
          "output_type": "stream",
          "text": [
            "```SELECT * FROM \"kunai\" WHERE (data_exe_path LIKE '%/esxcli' AND data_command_line LIKE '%vsan%') AND (data_command_line LIKE '% get%' OR data_command_line LIKE '% list%')\n",
            "```\n",
            "=> Processing rule file proc_creation_lnx_remove_package.yml:\n"
          ]
        },
        {
          "name": "stderr",
          "output_type": "stream",
          "text": [
            "Parsing Sigma rules\n"
          ]
        },
        {
          "name": "stdout",
          "output_type": "stream",
          "text": [
            "```SELECT * FROM \"kunai\" WHERE (data_exe_path LIKE '%/yum' AND (data_command_line LIKE '%erase%' OR data_command_line LIKE '%remove%')) OR ((data_exe_path LIKE '%/apt' OR data_exe_path LIKE '%/apt-get') AND (data_command_line LIKE '%remove%' OR data_command_line LIKE '%purge%')) OR (data_exe_path LIKE '%/dpkg' AND (data_command_line LIKE '%--remove %' OR data_command_line LIKE '% -r %')) OR (data_exe_path LIKE '%/rpm' AND data_command_line LIKE '% -e %')\n",
            "```\n",
            "=> Processing rule file proc_creation_lnx_clipboard_collection.yml:\n"
          ]
        },
        {
          "name": "stderr",
          "output_type": "stream",
          "text": [
            "Parsing Sigma rules\n"
          ]
        },
        {
          "name": "stdout",
          "output_type": "stream",
          "text": [
            "```SELECT * FROM \"kunai\" WHERE data_exe_path LIKE '%xclip%' AND (data_command_line LIKE '%-sel%' AND data_command_line LIKE '%clip%' AND data_command_line LIKE '%-o%')\n",
            "```\n"
          ]
        }
      ],
      "source": [
        "rulesdir = os.environ[\"HOME\"] + \"/tmp/sigma/rules/linux/process_creation\"\n",
        "(df_res2, df_stats2) = convert_rulesdir(\n",
        "    openobserve_prov, rulesdir, pipeline_f, table_name, stats=True\n",
        ")"
      ]
    },
    {
      "cell_type": "code",
      "execution_count": 29,
      "metadata": {},
      "outputs": [
        {
          "data": {
            "text/html": [
              "<div>\n",
              "<style scoped>\n",
              "    .dataframe tbody tr th:only-of-type {\n",
              "        vertical-align: middle;\n",
              "    }\n",
              "\n",
              "    .dataframe tbody tr th {\n",
              "        vertical-align: top;\n",
              "    }\n",
              "\n",
              "    .dataframe thead th {\n",
              "        text-align: right;\n",
              "    }\n",
              "</style>\n",
              "<table border=\"1\" class=\"dataframe\">\n",
              "  <thead>\n",
              "    <tr style=\"text-align: right;\">\n",
              "      <th></th>\n",
              "      <th>rule</th>\n",
              "      <th>empty</th>\n",
              "      <th>errors</th>\n",
              "      <th>hits</th>\n",
              "    </tr>\n",
              "  </thead>\n",
              "  <tbody>\n",
              "    <tr>\n",
              "      <th>0</th>\n",
              "      <td>proc_creation_lnx_malware_gobrat_grep_payload_...</td>\n",
              "      <td>True</td>\n",
              "      <td>False</td>\n",
              "      <td>0</td>\n",
              "    </tr>\n",
              "    <tr>\n",
              "      <th>1</th>\n",
              "      <td>proc_creation_lnx_touch_susp.yml</td>\n",
              "      <td>True</td>\n",
              "      <td>False</td>\n",
              "      <td>0</td>\n",
              "    </tr>\n",
              "    <tr>\n",
              "      <th>2</th>\n",
              "      <td>proc_creation_lnx_file_and_directory_discovery...</td>\n",
              "      <td>False</td>\n",
              "      <td>False</td>\n",
              "      <td>1000</td>\n",
              "    </tr>\n",
              "    <tr>\n",
              "      <th>3</th>\n",
              "      <td>proc_creation_lnx_ssm_agent_abuse.yml</td>\n",
              "      <td>True</td>\n",
              "      <td>False</td>\n",
              "      <td>0</td>\n",
              "    </tr>\n",
              "    <tr>\n",
              "      <th>4</th>\n",
              "      <td>proc_creation_lnx_base64_shebang_cli.yml</td>\n",
              "      <td>True</td>\n",
              "      <td>False</td>\n",
              "      <td>0</td>\n",
              "    </tr>\n",
              "    <tr>\n",
              "      <th>...</th>\n",
              "      <td>...</td>\n",
              "      <td>...</td>\n",
              "      <td>...</td>\n",
              "      <td>...</td>\n",
              "    </tr>\n",
              "    <tr>\n",
              "      <th>108</th>\n",
              "      <td>proc_creation_lnx_crontab_removal.yml</td>\n",
              "      <td>True</td>\n",
              "      <td>False</td>\n",
              "      <td>0</td>\n",
              "    </tr>\n",
              "    <tr>\n",
              "      <th>109</th>\n",
              "      <td>proc_creation_lnx_omigod_scx_runasprovider_exe...</td>\n",
              "      <td>False</td>\n",
              "      <td>True</td>\n",
              "      <td>0</td>\n",
              "    </tr>\n",
              "    <tr>\n",
              "      <th>110</th>\n",
              "      <td>proc_creation_lnx_esxcli_vsan_discovery.yml</td>\n",
              "      <td>True</td>\n",
              "      <td>False</td>\n",
              "      <td>0</td>\n",
              "    </tr>\n",
              "    <tr>\n",
              "      <th>111</th>\n",
              "      <td>proc_creation_lnx_remove_package.yml</td>\n",
              "      <td>False</td>\n",
              "      <td>False</td>\n",
              "      <td>101</td>\n",
              "    </tr>\n",
              "    <tr>\n",
              "      <th>112</th>\n",
              "      <td>proc_creation_lnx_clipboard_collection.yml</td>\n",
              "      <td>True</td>\n",
              "      <td>False</td>\n",
              "      <td>0</td>\n",
              "    </tr>\n",
              "  </tbody>\n",
              "</table>\n",
              "<p>113 rows \u00d7 4 columns</p>\n",
              "</div>"
            ],
            "text/plain": [
              "                                                  rule  empty  errors  hits\n",
              "0    proc_creation_lnx_malware_gobrat_grep_payload_...   True   False     0\n",
              "1                     proc_creation_lnx_touch_susp.yml   True   False     0\n",
              "2    proc_creation_lnx_file_and_directory_discovery...  False   False  1000\n",
              "3                proc_creation_lnx_ssm_agent_abuse.yml   True   False     0\n",
              "4             proc_creation_lnx_base64_shebang_cli.yml   True   False     0\n",
              "..                                                 ...    ...     ...   ...\n",
              "108              proc_creation_lnx_crontab_removal.yml   True   False     0\n",
              "109  proc_creation_lnx_omigod_scx_runasprovider_exe...  False    True     0\n",
              "110        proc_creation_lnx_esxcli_vsan_discovery.yml   True   False     0\n",
              "111               proc_creation_lnx_remove_package.yml  False   False   101\n",
              "112         proc_creation_lnx_clipboard_collection.yml   True   False     0\n",
              "\n",
              "[113 rows x 4 columns]"
            ]
          },
          "execution_count": 29,
          "metadata": {},
          "output_type": "execute_result"
        }
      ],
      "source": [
        "df_res2"
      ]
    },
    {
      "cell_type": "code",
      "execution_count": 30,
      "metadata": {},
      "outputs": [
        {
          "data": {
            "text/html": [
              "<div>\n",
              "<style scoped>\n",
              "    .dataframe tbody tr th:only-of-type {\n",
              "        vertical-align: middle;\n",
              "    }\n",
              "\n",
              "    .dataframe tbody tr th {\n",
              "        vertical-align: top;\n",
              "    }\n",
              "\n",
              "    .dataframe thead th {\n",
              "        text-align: right;\n",
              "    }\n",
              "</style>\n",
              "<table border=\"1\" class=\"dataframe\">\n",
              "  <thead>\n",
              "    <tr style=\"text-align: right;\">\n",
              "      <th></th>\n",
              "      <th>count_</th>\n",
              "      <th>data_command_line</th>\n",
              "      <th>data_exe_path</th>\n",
              "      <th>info_parent_task_name</th>\n",
              "      <th>info_task_name</th>\n",
              "      <th>rule</th>\n",
              "    </tr>\n",
              "  </thead>\n",
              "  <tbody>\n",
              "    <tr>\n",
              "      <th>0</th>\n",
              "      <td>624</td>\n",
              "      <td>find /usr/lib/php -mindepth 1 -maxdepth 1 -reg...</td>\n",
              "      <td>/usr/bin/find</td>\n",
              "      <td>phpquery</td>\n",
              "      <td>find</td>\n",
              "      <td>proc_creation_lnx_file_and_directory_discovery...</td>\n",
              "    </tr>\n",
              "    <tr>\n",
              "      <th>1</th>\n",
              "      <td>576</td>\n",
              "      <td>find /var/log/zeek -type d -regex .*/[0-9][0-9...</td>\n",
              "      <td>/usr/bin/find</td>\n",
              "      <td>bash</td>\n",
              "      <td>find</td>\n",
              "      <td>proc_creation_lnx_file_and_directory_discovery...</td>\n",
              "    </tr>\n",
              "    <tr>\n",
              "      <th>2</th>\n",
              "      <td>575</td>\n",
              "      <td>find /var/log/zeek -type f -regex .*/[0-9][0-9...</td>\n",
              "      <td>/usr/bin/find</td>\n",
              "      <td>bash</td>\n",
              "      <td>find</td>\n",
              "      <td>proc_creation_lnx_file_and_directory_discovery...</td>\n",
              "    </tr>\n",
              "    <tr>\n",
              "      <th>3</th>\n",
              "      <td>528</td>\n",
              "      <td>find -O3 /var/lib/php/sessions/ -ignore_readdi...</td>\n",
              "      <td>/usr/bin/find</td>\n",
              "      <td>sessionclean</td>\n",
              "      <td>find</td>\n",
              "      <td>proc_creation_lnx_file_and_directory_discovery...</td>\n",
              "    </tr>\n",
              "    <tr>\n",
              "      <th>4</th>\n",
              "      <td>192</td>\n",
              "      <td>find /proc/231/fd -ignore_readdir_race -lname ...</td>\n",
              "      <td>/usr/bin/find</td>\n",
              "      <td>sessionclean</td>\n",
              "      <td>find</td>\n",
              "      <td>proc_creation_lnx_file_and_directory_discovery...</td>\n",
              "    </tr>\n",
              "    <tr>\n",
              "      <th>...</th>\n",
              "      <td>...</td>\n",
              "      <td>...</td>\n",
              "      <td>...</td>\n",
              "      <td>...</td>\n",
              "      <td>...</td>\n",
              "      <td>...</td>\n",
              "    </tr>\n",
              "    <tr>\n",
              "      <th>4</th>\n",
              "      <td>27</td>\n",
              "      <td>id -u</td>\n",
              "      <td>/usr/bin/id</td>\n",
              "      <td>update-motd-fsc</td>\n",
              "      <td>id</td>\n",
              "      <td>proc_creation_lnx_local_account.yml</td>\n",
              "    </tr>\n",
              "    <tr>\n",
              "      <th>0</th>\n",
              "      <td>2</td>\n",
              "      <td>chattr -R -i /lib /etc/init.d /boot</td>\n",
              "      <td>/usr/bin/chattr</td>\n",
              "      <td>sh</td>\n",
              "      <td>chattr</td>\n",
              "      <td>proc_creation_lnx_chattr_immutable_removal.yml</td>\n",
              "    </tr>\n",
              "    <tr>\n",
              "      <th>0</th>\n",
              "      <td>45</td>\n",
              "      <td>apt remove libssl1.0.0</td>\n",
              "      <td>/usr/bin/apt</td>\n",
              "      <td>bash</td>\n",
              "      <td>apt</td>\n",
              "      <td>proc_creation_lnx_remove_package.yml</td>\n",
              "    </tr>\n",
              "    <tr>\n",
              "      <th>1</th>\n",
              "      <td>42</td>\n",
              "      <td>apt remove libssl1.1</td>\n",
              "      <td>/usr/bin/apt</td>\n",
              "      <td>bash</td>\n",
              "      <td>apt</td>\n",
              "      <td>proc_creation_lnx_remove_package.yml</td>\n",
              "    </tr>\n",
              "    <tr>\n",
              "      <th>2</th>\n",
              "      <td>14</td>\n",
              "      <td>/usr/bin/dpkg --status-fd 56 --no-triggers --f...</td>\n",
              "      <td>/usr/bin/dpkg</td>\n",
              "      <td>apt</td>\n",
              "      <td>dpkg</td>\n",
              "      <td>proc_creation_lnx_remove_package.yml</td>\n",
              "    </tr>\n",
              "  </tbody>\n",
              "</table>\n",
              "<p>75 rows \u00d7 6 columns</p>\n",
              "</div>"
            ],
            "text/plain": [
              "    count_                                  data_command_line  \\\n",
              "0      624  find /usr/lib/php -mindepth 1 -maxdepth 1 -reg...   \n",
              "1      576  find /var/log/zeek -type d -regex .*/[0-9][0-9...   \n",
              "2      575  find /var/log/zeek -type f -regex .*/[0-9][0-9...   \n",
              "3      528  find -O3 /var/lib/php/sessions/ -ignore_readdi...   \n",
              "4      192  find /proc/231/fd -ignore_readdir_race -lname ...   \n",
              "..     ...                                                ...   \n",
              "4       27                                              id -u   \n",
              "0        2                chattr -R -i /lib /etc/init.d /boot   \n",
              "0       45                             apt remove libssl1.0.0   \n",
              "1       42                               apt remove libssl1.1   \n",
              "2       14  /usr/bin/dpkg --status-fd 56 --no-triggers --f...   \n",
              "\n",
              "      data_exe_path info_parent_task_name info_task_name  \\\n",
              "0     /usr/bin/find              phpquery           find   \n",
              "1     /usr/bin/find                  bash           find   \n",
              "2     /usr/bin/find                  bash           find   \n",
              "3     /usr/bin/find          sessionclean           find   \n",
              "4     /usr/bin/find          sessionclean           find   \n",
              "..              ...                   ...            ...   \n",
              "4       /usr/bin/id       update-motd-fsc             id   \n",
              "0   /usr/bin/chattr                    sh         chattr   \n",
              "0      /usr/bin/apt                  bash            apt   \n",
              "1      /usr/bin/apt                  bash            apt   \n",
              "2     /usr/bin/dpkg                   apt           dpkg   \n",
              "\n",
              "                                                 rule  \n",
              "0   proc_creation_lnx_file_and_directory_discovery...  \n",
              "1   proc_creation_lnx_file_and_directory_discovery...  \n",
              "2   proc_creation_lnx_file_and_directory_discovery...  \n",
              "3   proc_creation_lnx_file_and_directory_discovery...  \n",
              "4   proc_creation_lnx_file_and_directory_discovery...  \n",
              "..                                                ...  \n",
              "4                 proc_creation_lnx_local_account.yml  \n",
              "0      proc_creation_lnx_chattr_immutable_removal.yml  \n",
              "0                proc_creation_lnx_remove_package.yml  \n",
              "1                proc_creation_lnx_remove_package.yml  \n",
              "2                proc_creation_lnx_remove_package.yml  \n",
              "\n",
              "[75 rows x 6 columns]"
            ]
          },
          "execution_count": 30,
          "metadata": {},
          "output_type": "execute_result"
        }
      ],
      "source": [
        "df_stats2"
      ]
    },
    {
      "cell_type": "code",
      "execution_count": null,
      "metadata": {},
      "outputs": [],
      "source": []
    },
    {
      "cell_type": "markdown",
      "metadata": {},
      "source": [
        "## Sigma rule to alerts"
      ]
    },
    {
      "cell_type": "code",
      "execution_count": null,
      "metadata": {},
      "outputs": [],
      "source": [
        "# for all rules with no results on given timeperiod, let's put alert\n",
        "# `sigma convert -t openobserve -f o2alert -p ../pySigma-backend-openobserve/sigma/pipelines/openobserve/kunai.yml ../sigma/rules/linux/process_creation/proc_creation_lnx_doas_execution.yml`\n",
        "# replace <TABLE_NAME>, '<alert-owner-TBD>"
      ]
    },
    {
      "cell_type": "code",
      "execution_count": null,
      "metadata": {},
      "outputs": [],
      "source": [
        "# SELECT * FROM \"kunai\" WHERE data_exe_path LIKE '%/doas'\n",
        "res_to_alerts = [\n",
        "    \"/home/user/tmp/sigma/rules/linux/process_creation/proc_creation_lnx_doas_execution.yml\"\n",
        "]\n",
        "# res_to_alerts = ['/home/user/tmp/sigma/rules/linux/network_connection/net_connection_lnx_back_connect_shell_dev.yml']"
      ]
    },
    {
      "cell_type": "code",
      "execution_count": null,
      "metadata": {},
      "outputs": [],
      "source": [
        "# FIXME! backend issue on alert importing\n",
        "#   'Return 400. Text: Json deserialize error: Failed to decode at <EOF>\n",
        "for rule_f in res_to_alerts:\n",
        "    convert_rule2alert(\n",
        "        OO, rule_f, pipeline_f, \"kunai\", \"root@example.com\", \"alert-destination-email\"\n",
        "    )"
      ]
    },
    {
      "cell_type": "code",
      "execution_count": null,
      "metadata": {},
      "outputs": [],
      "source": []
    },
    {
      "cell_type": "markdown",
      "metadata": {},
      "source": [
        "## References\n",
        "\n",
        "- [OpenObserve REST API](https://openobserve.ai/docs/api/)\n",
        "- [Unofficial python-openobserve module](https://github.com/JustinGuese/python-openobserve) with some customizations and enhancements (>=0.2)\n",
        "- Openobserve github discussions: https://github.com/openobserve/openobserve/discussions/"
      ]
    }
  ],
  "metadata": {
    "hide_input": false,
    "kernelspec": {
      "display_name": "Python 3 (ipykernel)",
      "language": "python",
      "name": "python3"
    },
    "language_info": {
      "codemirror_mode": {
        "name": "ipython",
        "version": 3
      },
      "file_extension": ".py",
      "mimetype": "text/x-python",
      "name": "python",
      "nbconvert_exporter": "python",
      "pygments_lexer": "ipython3",
      "version": "3.13.3"
    },
    "toc": {
      "base_numbering": 1,
      "nav_menu": {},
      "number_sections": false,
      "sideBar": true,
      "skip_h1_title": false,
      "title_cell": "Table of Contents",
      "title_sidebar": "Contents",
      "toc_cell": false,
      "toc_position": {
        "height": "calc(100% - 180px)",
        "left": "10px",
        "top": "150px",
        "width": "185.554px"
      },
      "toc_section_display": true,
      "toc_window_display": true
    },
    "varInspector": {
      "cols": {
        "lenName": 16,
        "lenType": 16,
        "lenVar": 40
      },
      "kernels_config": {
        "python": {
          "delete_cmd_postfix": "",
          "delete_cmd_prefix": "del ",
          "library": "var_list.py",
          "varRefreshCmd": "print(var_dic_list())"
        },
        "r": {
          "delete_cmd_postfix": ") ",
          "delete_cmd_prefix": "rm(",
          "library": "var_list.r",
          "varRefreshCmd": "cat(var_dic_list()) "
        }
      },
      "types_to_exclude": [
        "module",
        "function",
        "builtin_function_or_method",
        "instance",
        "_Feature"
      ],
      "window_display": false
    }
  },
  "nbformat": 4,
  "nbformat_minor": 4
}
